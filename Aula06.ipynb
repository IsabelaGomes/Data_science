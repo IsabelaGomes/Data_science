{
  "nbformat": 4,
  "nbformat_minor": 0,
  "metadata": {
    "kernelspec": {
      "display_name": "Python 3",
      "language": "python",
      "name": "python3"
    },
    "language_info": {
      "codemirror_mode": {
        "name": "ipython",
        "version": 3
      },
      "file_extension": ".py",
      "mimetype": "text/x-python",
      "name": "python",
      "nbconvert_exporter": "python",
      "pygments_lexer": "ipython3",
      "version": "3.6.6"
    },
    "colab": {
      "name": "ArvoresDeDecisao.ipynb",
      "provenance": []
    }
  },
  "cells": [
    {
      "cell_type": "markdown",
      "metadata": {
        "collapsed": true,
        "id": "Ang_nm0zmD27"
      },
      "source": [
        "# <center> Aula 06 - Árvores de decisão\n",
        "\n",
        "## <center> Submeta suas respostas para as perguntas no formulário"
      ]
    },
    {
      "cell_type": "code",
      "metadata": {
        "id": "F7xhJqNumD29"
      },
      "source": [
        "%matplotlib inline\n",
        "%config InlineBackend.figure_format = 'retina'\n",
        "from matplotlib import pyplot as plt\n",
        "plt.rcParams['figure.figsize'] = (10, 8)\n",
        "\n",
        "import numpy as np\n",
        "import pandas as pd\n",
        "from sklearn.preprocessing import LabelEncoder\n",
        "import collections\n",
        "from sklearn.model_selection import GridSearchCV, cross_val_score\n",
        "from sklearn.tree import DecisionTreeClassifier, plot_tree, export_graphviz\n",
        "from sklearn.ensemble import RandomForestClassifier\n",
        "from sklearn.metrics import accuracy_score\n",
        "\n",
        "import graphviz"
      ],
      "execution_count": null,
      "outputs": []
    },
    {
      "cell_type": "markdown",
      "metadata": {
        "id": "H6gLnGmOmD2-"
      },
      "source": [
        "### Parte 1. Toy dataset"
      ]
    },
    {
      "cell_type": "markdown",
      "metadata": {
        "id": "jOo-TUNLmD2-"
      },
      "source": [
        "Seu objetivo é descobrir como as árvores de decisão funcionam examinando um toy dataset. Embora uma única árvore de decisão não produza resultados excelentes, outros algoritmos de desempenho, como *Gradient Boosting* e *Random Forest*, baseiam-se na mesma ideia. É por isso que saber como as árvores de decisão funcionam pode ser útil."
      ]
    },
    {
      "cell_type": "markdown",
      "metadata": {
        "id": "RV65RoSmmD2-"
      },
      "source": [
        "Veremos um exemplo de classificação binária - a pessoa A está decidindo se vai ter um segundo encontro com a pessoa B. Isso vai depender de sua aparência, eloqüência, consumo de álcool (apenas por exemplo) e quanto dinheiro foi gasto no primeiro encontro."
      ]
    },
    {
      "cell_type": "markdown",
      "metadata": {
        "id": "pfKlnfUxmD2_"
      },
      "source": [
        "#### Criação do conjunto de dados"
      ]
    },
    {
      "cell_type": "code",
      "metadata": {
        "id": "5C1KZg2TmD2_"
      },
      "source": [
        "# Criação dataframe com variáveis ​​fictícias\n",
        "def create_df(dic, feature_list):\n",
        "    out = pd.DataFrame(dic)\n",
        "    out = pd.concat([out, pd.get_dummies(out[feature_list])], axis = 1)\n",
        "    out.drop(feature_list, axis = 1, inplace = True)\n",
        "    return out\n",
        "\n",
        "# Alguns valores de features estão presentes no treino e ausentes no teste e vice-versa.\n",
        "def intersect_features(train, test):\n",
        "    common_feat = list( set(train.keys()) & set(test.keys()))\n",
        "    return train[common_feat], test[common_feat]"
      ],
      "execution_count": null,
      "outputs": []
    },
    {
      "cell_type": "code",
      "metadata": {
        "id": "KJR-OW6lmD2_"
      },
      "source": [
        "features = ['Looks', 'Alcoholic_beverage','Eloquence','Money_spent']"
      ],
      "execution_count": null,
      "outputs": []
    },
    {
      "cell_type": "markdown",
      "metadata": {
        "id": "SxwOVV0kmD3A"
      },
      "source": [
        "#### Dados do treino"
      ]
    },
    {
      "cell_type": "code",
      "metadata": {
        "colab": {
          "base_uri": "https://localhost:8080/",
          "height": 266
        },
        "id": "W1Oy7FIqmD3A",
        "outputId": "375d5251-8556-4a7f-e021-328ecba7d7f9"
      },
      "source": [
        "df_train = {}\n",
        "df_train['Looks'] = ['handsome', 'handsome', 'handsome', 'repulsive',\n",
        "                         'repulsive', 'repulsive', 'handsome'] \n",
        "df_train['Alcoholic_beverage'] = ['yes', 'yes', 'no', 'no', 'yes', 'yes', 'yes']\n",
        "df_train['Eloquence'] = ['high', 'low', 'average', 'average', 'low',\n",
        "                                   'high', 'average']\n",
        "df_train['Money_spent'] = ['lots', 'little', 'lots', 'little', 'lots',\n",
        "                                  'lots', 'lots']\n",
        "df_train['Will_go'] = LabelEncoder().fit_transform(['+', '-', '+', '-', '-', '+', '+'])\n",
        "\n",
        "df_train = create_df(df_train, features)\n",
        "df_train"
      ],
      "execution_count": null,
      "outputs": [
        {
          "output_type": "execute_result",
          "data": {
            "text/html": [
              "<div>\n",
              "<style scoped>\n",
              "    .dataframe tbody tr th:only-of-type {\n",
              "        vertical-align: middle;\n",
              "    }\n",
              "\n",
              "    .dataframe tbody tr th {\n",
              "        vertical-align: top;\n",
              "    }\n",
              "\n",
              "    .dataframe thead th {\n",
              "        text-align: right;\n",
              "    }\n",
              "</style>\n",
              "<table border=\"1\" class=\"dataframe\">\n",
              "  <thead>\n",
              "    <tr style=\"text-align: right;\">\n",
              "      <th></th>\n",
              "      <th>Will_go</th>\n",
              "      <th>Looks_handsome</th>\n",
              "      <th>Looks_repulsive</th>\n",
              "      <th>Alcoholic_beverage_no</th>\n",
              "      <th>Alcoholic_beverage_yes</th>\n",
              "      <th>Eloquence_average</th>\n",
              "      <th>Eloquence_high</th>\n",
              "      <th>Eloquence_low</th>\n",
              "      <th>Money_spent_little</th>\n",
              "      <th>Money_spent_lots</th>\n",
              "    </tr>\n",
              "  </thead>\n",
              "  <tbody>\n",
              "    <tr>\n",
              "      <th>0</th>\n",
              "      <td>0</td>\n",
              "      <td>1</td>\n",
              "      <td>0</td>\n",
              "      <td>0</td>\n",
              "      <td>1</td>\n",
              "      <td>0</td>\n",
              "      <td>1</td>\n",
              "      <td>0</td>\n",
              "      <td>0</td>\n",
              "      <td>1</td>\n",
              "    </tr>\n",
              "    <tr>\n",
              "      <th>1</th>\n",
              "      <td>1</td>\n",
              "      <td>1</td>\n",
              "      <td>0</td>\n",
              "      <td>0</td>\n",
              "      <td>1</td>\n",
              "      <td>0</td>\n",
              "      <td>0</td>\n",
              "      <td>1</td>\n",
              "      <td>1</td>\n",
              "      <td>0</td>\n",
              "    </tr>\n",
              "    <tr>\n",
              "      <th>2</th>\n",
              "      <td>0</td>\n",
              "      <td>1</td>\n",
              "      <td>0</td>\n",
              "      <td>1</td>\n",
              "      <td>0</td>\n",
              "      <td>1</td>\n",
              "      <td>0</td>\n",
              "      <td>0</td>\n",
              "      <td>0</td>\n",
              "      <td>1</td>\n",
              "    </tr>\n",
              "    <tr>\n",
              "      <th>3</th>\n",
              "      <td>1</td>\n",
              "      <td>0</td>\n",
              "      <td>1</td>\n",
              "      <td>1</td>\n",
              "      <td>0</td>\n",
              "      <td>1</td>\n",
              "      <td>0</td>\n",
              "      <td>0</td>\n",
              "      <td>1</td>\n",
              "      <td>0</td>\n",
              "    </tr>\n",
              "    <tr>\n",
              "      <th>4</th>\n",
              "      <td>1</td>\n",
              "      <td>0</td>\n",
              "      <td>1</td>\n",
              "      <td>0</td>\n",
              "      <td>1</td>\n",
              "      <td>0</td>\n",
              "      <td>0</td>\n",
              "      <td>1</td>\n",
              "      <td>0</td>\n",
              "      <td>1</td>\n",
              "    </tr>\n",
              "    <tr>\n",
              "      <th>5</th>\n",
              "      <td>0</td>\n",
              "      <td>0</td>\n",
              "      <td>1</td>\n",
              "      <td>0</td>\n",
              "      <td>1</td>\n",
              "      <td>0</td>\n",
              "      <td>1</td>\n",
              "      <td>0</td>\n",
              "      <td>0</td>\n",
              "      <td>1</td>\n",
              "    </tr>\n",
              "    <tr>\n",
              "      <th>6</th>\n",
              "      <td>0</td>\n",
              "      <td>1</td>\n",
              "      <td>0</td>\n",
              "      <td>0</td>\n",
              "      <td>1</td>\n",
              "      <td>1</td>\n",
              "      <td>0</td>\n",
              "      <td>0</td>\n",
              "      <td>0</td>\n",
              "      <td>1</td>\n",
              "    </tr>\n",
              "  </tbody>\n",
              "</table>\n",
              "</div>"
            ],
            "text/plain": [
              "   Will_go  Looks_handsome  ...  Money_spent_little  Money_spent_lots\n",
              "0        0               1  ...                   0                 1\n",
              "1        1               1  ...                   1                 0\n",
              "2        0               1  ...                   0                 1\n",
              "3        1               0  ...                   1                 0\n",
              "4        1               0  ...                   0                 1\n",
              "5        0               0  ...                   0                 1\n",
              "6        0               1  ...                   0                 1\n",
              "\n",
              "[7 rows x 10 columns]"
            ]
          },
          "metadata": {
            "tags": []
          },
          "execution_count": 5
        }
      ]
    },
    {
      "cell_type": "markdown",
      "metadata": {
        "id": "zNZwihPfmD3A"
      },
      "source": [
        "#### Dados do treino"
      ]
    },
    {
      "cell_type": "code",
      "metadata": {
        "colab": {
          "base_uri": "https://localhost:8080/",
          "height": 142
        },
        "id": "bbJot1T0mD3B",
        "outputId": "83e08c4a-6566-44ac-ae6c-f3c9c857ed35"
      },
      "source": [
        "df_test = {}\n",
        "df_test['Looks'] = ['handsome', 'handsome', 'repulsive'] \n",
        "df_test['Alcoholic_beverage'] = ['no', 'yes', 'yes']\n",
        "df_test['Eloquence'] = ['average', 'high', 'average']\n",
        "df_test['Money_spent'] = ['lots', 'little', 'lots']\n",
        "df_test = create_df(df_test, features)\n",
        "df_test"
      ],
      "execution_count": null,
      "outputs": [
        {
          "output_type": "execute_result",
          "data": {
            "text/html": [
              "<div>\n",
              "<style scoped>\n",
              "    .dataframe tbody tr th:only-of-type {\n",
              "        vertical-align: middle;\n",
              "    }\n",
              "\n",
              "    .dataframe tbody tr th {\n",
              "        vertical-align: top;\n",
              "    }\n",
              "\n",
              "    .dataframe thead th {\n",
              "        text-align: right;\n",
              "    }\n",
              "</style>\n",
              "<table border=\"1\" class=\"dataframe\">\n",
              "  <thead>\n",
              "    <tr style=\"text-align: right;\">\n",
              "      <th></th>\n",
              "      <th>Looks_handsome</th>\n",
              "      <th>Looks_repulsive</th>\n",
              "      <th>Alcoholic_beverage_no</th>\n",
              "      <th>Alcoholic_beverage_yes</th>\n",
              "      <th>Eloquence_average</th>\n",
              "      <th>Eloquence_high</th>\n",
              "      <th>Money_spent_little</th>\n",
              "      <th>Money_spent_lots</th>\n",
              "    </tr>\n",
              "  </thead>\n",
              "  <tbody>\n",
              "    <tr>\n",
              "      <th>0</th>\n",
              "      <td>1</td>\n",
              "      <td>0</td>\n",
              "      <td>1</td>\n",
              "      <td>0</td>\n",
              "      <td>1</td>\n",
              "      <td>0</td>\n",
              "      <td>0</td>\n",
              "      <td>1</td>\n",
              "    </tr>\n",
              "    <tr>\n",
              "      <th>1</th>\n",
              "      <td>1</td>\n",
              "      <td>0</td>\n",
              "      <td>0</td>\n",
              "      <td>1</td>\n",
              "      <td>0</td>\n",
              "      <td>1</td>\n",
              "      <td>1</td>\n",
              "      <td>0</td>\n",
              "    </tr>\n",
              "    <tr>\n",
              "      <th>2</th>\n",
              "      <td>0</td>\n",
              "      <td>1</td>\n",
              "      <td>0</td>\n",
              "      <td>1</td>\n",
              "      <td>1</td>\n",
              "      <td>0</td>\n",
              "      <td>0</td>\n",
              "      <td>1</td>\n",
              "    </tr>\n",
              "  </tbody>\n",
              "</table>\n",
              "</div>"
            ],
            "text/plain": [
              "   Looks_handsome  Looks_repulsive  ...  Money_spent_little  Money_spent_lots\n",
              "0               1                0  ...                   0                 1\n",
              "1               1                0  ...                   1                 0\n",
              "2               0                1  ...                   0                 1\n",
              "\n",
              "[3 rows x 8 columns]"
            ]
          },
          "metadata": {
            "tags": []
          },
          "execution_count": 6
        }
      ]
    },
    {
      "cell_type": "code",
      "metadata": {
        "colab": {
          "base_uri": "https://localhost:8080/",
          "height": 266
        },
        "id": "WOuP7P0qmD3B",
        "outputId": "a8aead57-2d16-4f4f-9b62-c942a0e8cb86"
      },
      "source": [
        "# Alguns valores de features estão presentes no treino e ausentes no teste e vice-versa.\n",
        "y = df_train['Will_go']\n",
        "df_train, df_test = intersect_features(train=df_train, test=df_test)\n",
        "df_train"
      ],
      "execution_count": null,
      "outputs": [
        {
          "output_type": "execute_result",
          "data": {
            "text/html": [
              "<div>\n",
              "<style scoped>\n",
              "    .dataframe tbody tr th:only-of-type {\n",
              "        vertical-align: middle;\n",
              "    }\n",
              "\n",
              "    .dataframe tbody tr th {\n",
              "        vertical-align: top;\n",
              "    }\n",
              "\n",
              "    .dataframe thead th {\n",
              "        text-align: right;\n",
              "    }\n",
              "</style>\n",
              "<table border=\"1\" class=\"dataframe\">\n",
              "  <thead>\n",
              "    <tr style=\"text-align: right;\">\n",
              "      <th></th>\n",
              "      <th>Eloquence_average</th>\n",
              "      <th>Alcoholic_beverage_yes</th>\n",
              "      <th>Looks_repulsive</th>\n",
              "      <th>Alcoholic_beverage_no</th>\n",
              "      <th>Money_spent_lots</th>\n",
              "      <th>Money_spent_little</th>\n",
              "      <th>Eloquence_high</th>\n",
              "      <th>Looks_handsome</th>\n",
              "    </tr>\n",
              "  </thead>\n",
              "  <tbody>\n",
              "    <tr>\n",
              "      <th>0</th>\n",
              "      <td>0</td>\n",
              "      <td>1</td>\n",
              "      <td>0</td>\n",
              "      <td>0</td>\n",
              "      <td>1</td>\n",
              "      <td>0</td>\n",
              "      <td>1</td>\n",
              "      <td>1</td>\n",
              "    </tr>\n",
              "    <tr>\n",
              "      <th>1</th>\n",
              "      <td>0</td>\n",
              "      <td>1</td>\n",
              "      <td>0</td>\n",
              "      <td>0</td>\n",
              "      <td>0</td>\n",
              "      <td>1</td>\n",
              "      <td>0</td>\n",
              "      <td>1</td>\n",
              "    </tr>\n",
              "    <tr>\n",
              "      <th>2</th>\n",
              "      <td>1</td>\n",
              "      <td>0</td>\n",
              "      <td>0</td>\n",
              "      <td>1</td>\n",
              "      <td>1</td>\n",
              "      <td>0</td>\n",
              "      <td>0</td>\n",
              "      <td>1</td>\n",
              "    </tr>\n",
              "    <tr>\n",
              "      <th>3</th>\n",
              "      <td>1</td>\n",
              "      <td>0</td>\n",
              "      <td>1</td>\n",
              "      <td>1</td>\n",
              "      <td>0</td>\n",
              "      <td>1</td>\n",
              "      <td>0</td>\n",
              "      <td>0</td>\n",
              "    </tr>\n",
              "    <tr>\n",
              "      <th>4</th>\n",
              "      <td>0</td>\n",
              "      <td>1</td>\n",
              "      <td>1</td>\n",
              "      <td>0</td>\n",
              "      <td>1</td>\n",
              "      <td>0</td>\n",
              "      <td>0</td>\n",
              "      <td>0</td>\n",
              "    </tr>\n",
              "    <tr>\n",
              "      <th>5</th>\n",
              "      <td>0</td>\n",
              "      <td>1</td>\n",
              "      <td>1</td>\n",
              "      <td>0</td>\n",
              "      <td>1</td>\n",
              "      <td>0</td>\n",
              "      <td>1</td>\n",
              "      <td>0</td>\n",
              "    </tr>\n",
              "    <tr>\n",
              "      <th>6</th>\n",
              "      <td>1</td>\n",
              "      <td>1</td>\n",
              "      <td>0</td>\n",
              "      <td>0</td>\n",
              "      <td>1</td>\n",
              "      <td>0</td>\n",
              "      <td>0</td>\n",
              "      <td>1</td>\n",
              "    </tr>\n",
              "  </tbody>\n",
              "</table>\n",
              "</div>"
            ],
            "text/plain": [
              "   Eloquence_average  Alcoholic_beverage_yes  ...  Eloquence_high  Looks_handsome\n",
              "0                  0                       1  ...               1               1\n",
              "1                  0                       1  ...               0               1\n",
              "2                  1                       0  ...               0               1\n",
              "3                  1                       0  ...               0               0\n",
              "4                  0                       1  ...               0               0\n",
              "5                  0                       1  ...               1               0\n",
              "6                  1                       1  ...               0               1\n",
              "\n",
              "[7 rows x 8 columns]"
            ]
          },
          "metadata": {
            "tags": []
          },
          "execution_count": 7
        }
      ]
    },
    {
      "cell_type": "code",
      "metadata": {
        "colab": {
          "base_uri": "https://localhost:8080/",
          "height": 142
        },
        "id": "H0E442gTmD3C",
        "outputId": "64ede1e4-5e5e-4492-f7d9-048da59d5d31"
      },
      "source": [
        "df_test"
      ],
      "execution_count": null,
      "outputs": [
        {
          "output_type": "execute_result",
          "data": {
            "text/html": [
              "<div>\n",
              "<style scoped>\n",
              "    .dataframe tbody tr th:only-of-type {\n",
              "        vertical-align: middle;\n",
              "    }\n",
              "\n",
              "    .dataframe tbody tr th {\n",
              "        vertical-align: top;\n",
              "    }\n",
              "\n",
              "    .dataframe thead th {\n",
              "        text-align: right;\n",
              "    }\n",
              "</style>\n",
              "<table border=\"1\" class=\"dataframe\">\n",
              "  <thead>\n",
              "    <tr style=\"text-align: right;\">\n",
              "      <th></th>\n",
              "      <th>Eloquence_average</th>\n",
              "      <th>Alcoholic_beverage_yes</th>\n",
              "      <th>Looks_repulsive</th>\n",
              "      <th>Alcoholic_beverage_no</th>\n",
              "      <th>Money_spent_lots</th>\n",
              "      <th>Money_spent_little</th>\n",
              "      <th>Eloquence_high</th>\n",
              "      <th>Looks_handsome</th>\n",
              "    </tr>\n",
              "  </thead>\n",
              "  <tbody>\n",
              "    <tr>\n",
              "      <th>0</th>\n",
              "      <td>1</td>\n",
              "      <td>0</td>\n",
              "      <td>0</td>\n",
              "      <td>1</td>\n",
              "      <td>1</td>\n",
              "      <td>0</td>\n",
              "      <td>0</td>\n",
              "      <td>1</td>\n",
              "    </tr>\n",
              "    <tr>\n",
              "      <th>1</th>\n",
              "      <td>0</td>\n",
              "      <td>1</td>\n",
              "      <td>0</td>\n",
              "      <td>0</td>\n",
              "      <td>0</td>\n",
              "      <td>1</td>\n",
              "      <td>1</td>\n",
              "      <td>1</td>\n",
              "    </tr>\n",
              "    <tr>\n",
              "      <th>2</th>\n",
              "      <td>1</td>\n",
              "      <td>1</td>\n",
              "      <td>1</td>\n",
              "      <td>0</td>\n",
              "      <td>1</td>\n",
              "      <td>0</td>\n",
              "      <td>0</td>\n",
              "      <td>0</td>\n",
              "    </tr>\n",
              "  </tbody>\n",
              "</table>\n",
              "</div>"
            ],
            "text/plain": [
              "   Eloquence_average  Alcoholic_beverage_yes  ...  Eloquence_high  Looks_handsome\n",
              "0                  1                       0  ...               0               1\n",
              "1                  0                       1  ...               1               1\n",
              "2                  1                       1  ...               0               0\n",
              "\n",
              "[3 rows x 8 columns]"
            ]
          },
          "metadata": {
            "tags": []
          },
          "execution_count": 8
        }
      ]
    },
    {
      "cell_type": "markdown",
      "metadata": {
        "id": "e6STmuxRmD3D"
      },
      "source": [
        "#### Treine uma árvore de decisão usando sklearn nos dados de treinamento. Você pode escolher qualquer profundidade para a árvore."
      ]
    },
    {
      "cell_type": "code",
      "metadata": {
        "id": "IJ3AHxPgmD3D"
      },
      "source": [
        "## Seu código"
      ],
      "execution_count": null,
      "outputs": []
    },
    {
      "cell_type": "markdown",
      "metadata": {
        "id": "sOZ8Eb2_mD3E"
      },
      "source": [
        "\n",
        "#### Adicional: exiba a árvore resultante usando o graphviz."
      ]
    },
    {
      "cell_type": "code",
      "metadata": {
        "colab": {
          "base_uri": "https://localhost:8080/",
          "height": 598
        },
        "id": "_OB6zAH9mD3E",
        "outputId": "aa4a2018-5268-4ffb-eb18-6af2f1b8a42a"
      },
      "source": [
        "graph_viz_data = export_graphviz(dt, feature_names=df_train.columns, filled=True,\n",
        "            class_names=[\"Won't go\", \"Will go\"])\n",
        "\n",
        "# Plot da árvore...\n",
        "graph = graphviz.Source(graph_viz_data, format=\"png\") \n",
        "graph"
      ],
      "execution_count": null,
      "outputs": [
        {
          "output_type": "execute_result",
          "data": {
            "text/plain": [
              "<graphviz.files.Source at 0x7fc5dfe40f50>"
            ],
            "image/svg+xml": "<?xml version=\"1.0\" encoding=\"UTF-8\" standalone=\"no\"?>\n<!DOCTYPE svg PUBLIC \"-//W3C//DTD SVG 1.1//EN\"\n \"http://www.w3.org/Graphics/SVG/1.1/DTD/svg11.dtd\">\n<!-- Generated by graphviz version 2.40.1 (20161225.0304)\n -->\n<!-- Title: Tree Pages: 1 -->\n<svg width=\"397pt\" height=\"433pt\"\n viewBox=\"0.00 0.00 397.00 433.00\" xmlns=\"http://www.w3.org/2000/svg\" xmlns:xlink=\"http://www.w3.org/1999/xlink\">\n<g id=\"graph0\" class=\"graph\" transform=\"scale(1 1) rotate(0) translate(4 429)\">\n<title>Tree</title>\n<polygon fill=\"#ffffff\" stroke=\"transparent\" points=\"-4,4 -4,-429 393,-429 393,4 -4,4\"/>\n<!-- 0 -->\n<g id=\"node1\" class=\"node\">\n<title>0</title>\n<polygon fill=\"#f8e0ce\" stroke=\"#000000\" points=\"206.5,-425 40.5,-425 40.5,-342 206.5,-342 206.5,-425\"/>\n<text text-anchor=\"middle\" x=\"123.5\" y=\"-409.8\" font-family=\"Times,serif\" font-size=\"14.00\" fill=\"#000000\">Money_spent_lots &lt;= 0.5</text>\n<text text-anchor=\"middle\" x=\"123.5\" y=\"-394.8\" font-family=\"Times,serif\" font-size=\"14.00\" fill=\"#000000\">entropy = 0.985</text>\n<text text-anchor=\"middle\" x=\"123.5\" y=\"-379.8\" font-family=\"Times,serif\" font-size=\"14.00\" fill=\"#000000\">samples = 7</text>\n<text text-anchor=\"middle\" x=\"123.5\" y=\"-364.8\" font-family=\"Times,serif\" font-size=\"14.00\" fill=\"#000000\">value = [4, 3]</text>\n<text text-anchor=\"middle\" x=\"123.5\" y=\"-349.8\" font-family=\"Times,serif\" font-size=\"14.00\" fill=\"#000000\">class = Won&#39;t go</text>\n</g>\n<!-- 1 -->\n<g id=\"node2\" class=\"node\">\n<title>1</title>\n<polygon fill=\"#399de5\" stroke=\"#000000\" points=\"101,-298.5 0,-298.5 0,-230.5 101,-230.5 101,-298.5\"/>\n<text text-anchor=\"middle\" x=\"50.5\" y=\"-283.3\" font-family=\"Times,serif\" font-size=\"14.00\" fill=\"#000000\">entropy = 0.0</text>\n<text text-anchor=\"middle\" x=\"50.5\" y=\"-268.3\" font-family=\"Times,serif\" font-size=\"14.00\" fill=\"#000000\">samples = 2</text>\n<text text-anchor=\"middle\" x=\"50.5\" y=\"-253.3\" font-family=\"Times,serif\" font-size=\"14.00\" fill=\"#000000\">value = [0, 2]</text>\n<text text-anchor=\"middle\" x=\"50.5\" y=\"-238.3\" font-family=\"Times,serif\" font-size=\"14.00\" fill=\"#000000\">class = Will go</text>\n</g>\n<!-- 0&#45;&gt;1 -->\n<g id=\"edge1\" class=\"edge\">\n<title>0&#45;&gt;1</title>\n<path fill=\"none\" stroke=\"#000000\" d=\"M97.9681,-341.8796C91.1552,-330.7735 83.7802,-318.7513 76.9206,-307.5691\"/>\n<polygon fill=\"#000000\" stroke=\"#000000\" points=\"79.7628,-305.5087 71.5503,-298.8149 73.796,-309.1691 79.7628,-305.5087\"/>\n<text text-anchor=\"middle\" x=\"65.7256\" y=\"-319.4269\" font-family=\"Times,serif\" font-size=\"14.00\" fill=\"#000000\">True</text>\n</g>\n<!-- 2 -->\n<g id=\"node3\" class=\"node\">\n<title>2</title>\n<polygon fill=\"#eca06a\" stroke=\"#000000\" points=\"274,-306 119,-306 119,-223 274,-223 274,-306\"/>\n<text text-anchor=\"middle\" x=\"196.5\" y=\"-290.8\" font-family=\"Times,serif\" font-size=\"14.00\" fill=\"#000000\">Looks_repulsive &lt;= 0.5</text>\n<text text-anchor=\"middle\" x=\"196.5\" y=\"-275.8\" font-family=\"Times,serif\" font-size=\"14.00\" fill=\"#000000\">entropy = 0.722</text>\n<text text-anchor=\"middle\" x=\"196.5\" y=\"-260.8\" font-family=\"Times,serif\" font-size=\"14.00\" fill=\"#000000\">samples = 5</text>\n<text text-anchor=\"middle\" x=\"196.5\" y=\"-245.8\" font-family=\"Times,serif\" font-size=\"14.00\" fill=\"#000000\">value = [4, 1]</text>\n<text text-anchor=\"middle\" x=\"196.5\" y=\"-230.8\" font-family=\"Times,serif\" font-size=\"14.00\" fill=\"#000000\">class = Won&#39;t go</text>\n</g>\n<!-- 0&#45;&gt;2 -->\n<g id=\"edge2\" class=\"edge\">\n<title>0&#45;&gt;2</title>\n<path fill=\"none\" stroke=\"#000000\" d=\"M149.0319,-341.8796C154.391,-333.1434 160.0979,-323.8404 165.6282,-314.8253\"/>\n<polygon fill=\"#000000\" stroke=\"#000000\" points=\"168.6135,-316.6522 170.8592,-306.2981 162.6467,-312.9919 168.6135,-316.6522\"/>\n<text text-anchor=\"middle\" x=\"176.6839\" y=\"-326.9101\" font-family=\"Times,serif\" font-size=\"14.00\" fill=\"#000000\">False</text>\n</g>\n<!-- 3 -->\n<g id=\"node4\" class=\"node\">\n<title>3</title>\n<polygon fill=\"#e58139\" stroke=\"#000000\" points=\"176,-179.5 65,-179.5 65,-111.5 176,-111.5 176,-179.5\"/>\n<text text-anchor=\"middle\" x=\"120.5\" y=\"-164.3\" font-family=\"Times,serif\" font-size=\"14.00\" fill=\"#000000\">entropy = 0.0</text>\n<text text-anchor=\"middle\" x=\"120.5\" y=\"-149.3\" font-family=\"Times,serif\" font-size=\"14.00\" fill=\"#000000\">samples = 3</text>\n<text text-anchor=\"middle\" x=\"120.5\" y=\"-134.3\" font-family=\"Times,serif\" font-size=\"14.00\" fill=\"#000000\">value = [3, 0]</text>\n<text text-anchor=\"middle\" x=\"120.5\" y=\"-119.3\" font-family=\"Times,serif\" font-size=\"14.00\" fill=\"#000000\">class = Won&#39;t go</text>\n</g>\n<!-- 2&#45;&gt;3 -->\n<g id=\"edge3\" class=\"edge\">\n<title>2&#45;&gt;3</title>\n<path fill=\"none\" stroke=\"#000000\" d=\"M169.9189,-222.8796C162.826,-211.7735 155.1479,-199.7513 148.0063,-188.5691\"/>\n<polygon fill=\"#000000\" stroke=\"#000000\" points=\"150.7477,-186.3589 142.4154,-179.8149 144.8482,-190.1267 150.7477,-186.3589\"/>\n</g>\n<!-- 4 -->\n<g id=\"node5\" class=\"node\">\n<title>4</title>\n<polygon fill=\"#ffffff\" stroke=\"#000000\" points=\"348.5,-187 194.5,-187 194.5,-104 348.5,-104 348.5,-187\"/>\n<text text-anchor=\"middle\" x=\"271.5\" y=\"-171.8\" font-family=\"Times,serif\" font-size=\"14.00\" fill=\"#000000\">Eloquence_high &lt;= 0.5</text>\n<text text-anchor=\"middle\" x=\"271.5\" y=\"-156.8\" font-family=\"Times,serif\" font-size=\"14.00\" fill=\"#000000\">entropy = 1.0</text>\n<text text-anchor=\"middle\" x=\"271.5\" y=\"-141.8\" font-family=\"Times,serif\" font-size=\"14.00\" fill=\"#000000\">samples = 2</text>\n<text text-anchor=\"middle\" x=\"271.5\" y=\"-126.8\" font-family=\"Times,serif\" font-size=\"14.00\" fill=\"#000000\">value = [1, 1]</text>\n<text text-anchor=\"middle\" x=\"271.5\" y=\"-111.8\" font-family=\"Times,serif\" font-size=\"14.00\" fill=\"#000000\">class = Won&#39;t go</text>\n</g>\n<!-- 2&#45;&gt;4 -->\n<g id=\"edge4\" class=\"edge\">\n<title>2&#45;&gt;4</title>\n<path fill=\"none\" stroke=\"#000000\" d=\"M222.7314,-222.8796C228.2373,-214.1434 234.1006,-204.8404 239.7824,-195.8253\"/>\n<polygon fill=\"#000000\" stroke=\"#000000\" points=\"242.7857,-197.6242 245.1567,-187.2981 236.8637,-193.8919 242.7857,-197.6242\"/>\n</g>\n<!-- 5 -->\n<g id=\"node6\" class=\"node\">\n<title>5</title>\n<polygon fill=\"#399de5\" stroke=\"#000000\" points=\"260,-68 159,-68 159,0 260,0 260,-68\"/>\n<text text-anchor=\"middle\" x=\"209.5\" y=\"-52.8\" font-family=\"Times,serif\" font-size=\"14.00\" fill=\"#000000\">entropy = 0.0</text>\n<text text-anchor=\"middle\" x=\"209.5\" y=\"-37.8\" font-family=\"Times,serif\" font-size=\"14.00\" fill=\"#000000\">samples = 1</text>\n<text text-anchor=\"middle\" x=\"209.5\" y=\"-22.8\" font-family=\"Times,serif\" font-size=\"14.00\" fill=\"#000000\">value = [0, 1]</text>\n<text text-anchor=\"middle\" x=\"209.5\" y=\"-7.8\" font-family=\"Times,serif\" font-size=\"14.00\" fill=\"#000000\">class = Will go</text>\n</g>\n<!-- 4&#45;&gt;5 -->\n<g id=\"edge5\" class=\"edge\">\n<title>4&#45;&gt;5</title>\n<path fill=\"none\" stroke=\"#000000\" d=\"M248.4135,-103.9815C243.5585,-95.2504 238.426,-86.0202 233.5371,-77.2281\"/>\n<polygon fill=\"#000000\" stroke=\"#000000\" points=\"236.4712,-75.3025 228.5524,-68.2637 230.3533,-78.7043 236.4712,-75.3025\"/>\n</g>\n<!-- 6 -->\n<g id=\"node7\" class=\"node\">\n<title>6</title>\n<polygon fill=\"#e58139\" stroke=\"#000000\" points=\"389,-68 278,-68 278,0 389,0 389,-68\"/>\n<text text-anchor=\"middle\" x=\"333.5\" y=\"-52.8\" font-family=\"Times,serif\" font-size=\"14.00\" fill=\"#000000\">entropy = 0.0</text>\n<text text-anchor=\"middle\" x=\"333.5\" y=\"-37.8\" font-family=\"Times,serif\" font-size=\"14.00\" fill=\"#000000\">samples = 1</text>\n<text text-anchor=\"middle\" x=\"333.5\" y=\"-22.8\" font-family=\"Times,serif\" font-size=\"14.00\" fill=\"#000000\">value = [1, 0]</text>\n<text text-anchor=\"middle\" x=\"333.5\" y=\"-7.8\" font-family=\"Times,serif\" font-size=\"14.00\" fill=\"#000000\">class = Won&#39;t go</text>\n</g>\n<!-- 4&#45;&gt;6 -->\n<g id=\"edge6\" class=\"edge\">\n<title>4&#45;&gt;6</title>\n<path fill=\"none\" stroke=\"#000000\" d=\"M294.5865,-103.9815C299.4415,-95.2504 304.574,-86.0202 309.4629,-77.2281\"/>\n<polygon fill=\"#000000\" stroke=\"#000000\" points=\"312.6467,-78.7043 314.4476,-68.2637 306.5288,-75.3025 312.6467,-78.7043\"/>\n</g>\n</g>\n</svg>\n"
          },
          "metadata": {
            "tags": []
          },
          "execution_count": 10
        }
      ]
    },
    {
      "cell_type": "markdown",
      "metadata": {
        "id": "6foTpU0qmD3E"
      },
      "source": [
        "### Parte 2. Funções para calcular entropia e ganho de informação."
      ]
    },
    {
      "cell_type": "markdown",
      "metadata": {
        "id": "1AyYTeT-mD3E"
      },
      "source": [
        "Considere o seguinte exemplo de aquecimento: temos 9 bolas azuis e 11 bolas amarelas. Deixe que a bola tenha o rótulo **1** se for azul, **0** caso contrário."
      ]
    },
    {
      "cell_type": "code",
      "metadata": {
        "id": "LMT71SxAmD3F"
      },
      "source": [
        "balls = [1 for i in range(9)] + [0 for i in range(11)]"
      ],
      "execution_count": null,
      "outputs": []
    },
    {
      "cell_type": "markdown",
      "metadata": {
        "id": "YoiVGA5omD3F"
      },
      "source": [
        "<img src='https://habrastorage.org/webt/mu/vl/mt/muvlmtd2njeqf18trbldenpqvnm.png'>"
      ]
    },
    {
      "cell_type": "markdown",
      "metadata": {
        "id": "ojOrcdYwmD3F"
      },
      "source": [
        "Next split the balls into two groups:"
      ]
    },
    {
      "cell_type": "markdown",
      "metadata": {
        "id": "6J_QbpykmD3F"
      },
      "source": [
        "<img src='https://habrastorage.org/webt/bd/aq/5w/bdaq5wi3c4feezaexponvin8wmo.png'>"
      ]
    },
    {
      "cell_type": "code",
      "metadata": {
        "id": "FdzUmOeimD3F"
      },
      "source": [
        "# Realizando a quebra da arvore em dois grupos...\n",
        "balls_left  = [1 for i in range(8)] + [0 for i in range(5)] # 8 azuis e 5 amarelas\n",
        "balls_right = [1 for i in range(1)] + [0 for i in range(6)] # 1 azul and 6 amarelas"
      ],
      "execution_count": null,
      "outputs": []
    },
    {
      "cell_type": "markdown",
      "metadata": {
        "id": "mFeLVldLmD3G"
      },
      "source": [
        "#### Implementar uma função para calcular a entropia"
      ]
    },
    {
      "cell_type": "code",
      "metadata": {
        "id": "zU1pzkMVmD3G"
      },
      "source": [
        "from math import log\n",
        "    \n",
        "def entropy(a_list):\n",
        "    \"\"\"\n",
        "    Funcao que calcula a entropia de uma dada lista de valores\n",
        "\n",
        "    Parametros:\n",
        "        a_list -> Lista de elementos (nao necessariamente numericos)\n",
        "\n",
        "    Retorno\n",
        "        entropy -> valor da entropia\n",
        "    \"\"\"\n",
        "\n",
        "    entropy = 0\n",
        "\n",
        "    ################# Seu codigo aqui #################\n",
        "\n",
        "    ###################################################\n",
        "\n",
        "    return entropy"
      ],
      "execution_count": null,
      "outputs": []
    },
    {
      "cell_type": "markdown",
      "metadata": {
        "id": "Pn8LITE6mD3G"
      },
      "source": [
        "Tests"
      ]
    },
    {
      "cell_type": "code",
      "metadata": {
        "id": "aZtsq8UwmD3G",
        "outputId": "7220f1fc-56f9-4e8f-ea12-e5cb4655fda5"
      },
      "source": [
        "print(entropy(balls)) # 9 azuis e 11 amarelas\n",
        "print(entropy(balls_left)) # 8 azuis e 5 amarelas\n",
        "print(entropy(balls_right)) # 1 azuis e 6 amarelas\n",
        "print(entropy([1,2,3,4,5,6])) # entropia de um dado de 6 lados"
      ],
      "execution_count": null,
      "outputs": [
        {
          "output_type": "stream",
          "text": [
            "0.9927744539878084\n",
            "0.961236604722876\n",
            "0.5916727785823275\n",
            "2.584962500721156\n"
          ],
          "name": "stdout"
        }
      ]
    },
    {
      "cell_type": "markdown",
      "metadata": {
        "id": "xHRSAFvqmD3H"
      },
      "source": [
        "1\\. Qual é a entropia do nó que corresponde à variável **balls_left**?"
      ]
    },
    {
      "cell_type": "markdown",
      "metadata": {
        "id": "pSCgJXctmD3H"
      },
      "source": [
        "2\\. Qual é a entropia de um dado justo? (onde olhamos para um dado como um sistema com 6 estados igualmente prováveis)?"
      ]
    },
    {
      "cell_type": "markdown",
      "metadata": {
        "id": "0CcMTrKhmD3K"
      },
      "source": [
        "### Parte 3. Dataset de \"gente grande\""
      ]
    },
    {
      "cell_type": "markdown",
      "metadata": {
        "id": "QpWaErTgmD3K"
      },
      "source": [
        "#### Descrição:"
      ]
    },
    {
      "cell_type": "markdown",
      "metadata": {
        "id": "OJ7MRgaBmD3K"
      },
      "source": [
        "[Dataset UCI](http://archive.ics.uci.edu/ml/machine-learning-databases/adult)   (não precisa baixar, o Colab faz o download automaticamente 😉): classificação de pessoas usando dados demográficos - se elas ganham mais de $ 50.000 por ano ou não."
      ]
    },
    {
      "cell_type": "markdown",
      "metadata": {
        "id": "ufMZbtY2mD3L"
      },
      "source": [
        "Descrição das features"
      ]
    },
    {
      "cell_type": "markdown",
      "metadata": {
        "id": "C2Yug7JemD3L"
      },
      "source": [
        "- **Age** – feature contínua\n",
        "- **Workclass** –  feature contínua\n",
        "- **fnlwgt** (final weight of object) – feature contínua\n",
        "- **Education** –  feature categórica\n",
        "- **Education_Num** (number of years of education)– feature contínua\n",
        "- **Martial_Status** –  feature categórica\n",
        "- **Occupation** –  feature categórica\n",
        "- **Relationship** – feature categórica\n",
        "- **Race** – feature categórica\n",
        "- **Sex** – feature categórica\n",
        "- **Capital_Gain** – feature contínua\n",
        "- **Capital_Loss** – feature contínua\n",
        "- **Hours_per_week** – feature contínua\n",
        "- **Country** – feature categórica"
      ]
    },
    {
      "cell_type": "markdown",
      "metadata": {
        "id": "Z0SKA03amD3M"
      },
      "source": [
        "**Target** – Nível de remuneração (binário, se ganha ou não ganha pelo menos 50 000)."
      ]
    },
    {
      "cell_type": "markdown",
      "metadata": {
        "id": "ydLW9AfxmD3M"
      },
      "source": [
        "#### Reading train and test data"
      ]
    },
    {
      "cell_type": "code",
      "metadata": {
        "id": "j__9-Q51mD3M"
      },
      "source": [
        "data_train = pd.read_csv('https://gist.githubusercontent.com/joaopedromattos/adf1c5c54322e5df5c289a5a51c11a22/raw/28b58d9188ebde1c4441db4b5a475a7d8f7a182c/adult_train.csv')"
      ],
      "execution_count": null,
      "outputs": []
    },
    {
      "cell_type": "code",
      "metadata": {
        "colab": {
          "base_uri": "https://localhost:8080/",
          "height": 204
        },
        "id": "xWZBMI46mD3M",
        "outputId": "5b2571e9-62cb-41f6-a5ab-5b87037a931a"
      },
      "source": [
        "data_train.tail()"
      ],
      "execution_count": null,
      "outputs": [
        {
          "output_type": "execute_result",
          "data": {
            "text/html": [
              "<div>\n",
              "<style scoped>\n",
              "    .dataframe tbody tr th:only-of-type {\n",
              "        vertical-align: middle;\n",
              "    }\n",
              "\n",
              "    .dataframe tbody tr th {\n",
              "        vertical-align: top;\n",
              "    }\n",
              "\n",
              "    .dataframe thead th {\n",
              "        text-align: right;\n",
              "    }\n",
              "</style>\n",
              "<table border=\"1\" class=\"dataframe\">\n",
              "  <thead>\n",
              "    <tr style=\"text-align: right;\">\n",
              "      <th></th>\n",
              "      <th>Age</th>\n",
              "      <th>Workclass</th>\n",
              "      <th>fnlwgt</th>\n",
              "      <th>Education</th>\n",
              "      <th>Education_Num</th>\n",
              "      <th>Martial_Status</th>\n",
              "      <th>Occupation</th>\n",
              "      <th>Relationship</th>\n",
              "      <th>Race</th>\n",
              "      <th>Sex</th>\n",
              "      <th>Capital_Gain</th>\n",
              "      <th>Capital_Loss</th>\n",
              "      <th>Hours_per_week</th>\n",
              "      <th>Country</th>\n",
              "      <th>Target</th>\n",
              "    </tr>\n",
              "  </thead>\n",
              "  <tbody>\n",
              "    <tr>\n",
              "      <th>32556</th>\n",
              "      <td>27</td>\n",
              "      <td>Private</td>\n",
              "      <td>257302</td>\n",
              "      <td>Assoc-acdm</td>\n",
              "      <td>12</td>\n",
              "      <td>Married-civ-spouse</td>\n",
              "      <td>Tech-support</td>\n",
              "      <td>Wife</td>\n",
              "      <td>White</td>\n",
              "      <td>Female</td>\n",
              "      <td>0</td>\n",
              "      <td>0</td>\n",
              "      <td>38</td>\n",
              "      <td>United-States</td>\n",
              "      <td>&lt;=50K</td>\n",
              "    </tr>\n",
              "    <tr>\n",
              "      <th>32557</th>\n",
              "      <td>40</td>\n",
              "      <td>Private</td>\n",
              "      <td>154374</td>\n",
              "      <td>HS-grad</td>\n",
              "      <td>9</td>\n",
              "      <td>Married-civ-spouse</td>\n",
              "      <td>Machine-op-inspct</td>\n",
              "      <td>Husband</td>\n",
              "      <td>White</td>\n",
              "      <td>Male</td>\n",
              "      <td>0</td>\n",
              "      <td>0</td>\n",
              "      <td>40</td>\n",
              "      <td>United-States</td>\n",
              "      <td>&gt;50K</td>\n",
              "    </tr>\n",
              "    <tr>\n",
              "      <th>32558</th>\n",
              "      <td>58</td>\n",
              "      <td>Private</td>\n",
              "      <td>151910</td>\n",
              "      <td>HS-grad</td>\n",
              "      <td>9</td>\n",
              "      <td>Widowed</td>\n",
              "      <td>Adm-clerical</td>\n",
              "      <td>Unmarried</td>\n",
              "      <td>White</td>\n",
              "      <td>Female</td>\n",
              "      <td>0</td>\n",
              "      <td>0</td>\n",
              "      <td>40</td>\n",
              "      <td>United-States</td>\n",
              "      <td>&lt;=50K</td>\n",
              "    </tr>\n",
              "    <tr>\n",
              "      <th>32559</th>\n",
              "      <td>22</td>\n",
              "      <td>Private</td>\n",
              "      <td>201490</td>\n",
              "      <td>HS-grad</td>\n",
              "      <td>9</td>\n",
              "      <td>Never-married</td>\n",
              "      <td>Adm-clerical</td>\n",
              "      <td>Own-child</td>\n",
              "      <td>White</td>\n",
              "      <td>Male</td>\n",
              "      <td>0</td>\n",
              "      <td>0</td>\n",
              "      <td>20</td>\n",
              "      <td>United-States</td>\n",
              "      <td>&lt;=50K</td>\n",
              "    </tr>\n",
              "    <tr>\n",
              "      <th>32560</th>\n",
              "      <td>52</td>\n",
              "      <td>Self-emp-inc</td>\n",
              "      <td>287927</td>\n",
              "      <td>HS-grad</td>\n",
              "      <td>9</td>\n",
              "      <td>Married-civ-spouse</td>\n",
              "      <td>Exec-managerial</td>\n",
              "      <td>Wife</td>\n",
              "      <td>White</td>\n",
              "      <td>Female</td>\n",
              "      <td>15024</td>\n",
              "      <td>0</td>\n",
              "      <td>40</td>\n",
              "      <td>United-States</td>\n",
              "      <td>&gt;50K</td>\n",
              "    </tr>\n",
              "  </tbody>\n",
              "</table>\n",
              "</div>"
            ],
            "text/plain": [
              "       Age      Workclass  fnlwgt  ... Hours_per_week         Country  Target\n",
              "32556   27        Private  257302  ...             38   United-States   <=50K\n",
              "32557   40        Private  154374  ...             40   United-States    >50K\n",
              "32558   58        Private  151910  ...             40   United-States   <=50K\n",
              "32559   22        Private  201490  ...             20   United-States   <=50K\n",
              "32560   52   Self-emp-inc  287927  ...             40   United-States    >50K\n",
              "\n",
              "[5 rows x 15 columns]"
            ]
          },
          "metadata": {
            "tags": []
          },
          "execution_count": 14
        }
      ]
    },
    {
      "cell_type": "code",
      "metadata": {
        "id": "CbmkTqCOmD3N"
      },
      "source": [
        "data_test = pd.read_csv('https://gist.githubusercontent.com/joaopedromattos/adf1c5c54322e5df5c289a5a51c11a22/raw/28b58d9188ebde1c4441db4b5a475a7d8f7a182c/adult_test.csv')"
      ],
      "execution_count": null,
      "outputs": []
    },
    {
      "cell_type": "code",
      "metadata": {
        "colab": {
          "base_uri": "https://localhost:8080/",
          "height": 204
        },
        "id": "JrvvetfImD3N",
        "outputId": "a4c001b7-97c4-4d0d-98da-4d633ca9e7e0"
      },
      "source": [
        "data_test.tail()"
      ],
      "execution_count": null,
      "outputs": [
        {
          "output_type": "execute_result",
          "data": {
            "text/html": [
              "<div>\n",
              "<style scoped>\n",
              "    .dataframe tbody tr th:only-of-type {\n",
              "        vertical-align: middle;\n",
              "    }\n",
              "\n",
              "    .dataframe tbody tr th {\n",
              "        vertical-align: top;\n",
              "    }\n",
              "\n",
              "    .dataframe thead th {\n",
              "        text-align: right;\n",
              "    }\n",
              "</style>\n",
              "<table border=\"1\" class=\"dataframe\">\n",
              "  <thead>\n",
              "    <tr style=\"text-align: right;\">\n",
              "      <th></th>\n",
              "      <th>Age</th>\n",
              "      <th>Workclass</th>\n",
              "      <th>fnlwgt</th>\n",
              "      <th>Education</th>\n",
              "      <th>Education_Num</th>\n",
              "      <th>Martial_Status</th>\n",
              "      <th>Occupation</th>\n",
              "      <th>Relationship</th>\n",
              "      <th>Race</th>\n",
              "      <th>Sex</th>\n",
              "      <th>Capital_Gain</th>\n",
              "      <th>Capital_Loss</th>\n",
              "      <th>Hours_per_week</th>\n",
              "      <th>Country</th>\n",
              "      <th>Target</th>\n",
              "    </tr>\n",
              "  </thead>\n",
              "  <tbody>\n",
              "    <tr>\n",
              "      <th>16276</th>\n",
              "      <td>39</td>\n",
              "      <td>Private</td>\n",
              "      <td>215419.0</td>\n",
              "      <td>Bachelors</td>\n",
              "      <td>13.0</td>\n",
              "      <td>Divorced</td>\n",
              "      <td>Prof-specialty</td>\n",
              "      <td>Not-in-family</td>\n",
              "      <td>White</td>\n",
              "      <td>Female</td>\n",
              "      <td>0.0</td>\n",
              "      <td>0.0</td>\n",
              "      <td>36.0</td>\n",
              "      <td>United-States</td>\n",
              "      <td>&lt;=50K.</td>\n",
              "    </tr>\n",
              "    <tr>\n",
              "      <th>16277</th>\n",
              "      <td>64</td>\n",
              "      <td>NaN</td>\n",
              "      <td>321403.0</td>\n",
              "      <td>HS-grad</td>\n",
              "      <td>9.0</td>\n",
              "      <td>Widowed</td>\n",
              "      <td>NaN</td>\n",
              "      <td>Other-relative</td>\n",
              "      <td>Black</td>\n",
              "      <td>Male</td>\n",
              "      <td>0.0</td>\n",
              "      <td>0.0</td>\n",
              "      <td>40.0</td>\n",
              "      <td>United-States</td>\n",
              "      <td>&lt;=50K.</td>\n",
              "    </tr>\n",
              "    <tr>\n",
              "      <th>16278</th>\n",
              "      <td>38</td>\n",
              "      <td>Private</td>\n",
              "      <td>374983.0</td>\n",
              "      <td>Bachelors</td>\n",
              "      <td>13.0</td>\n",
              "      <td>Married-civ-spouse</td>\n",
              "      <td>Prof-specialty</td>\n",
              "      <td>Husband</td>\n",
              "      <td>White</td>\n",
              "      <td>Male</td>\n",
              "      <td>0.0</td>\n",
              "      <td>0.0</td>\n",
              "      <td>50.0</td>\n",
              "      <td>United-States</td>\n",
              "      <td>&lt;=50K.</td>\n",
              "    </tr>\n",
              "    <tr>\n",
              "      <th>16279</th>\n",
              "      <td>44</td>\n",
              "      <td>Private</td>\n",
              "      <td>83891.0</td>\n",
              "      <td>Bachelors</td>\n",
              "      <td>13.0</td>\n",
              "      <td>Divorced</td>\n",
              "      <td>Adm-clerical</td>\n",
              "      <td>Own-child</td>\n",
              "      <td>Asian-Pac-Islander</td>\n",
              "      <td>Male</td>\n",
              "      <td>5455.0</td>\n",
              "      <td>0.0</td>\n",
              "      <td>40.0</td>\n",
              "      <td>United-States</td>\n",
              "      <td>&lt;=50K.</td>\n",
              "    </tr>\n",
              "    <tr>\n",
              "      <th>16280</th>\n",
              "      <td>35</td>\n",
              "      <td>Self-emp-inc</td>\n",
              "      <td>182148.0</td>\n",
              "      <td>Bachelors</td>\n",
              "      <td>13.0</td>\n",
              "      <td>Married-civ-spouse</td>\n",
              "      <td>Exec-managerial</td>\n",
              "      <td>Husband</td>\n",
              "      <td>White</td>\n",
              "      <td>Male</td>\n",
              "      <td>0.0</td>\n",
              "      <td>0.0</td>\n",
              "      <td>60.0</td>\n",
              "      <td>United-States</td>\n",
              "      <td>&gt;50K.</td>\n",
              "    </tr>\n",
              "  </tbody>\n",
              "</table>\n",
              "</div>"
            ],
            "text/plain": [
              "       Age      Workclass    fnlwgt  ... Hours_per_week         Country   Target\n",
              "16276   39        Private  215419.0  ...           36.0   United-States   <=50K.\n",
              "16277   64            NaN  321403.0  ...           40.0   United-States   <=50K.\n",
              "16278   38        Private  374983.0  ...           50.0   United-States   <=50K.\n",
              "16279   44        Private   83891.0  ...           40.0   United-States   <=50K.\n",
              "16280   35   Self-emp-inc  182148.0  ...           60.0   United-States    >50K.\n",
              "\n",
              "[5 rows x 15 columns]"
            ]
          },
          "metadata": {
            "tags": []
          },
          "execution_count": 16
        }
      ]
    },
    {
      "cell_type": "code",
      "metadata": {
        "id": "68nnmIdrmD3N"
      },
      "source": [
        "# Vamos remover as linhas que possuem um target incorreto no teste\n",
        "data_test = data_test[(data_test['Target'] == ' >50K.') | (data_test['Target']==' <=50K.')]\n",
        "\n",
        "# Codificação da variavel como binária\n",
        "data_train.loc[data_train['Target']==' <=50K', 'Target'] = 0\n",
        "data_train.loc[data_train['Target']==' >50K', 'Target'] = 1\n",
        "\n",
        "data_test.loc[data_test['Target']==' <=50K.', 'Target'] = 0\n",
        "data_test.loc[data_test['Target']==' >50K.', 'Target'] = 1"
      ],
      "execution_count": null,
      "outputs": []
    },
    {
      "cell_type": "markdown",
      "metadata": {
        "id": "L67huGNdmD3N"
      },
      "source": [
        "#### Análise de dados inicial"
      ]
    },
    {
      "cell_type": "code",
      "metadata": {
        "colab": {
          "base_uri": "https://localhost:8080/",
          "height": 514
        },
        "id": "fpD8KjRUmD3O",
        "outputId": "e37d21b5-daff-4674-9632-1ba13e00297f"
      },
      "source": [
        "data_test.describe(include='all').T"
      ],
      "execution_count": null,
      "outputs": [
        {
          "output_type": "execute_result",
          "data": {
            "text/html": [
              "<div>\n",
              "<style scoped>\n",
              "    .dataframe tbody tr th:only-of-type {\n",
              "        vertical-align: middle;\n",
              "    }\n",
              "\n",
              "    .dataframe tbody tr th {\n",
              "        vertical-align: top;\n",
              "    }\n",
              "\n",
              "    .dataframe thead th {\n",
              "        text-align: right;\n",
              "    }\n",
              "</style>\n",
              "<table border=\"1\" class=\"dataframe\">\n",
              "  <thead>\n",
              "    <tr style=\"text-align: right;\">\n",
              "      <th></th>\n",
              "      <th>count</th>\n",
              "      <th>unique</th>\n",
              "      <th>top</th>\n",
              "      <th>freq</th>\n",
              "      <th>mean</th>\n",
              "      <th>std</th>\n",
              "      <th>min</th>\n",
              "      <th>25%</th>\n",
              "      <th>50%</th>\n",
              "      <th>75%</th>\n",
              "      <th>max</th>\n",
              "    </tr>\n",
              "  </thead>\n",
              "  <tbody>\n",
              "    <tr>\n",
              "      <th>Age</th>\n",
              "      <td>16281</td>\n",
              "      <td>NaN</td>\n",
              "      <td>NaN</td>\n",
              "      <td>NaN</td>\n",
              "      <td>38.7675</td>\n",
              "      <td>13.8492</td>\n",
              "      <td>17</td>\n",
              "      <td>28</td>\n",
              "      <td>37</td>\n",
              "      <td>48</td>\n",
              "      <td>90</td>\n",
              "    </tr>\n",
              "    <tr>\n",
              "      <th>Workclass</th>\n",
              "      <td>15318</td>\n",
              "      <td>8</td>\n",
              "      <td>Private</td>\n",
              "      <td>11210</td>\n",
              "      <td>NaN</td>\n",
              "      <td>NaN</td>\n",
              "      <td>NaN</td>\n",
              "      <td>NaN</td>\n",
              "      <td>NaN</td>\n",
              "      <td>NaN</td>\n",
              "      <td>NaN</td>\n",
              "    </tr>\n",
              "    <tr>\n",
              "      <th>fnlwgt</th>\n",
              "      <td>16281</td>\n",
              "      <td>NaN</td>\n",
              "      <td>NaN</td>\n",
              "      <td>NaN</td>\n",
              "      <td>189436</td>\n",
              "      <td>105715</td>\n",
              "      <td>13492</td>\n",
              "      <td>116736</td>\n",
              "      <td>177831</td>\n",
              "      <td>238384</td>\n",
              "      <td>1.4904e+06</td>\n",
              "    </tr>\n",
              "    <tr>\n",
              "      <th>Education</th>\n",
              "      <td>16281</td>\n",
              "      <td>16</td>\n",
              "      <td>HS-grad</td>\n",
              "      <td>5283</td>\n",
              "      <td>NaN</td>\n",
              "      <td>NaN</td>\n",
              "      <td>NaN</td>\n",
              "      <td>NaN</td>\n",
              "      <td>NaN</td>\n",
              "      <td>NaN</td>\n",
              "      <td>NaN</td>\n",
              "    </tr>\n",
              "    <tr>\n",
              "      <th>Education_Num</th>\n",
              "      <td>16281</td>\n",
              "      <td>NaN</td>\n",
              "      <td>NaN</td>\n",
              "      <td>NaN</td>\n",
              "      <td>10.0729</td>\n",
              "      <td>2.56755</td>\n",
              "      <td>1</td>\n",
              "      <td>9</td>\n",
              "      <td>10</td>\n",
              "      <td>12</td>\n",
              "      <td>16</td>\n",
              "    </tr>\n",
              "    <tr>\n",
              "      <th>Martial_Status</th>\n",
              "      <td>16281</td>\n",
              "      <td>7</td>\n",
              "      <td>Married-civ-spouse</td>\n",
              "      <td>7403</td>\n",
              "      <td>NaN</td>\n",
              "      <td>NaN</td>\n",
              "      <td>NaN</td>\n",
              "      <td>NaN</td>\n",
              "      <td>NaN</td>\n",
              "      <td>NaN</td>\n",
              "      <td>NaN</td>\n",
              "    </tr>\n",
              "    <tr>\n",
              "      <th>Occupation</th>\n",
              "      <td>15315</td>\n",
              "      <td>14</td>\n",
              "      <td>Prof-specialty</td>\n",
              "      <td>2032</td>\n",
              "      <td>NaN</td>\n",
              "      <td>NaN</td>\n",
              "      <td>NaN</td>\n",
              "      <td>NaN</td>\n",
              "      <td>NaN</td>\n",
              "      <td>NaN</td>\n",
              "      <td>NaN</td>\n",
              "    </tr>\n",
              "    <tr>\n",
              "      <th>Relationship</th>\n",
              "      <td>16281</td>\n",
              "      <td>6</td>\n",
              "      <td>Husband</td>\n",
              "      <td>6523</td>\n",
              "      <td>NaN</td>\n",
              "      <td>NaN</td>\n",
              "      <td>NaN</td>\n",
              "      <td>NaN</td>\n",
              "      <td>NaN</td>\n",
              "      <td>NaN</td>\n",
              "      <td>NaN</td>\n",
              "    </tr>\n",
              "    <tr>\n",
              "      <th>Race</th>\n",
              "      <td>16281</td>\n",
              "      <td>5</td>\n",
              "      <td>White</td>\n",
              "      <td>13946</td>\n",
              "      <td>NaN</td>\n",
              "      <td>NaN</td>\n",
              "      <td>NaN</td>\n",
              "      <td>NaN</td>\n",
              "      <td>NaN</td>\n",
              "      <td>NaN</td>\n",
              "      <td>NaN</td>\n",
              "    </tr>\n",
              "    <tr>\n",
              "      <th>Sex</th>\n",
              "      <td>16281</td>\n",
              "      <td>2</td>\n",
              "      <td>Male</td>\n",
              "      <td>10860</td>\n",
              "      <td>NaN</td>\n",
              "      <td>NaN</td>\n",
              "      <td>NaN</td>\n",
              "      <td>NaN</td>\n",
              "      <td>NaN</td>\n",
              "      <td>NaN</td>\n",
              "      <td>NaN</td>\n",
              "    </tr>\n",
              "    <tr>\n",
              "      <th>Capital_Gain</th>\n",
              "      <td>16281</td>\n",
              "      <td>NaN</td>\n",
              "      <td>NaN</td>\n",
              "      <td>NaN</td>\n",
              "      <td>1081.91</td>\n",
              "      <td>7583.94</td>\n",
              "      <td>0</td>\n",
              "      <td>0</td>\n",
              "      <td>0</td>\n",
              "      <td>0</td>\n",
              "      <td>99999</td>\n",
              "    </tr>\n",
              "    <tr>\n",
              "      <th>Capital_Loss</th>\n",
              "      <td>16281</td>\n",
              "      <td>NaN</td>\n",
              "      <td>NaN</td>\n",
              "      <td>NaN</td>\n",
              "      <td>87.8993</td>\n",
              "      <td>403.105</td>\n",
              "      <td>0</td>\n",
              "      <td>0</td>\n",
              "      <td>0</td>\n",
              "      <td>0</td>\n",
              "      <td>3770</td>\n",
              "    </tr>\n",
              "    <tr>\n",
              "      <th>Hours_per_week</th>\n",
              "      <td>16281</td>\n",
              "      <td>NaN</td>\n",
              "      <td>NaN</td>\n",
              "      <td>NaN</td>\n",
              "      <td>40.3922</td>\n",
              "      <td>12.4793</td>\n",
              "      <td>1</td>\n",
              "      <td>40</td>\n",
              "      <td>40</td>\n",
              "      <td>45</td>\n",
              "      <td>99</td>\n",
              "    </tr>\n",
              "    <tr>\n",
              "      <th>Country</th>\n",
              "      <td>16007</td>\n",
              "      <td>40</td>\n",
              "      <td>United-States</td>\n",
              "      <td>14662</td>\n",
              "      <td>NaN</td>\n",
              "      <td>NaN</td>\n",
              "      <td>NaN</td>\n",
              "      <td>NaN</td>\n",
              "      <td>NaN</td>\n",
              "      <td>NaN</td>\n",
              "      <td>NaN</td>\n",
              "    </tr>\n",
              "    <tr>\n",
              "      <th>Target</th>\n",
              "      <td>16281</td>\n",
              "      <td>2</td>\n",
              "      <td>0</td>\n",
              "      <td>12435</td>\n",
              "      <td>NaN</td>\n",
              "      <td>NaN</td>\n",
              "      <td>NaN</td>\n",
              "      <td>NaN</td>\n",
              "      <td>NaN</td>\n",
              "      <td>NaN</td>\n",
              "      <td>NaN</td>\n",
              "    </tr>\n",
              "  </tbody>\n",
              "</table>\n",
              "</div>"
            ],
            "text/plain": [
              "                count unique                  top  ...     50%     75%         max\n",
              "Age             16281    NaN                  NaN  ...      37      48          90\n",
              "Workclass       15318      8              Private  ...     NaN     NaN         NaN\n",
              "fnlwgt          16281    NaN                  NaN  ...  177831  238384  1.4904e+06\n",
              "Education       16281     16              HS-grad  ...     NaN     NaN         NaN\n",
              "Education_Num   16281    NaN                  NaN  ...      10      12          16\n",
              "Martial_Status  16281      7   Married-civ-spouse  ...     NaN     NaN         NaN\n",
              "Occupation      15315     14       Prof-specialty  ...     NaN     NaN         NaN\n",
              "Relationship    16281      6              Husband  ...     NaN     NaN         NaN\n",
              "Race            16281      5                White  ...     NaN     NaN         NaN\n",
              "Sex             16281      2                 Male  ...     NaN     NaN         NaN\n",
              "Capital_Gain    16281    NaN                  NaN  ...       0       0       99999\n",
              "Capital_Loss    16281    NaN                  NaN  ...       0       0        3770\n",
              "Hours_per_week  16281    NaN                  NaN  ...      40      45          99\n",
              "Country         16007     40        United-States  ...     NaN     NaN         NaN\n",
              "Target          16281      2                    0  ...     NaN     NaN         NaN\n",
              "\n",
              "[15 rows x 11 columns]"
            ]
          },
          "metadata": {
            "tags": []
          },
          "execution_count": 18
        }
      ]
    },
    {
      "cell_type": "code",
      "metadata": {
        "colab": {
          "base_uri": "https://localhost:8080/"
        },
        "id": "bvvFOZg6mD3O",
        "outputId": "bdddcb74-9712-46d3-dc6f-1821536bb848"
      },
      "source": [
        "data_train['Target'].value_counts()"
      ],
      "execution_count": null,
      "outputs": [
        {
          "output_type": "execute_result",
          "data": {
            "text/plain": [
              "0    24720\n",
              "1     7841\n",
              "Name: Target, dtype: int64"
            ]
          },
          "metadata": {
            "tags": []
          },
          "execution_count": 19
        }
      ]
    },
    {
      "cell_type": "code",
      "metadata": {
        "colab": {
          "base_uri": "https://localhost:8080/",
          "height": 1000
        },
        "id": "7Awm3nPlmD3O",
        "outputId": "e93e6d98-7543-4c27-a06c-9f4c524877bd"
      },
      "source": [
        "fig = plt.figure(figsize=(25, 15))\n",
        "cols = 5\n",
        "rows = np.ceil(float(data_train.shape[1]) / cols)\n",
        "for i, column in enumerate(data_train.columns):\n",
        "    ax = fig.add_subplot(rows, cols, i + 1)\n",
        "    ax.set_title(column)\n",
        "    if data_train.dtypes[column] == np.object:\n",
        "        data_train[column].value_counts().plot(kind=\"bar\", axes=ax)\n",
        "    else:\n",
        "        data_train[column].hist(axes=ax)\n",
        "        plt.xticks(rotation=\"vertical\")\n",
        "plt.subplots_adjust(hspace=0.7, wspace=0.2)"
      ],
      "execution_count": null,
      "outputs": [
        {
          "output_type": "display_data",
          "data": {
            "image/png": "[encoded data removed]",
            "text/plain": [
              "<Figure size 1800x1080 with 15 Axes>"
            ]
          },
          "metadata": {
            "tags": [],
            "image/png": {
              "width": 1448,
              "height": 999
            },
            "needs_background": "light"
          }
        }
      ]
    },
    {
      "cell_type": "markdown",
      "metadata": {
        "id": "eYfxJ_y2mD3P"
      },
      "source": [
        "#### Verificação dos tipos de dados do treino e do teste, respectivamente"
      ]
    },
    {
      "cell_type": "code",
      "metadata": {
        "colab": {
          "base_uri": "https://localhost:8080/"
        },
        "id": "hpzjeGLgmD3P",
        "outputId": "69f4e123-d777-4029-c899-8c51fb86589a"
      },
      "source": [
        "data_train.dtypes"
      ],
      "execution_count": null,
      "outputs": [
        {
          "output_type": "execute_result",
          "data": {
            "text/plain": [
              "Age                int64\n",
              "Workclass         object\n",
              "fnlwgt             int64\n",
              "Education         object\n",
              "Education_Num      int64\n",
              "Martial_Status    object\n",
              "Occupation        object\n",
              "Relationship      object\n",
              "Race              object\n",
              "Sex               object\n",
              "Capital_Gain       int64\n",
              "Capital_Loss       int64\n",
              "Hours_per_week     int64\n",
              "Country           object\n",
              "Target            object\n",
              "dtype: object"
            ]
          },
          "metadata": {
            "tags": []
          },
          "execution_count": 21
        }
      ]
    },
    {
      "cell_type": "code",
      "metadata": {
        "colab": {
          "base_uri": "https://localhost:8080/"
        },
        "id": "TINuKTW4mD3P",
        "outputId": "09fc118f-488d-4ed8-b745-1464bdd16fbe"
      },
      "source": [
        "data_test.dtypes"
      ],
      "execution_count": null,
      "outputs": [
        {
          "output_type": "execute_result",
          "data": {
            "text/plain": [
              "Age                 int64\n",
              "Workclass          object\n",
              "fnlwgt            float64\n",
              "Education          object\n",
              "Education_Num     float64\n",
              "Martial_Status     object\n",
              "Occupation         object\n",
              "Relationship       object\n",
              "Race               object\n",
              "Sex                object\n",
              "Capital_Gain      float64\n",
              "Capital_Loss      float64\n",
              "Hours_per_week    float64\n",
              "Country            object\n",
              "Target             object\n",
              "dtype: object"
            ]
          },
          "metadata": {
            "tags": []
          },
          "execution_count": 22
        }
      ]
    },
    {
      "cell_type": "markdown",
      "metadata": {
        "id": "y5Pj8XNHmD3P"
      },
      "source": [
        "Como podemos ver, nos dados de teste, a idade é tratada como tipo **object**. Precisamos consertar isso."
      ]
    },
    {
      "cell_type": "code",
      "metadata": {
        "id": "YL21fmzYmD3P"
      },
      "source": [
        "data_test['Age'] = data_test['Age'].astype(int)"
      ],
      "execution_count": null,
      "outputs": []
    },
    {
      "cell_type": "markdown",
      "metadata": {
        "id": "kYrlKomQmD3Q"
      },
      "source": [
        "Além disso, vamos fazer o casting de todas as *features* do tipo **float** para o tipo **int** para manter os tipos consistentes entre nossos dados de treinamento e teste."
      ]
    },
    {
      "cell_type": "code",
      "metadata": {
        "id": "0pdWqXCGmD3Q"
      },
      "source": [
        "data_test['fnlwgt'] = data_test['fnlwgt'].astype(int)\n",
        "data_test['Education_Num'] = data_test['Education_Num'].astype(int)\n",
        "data_test['Capital_Gain'] = data_test['Capital_Gain'].astype(int)\n",
        "data_test['Capital_Loss'] = data_test['Capital_Loss'].astype(int)\n",
        "data_test['Hours_per_week'] = data_test['Hours_per_week'].astype(int)"
      ],
      "execution_count": null,
      "outputs": []
    },
    {
      "cell_type": "markdown",
      "metadata": {
        "id": "5k3BJQoMmD3Q"
      },
      "source": [
        "#### Preenchemos os dados ausentes para *features* contínuas com o valor da mediana. No caso de features categóricas, usamos a moda."
      ]
    },
    {
      "cell_type": "code",
      "metadata": {
        "colab": {
          "base_uri": "https://localhost:8080/"
        },
        "id": "-laG1EEsmD3Q",
        "outputId": "b3eb570d-91d7-43f6-b844-11fe6a1ecb6d"
      },
      "source": [
        "# Conferindo quais colunas possuem dados faltantes\n",
        "data_train.info()"
      ],
      "execution_count": null,
      "outputs": [
        {
          "output_type": "stream",
          "text": [
            "<class 'pandas.core.frame.DataFrame'>\n",
            "RangeIndex: 32561 entries, 0 to 32560\n",
            "Data columns (total 15 columns):\n",
            " #   Column          Non-Null Count  Dtype \n",
            "---  ------          --------------  ----- \n",
            " 0   Age             32561 non-null  int64 \n",
            " 1   Workclass       30725 non-null  object\n",
            " 2   fnlwgt          32561 non-null  int64 \n",
            " 3   Education       32561 non-null  object\n",
            " 4   Education_Num   32561 non-null  int64 \n",
            " 5   Martial_Status  32561 non-null  object\n",
            " 6   Occupation      30718 non-null  object\n",
            " 7   Relationship    32561 non-null  object\n",
            " 8   Race            32561 non-null  object\n",
            " 9   Sex             32561 non-null  object\n",
            " 10  Capital_Gain    32561 non-null  int64 \n",
            " 11  Capital_Loss    32561 non-null  int64 \n",
            " 12  Hours_per_week  32561 non-null  int64 \n",
            " 13  Country         31978 non-null  object\n",
            " 14  Target          32561 non-null  object\n",
            "dtypes: int64(6), object(9)\n",
            "memory usage: 3.7+ MB\n"
          ],
          "name": "stdout"
        }
      ]
    },
    {
      "cell_type": "code",
      "metadata": {
        "colab": {
          "base_uri": "https://localhost:8080/"
        },
        "id": "FxmaAiqemD3R",
        "outputId": "61102757-adfa-4259-dcc6-d1fed71be96c"
      },
      "source": [
        "# Armazenamento dos nomes das colunas categoricas e numericas.\n",
        "categorical_columns = [c for c in data_train.columns \n",
        "                       if data_train[c].dtype.name == 'object']\n",
        "numerical_columns = [c for c in data_train.columns \n",
        "                     if data_train[c].dtype.name != 'object']\n",
        "\n",
        "print('categorical_columns:', categorical_columns)\n",
        "print('numerical_columns:', numerical_columns)"
      ],
      "execution_count": null,
      "outputs": [
        {
          "output_type": "stream",
          "text": [
            "categorical_columns: ['Workclass', 'Education', 'Martial_Status', 'Occupation', 'Relationship', 'Race', 'Sex', 'Country', 'Target']\n",
            "numerical_columns: ['Age', 'fnlwgt', 'Education_Num', 'Capital_Gain', 'Capital_Loss', 'Hours_per_week']\n"
          ],
          "name": "stdout"
        }
      ]
    },
    {
      "cell_type": "code",
      "metadata": {
        "id": "a3d016jcmD3R"
      },
      "source": [
        "# Preenchimento dos valores faltantes\n",
        "\n",
        "for c in categorical_columns:\n",
        "    data_train[c].fillna(data_train[c].mode()[0], inplace=True)\n",
        "    data_test[c].fillna(data_train[c].mode()[0], inplace=True)\n",
        "    \n",
        "for c in numerical_columns:\n",
        "    data_train[c].fillna(data_train[c].median(), inplace=True)\n",
        "    data_test[c].fillna(data_train[c].median(), inplace=True)"
      ],
      "execution_count": null,
      "outputs": []
    },
    {
      "cell_type": "code",
      "metadata": {
        "colab": {
          "base_uri": "https://localhost:8080/"
        },
        "id": "dmGu_IExmD3R",
        "outputId": "6d9b25d5-a5d9-479c-a5b5-46b088a6bd15"
      },
      "source": [
        "# Verificacao dos valores faltantes. Podemos ver que nao ha mais nulos :D\n",
        "data_train.info()"
      ],
      "execution_count": null,
      "outputs": [
        {
          "output_type": "stream",
          "text": [
            "<class 'pandas.core.frame.DataFrame'>\n",
            "RangeIndex: 32561 entries, 0 to 32560\n",
            "Data columns (total 15 columns):\n",
            " #   Column          Non-Null Count  Dtype \n",
            "---  ------          --------------  ----- \n",
            " 0   Age             32561 non-null  int64 \n",
            " 1   Workclass       32561 non-null  object\n",
            " 2   fnlwgt          32561 non-null  int64 \n",
            " 3   Education       32561 non-null  object\n",
            " 4   Education_Num   32561 non-null  int64 \n",
            " 5   Martial_Status  32561 non-null  object\n",
            " 6   Occupation      32561 non-null  object\n",
            " 7   Relationship    32561 non-null  object\n",
            " 8   Race            32561 non-null  object\n",
            " 9   Sex             32561 non-null  object\n",
            " 10  Capital_Gain    32561 non-null  int64 \n",
            " 11  Capital_Loss    32561 non-null  int64 \n",
            " 12  Hours_per_week  32561 non-null  int64 \n",
            " 13  Country         32561 non-null  object\n",
            " 14  Target          32561 non-null  int64 \n",
            "dtypes: int64(7), object(8)\n",
            "memory usage: 3.7+ MB\n"
          ],
          "name": "stdout"
        }
      ]
    },
    {
      "cell_type": "markdown",
      "metadata": {
        "id": "M7NTnBgtmD3S"
      },
      "source": [
        "One-hot encoding para algumas variaveis: **Workclass**, **Education**, **Martial_Status**, **Occupation**, **Relationship**, **Race**, **Sex**, **Country**. Não faremos \"na mão\", pois o pandas já nos possibilita essa funcionalidade através do método **get_dummies**"
      ]
    },
    {
      "cell_type": "code",
      "metadata": {
        "id": "XMY2U0XvmD3S"
      },
      "source": [
        "# One-hot encoding para valores do treino e do teste\n",
        "\n",
        "data_train = pd.concat([data_train[numerical_columns],\n",
        "    pd.get_dummies(data_train[categorical_columns])], axis=1)\n",
        "\n",
        "data_test = pd.concat([data_test[numerical_columns],\n",
        "    pd.get_dummies(data_test[categorical_columns])], axis=1)"
      ],
      "execution_count": null,
      "outputs": []
    },
    {
      "cell_type": "markdown",
      "metadata": {
        "id": "p1WXcxi2zE-L"
      },
      "source": [
        "Verificação das colunas que estão no treino e no teste"
      ]
    },
    {
      "cell_type": "code",
      "metadata": {
        "colab": {
          "base_uri": "https://localhost:8080/"
        },
        "id": "wY13d0kemD3S",
        "outputId": "7a88081c-6d82-4f15-8771-be3ea69b3e1c"
      },
      "source": [
        "set(data_train.columns) - set(data_test.columns)"
      ],
      "execution_count": null,
      "outputs": [
        {
          "output_type": "execute_result",
          "data": {
            "text/plain": [
              "{'Country_ Holand-Netherlands'}"
            ]
          },
          "metadata": {
            "tags": []
          },
          "execution_count": 30
        }
      ]
    },
    {
      "cell_type": "code",
      "metadata": {
        "colab": {
          "base_uri": "https://localhost:8080/"
        },
        "id": "rE85_m5jmD3S",
        "outputId": "d8e4de49-29d0-4958-81d3-96b525d19d33"
      },
      "source": [
        "data_train.shape, data_test.shape"
      ],
      "execution_count": null,
      "outputs": [
        {
          "output_type": "execute_result",
          "data": {
            "text/plain": [
              "((32561, 106), (16281, 105))"
            ]
          },
          "metadata": {
            "tags": []
          },
          "execution_count": 31
        }
      ]
    },
    {
      "cell_type": "markdown",
      "metadata": {
        "id": "mqEJ6nc-mD3T"
      },
      "source": [
        "A coluna `Country_ Holand-Netherlands` não existe no teste. Vamos criar essa coluna, mas preenchê-la com zeros :D"
      ]
    },
    {
      "cell_type": "code",
      "metadata": {
        "id": "3InTuo50mD3T"
      },
      "source": [
        "data_test['Country_ Holand-Netherlands'] = 0"
      ],
      "execution_count": null,
      "outputs": []
    },
    {
      "cell_type": "code",
      "metadata": {
        "colab": {
          "base_uri": "https://localhost:8080/"
        },
        "id": "ZINfFXCzmD3T",
        "outputId": "dbaae4a4-b4d6-4a4e-9989-4206dc0b2aa2"
      },
      "source": [
        "set(data_train.columns) - set(data_test.columns)"
      ],
      "execution_count": null,
      "outputs": [
        {
          "output_type": "execute_result",
          "data": {
            "text/plain": [
              "set()"
            ]
          },
          "metadata": {
            "tags": []
          },
          "execution_count": 33
        }
      ]
    },
    {
      "cell_type": "code",
      "metadata": {
        "colab": {
          "base_uri": "https://localhost:8080/",
          "height": 211
        },
        "id": "kxrtWV8umD3T",
        "outputId": "d8dc4d6c-70b6-43bf-bdcb-2c253e3ca2c0"
      },
      "source": [
        "data_train.head(2)"
      ],
      "execution_count": null,
      "outputs": [
        {
          "output_type": "execute_result",
          "data": {
            "text/html": [
              "<div>\n",
              "<style scoped>\n",
              "    .dataframe tbody tr th:only-of-type {\n",
              "        vertical-align: middle;\n",
              "    }\n",
              "\n",
              "    .dataframe tbody tr th {\n",
              "        vertical-align: top;\n",
              "    }\n",
              "\n",
              "    .dataframe thead th {\n",
              "        text-align: right;\n",
              "    }\n",
              "</style>\n",
              "<table border=\"1\" class=\"dataframe\">\n",
              "  <thead>\n",
              "    <tr style=\"text-align: right;\">\n",
              "      <th></th>\n",
              "      <th>Age</th>\n",
              "      <th>fnlwgt</th>\n",
              "      <th>Education_Num</th>\n",
              "      <th>Capital_Gain</th>\n",
              "      <th>Capital_Loss</th>\n",
              "      <th>Hours_per_week</th>\n",
              "      <th>Target</th>\n",
              "      <th>Workclass_ Federal-gov</th>\n",
              "      <th>Workclass_ Local-gov</th>\n",
              "      <th>Workclass_ Never-worked</th>\n",
              "      <th>Workclass_ Private</th>\n",
              "      <th>Workclass_ Self-emp-inc</th>\n",
              "      <th>Workclass_ Self-emp-not-inc</th>\n",
              "      <th>Workclass_ State-gov</th>\n",
              "      <th>Workclass_ Without-pay</th>\n",
              "      <th>Education_ 10th</th>\n",
              "      <th>Education_ 11th</th>\n",
              "      <th>Education_ 12th</th>\n",
              "      <th>Education_ 1st-4th</th>\n",
              "      <th>Education_ 5th-6th</th>\n",
              "      <th>Education_ 7th-8th</th>\n",
              "      <th>Education_ 9th</th>\n",
              "      <th>Education_ Assoc-acdm</th>\n",
              "      <th>Education_ Assoc-voc</th>\n",
              "      <th>Education_ Bachelors</th>\n",
              "      <th>Education_ Doctorate</th>\n",
              "      <th>Education_ HS-grad</th>\n",
              "      <th>Education_ Masters</th>\n",
              "      <th>Education_ Preschool</th>\n",
              "      <th>Education_ Prof-school</th>\n",
              "      <th>Education_ Some-college</th>\n",
              "      <th>Martial_Status_ Divorced</th>\n",
              "      <th>Martial_Status_ Married-AF-spouse</th>\n",
              "      <th>Martial_Status_ Married-civ-spouse</th>\n",
              "      <th>Martial_Status_ Married-spouse-absent</th>\n",
              "      <th>Martial_Status_ Never-married</th>\n",
              "      <th>Martial_Status_ Separated</th>\n",
              "      <th>Martial_Status_ Widowed</th>\n",
              "      <th>Occupation_ Adm-clerical</th>\n",
              "      <th>Occupation_ Armed-Forces</th>\n",
              "      <th>...</th>\n",
              "      <th>Country_ Canada</th>\n",
              "      <th>Country_ China</th>\n",
              "      <th>Country_ Columbia</th>\n",
              "      <th>Country_ Cuba</th>\n",
              "      <th>Country_ Dominican-Republic</th>\n",
              "      <th>Country_ Ecuador</th>\n",
              "      <th>Country_ El-Salvador</th>\n",
              "      <th>Country_ England</th>\n",
              "      <th>Country_ France</th>\n",
              "      <th>Country_ Germany</th>\n",
              "      <th>Country_ Greece</th>\n",
              "      <th>Country_ Guatemala</th>\n",
              "      <th>Country_ Haiti</th>\n",
              "      <th>Country_ Holand-Netherlands</th>\n",
              "      <th>Country_ Honduras</th>\n",
              "      <th>Country_ Hong</th>\n",
              "      <th>Country_ Hungary</th>\n",
              "      <th>Country_ India</th>\n",
              "      <th>Country_ Iran</th>\n",
              "      <th>Country_ Ireland</th>\n",
              "      <th>Country_ Italy</th>\n",
              "      <th>Country_ Jamaica</th>\n",
              "      <th>Country_ Japan</th>\n",
              "      <th>Country_ Laos</th>\n",
              "      <th>Country_ Mexico</th>\n",
              "      <th>Country_ Nicaragua</th>\n",
              "      <th>Country_ Outlying-US(Guam-USVI-etc)</th>\n",
              "      <th>Country_ Peru</th>\n",
              "      <th>Country_ Philippines</th>\n",
              "      <th>Country_ Poland</th>\n",
              "      <th>Country_ Portugal</th>\n",
              "      <th>Country_ Puerto-Rico</th>\n",
              "      <th>Country_ Scotland</th>\n",
              "      <th>Country_ South</th>\n",
              "      <th>Country_ Taiwan</th>\n",
              "      <th>Country_ Thailand</th>\n",
              "      <th>Country_ Trinadad&amp;Tobago</th>\n",
              "      <th>Country_ United-States</th>\n",
              "      <th>Country_ Vietnam</th>\n",
              "      <th>Country_ Yugoslavia</th>\n",
              "    </tr>\n",
              "  </thead>\n",
              "  <tbody>\n",
              "    <tr>\n",
              "      <th>0</th>\n",
              "      <td>39</td>\n",
              "      <td>77516</td>\n",
              "      <td>13</td>\n",
              "      <td>2174</td>\n",
              "      <td>0</td>\n",
              "      <td>40</td>\n",
              "      <td>0</td>\n",
              "      <td>0</td>\n",
              "      <td>0</td>\n",
              "      <td>0</td>\n",
              "      <td>0</td>\n",
              "      <td>0</td>\n",
              "      <td>0</td>\n",
              "      <td>1</td>\n",
              "      <td>0</td>\n",
              "      <td>0</td>\n",
              "      <td>0</td>\n",
              "      <td>0</td>\n",
              "      <td>0</td>\n",
              "      <td>0</td>\n",
              "      <td>0</td>\n",
              "      <td>0</td>\n",
              "      <td>0</td>\n",
              "      <td>0</td>\n",
              "      <td>1</td>\n",
              "      <td>0</td>\n",
              "      <td>0</td>\n",
              "      <td>0</td>\n",
              "      <td>0</td>\n",
              "      <td>0</td>\n",
              "      <td>0</td>\n",
              "      <td>0</td>\n",
              "      <td>0</td>\n",
              "      <td>0</td>\n",
              "      <td>0</td>\n",
              "      <td>1</td>\n",
              "      <td>0</td>\n",
              "      <td>0</td>\n",
              "      <td>1</td>\n",
              "      <td>0</td>\n",
              "      <td>...</td>\n",
              "      <td>0</td>\n",
              "      <td>0</td>\n",
              "      <td>0</td>\n",
              "      <td>0</td>\n",
              "      <td>0</td>\n",
              "      <td>0</td>\n",
              "      <td>0</td>\n",
              "      <td>0</td>\n",
              "      <td>0</td>\n",
              "      <td>0</td>\n",
              "      <td>0</td>\n",
              "      <td>0</td>\n",
              "      <td>0</td>\n",
              "      <td>0</td>\n",
              "      <td>0</td>\n",
              "      <td>0</td>\n",
              "      <td>0</td>\n",
              "      <td>0</td>\n",
              "      <td>0</td>\n",
              "      <td>0</td>\n",
              "      <td>0</td>\n",
              "      <td>0</td>\n",
              "      <td>0</td>\n",
              "      <td>0</td>\n",
              "      <td>0</td>\n",
              "      <td>0</td>\n",
              "      <td>0</td>\n",
              "      <td>0</td>\n",
              "      <td>0</td>\n",
              "      <td>0</td>\n",
              "      <td>0</td>\n",
              "      <td>0</td>\n",
              "      <td>0</td>\n",
              "      <td>0</td>\n",
              "      <td>0</td>\n",
              "      <td>0</td>\n",
              "      <td>0</td>\n",
              "      <td>1</td>\n",
              "      <td>0</td>\n",
              "      <td>0</td>\n",
              "    </tr>\n",
              "    <tr>\n",
              "      <th>1</th>\n",
              "      <td>50</td>\n",
              "      <td>83311</td>\n",
              "      <td>13</td>\n",
              "      <td>0</td>\n",
              "      <td>0</td>\n",
              "      <td>13</td>\n",
              "      <td>0</td>\n",
              "      <td>0</td>\n",
              "      <td>0</td>\n",
              "      <td>0</td>\n",
              "      <td>0</td>\n",
              "      <td>0</td>\n",
              "      <td>1</td>\n",
              "      <td>0</td>\n",
              "      <td>0</td>\n",
              "      <td>0</td>\n",
              "      <td>0</td>\n",
              "      <td>0</td>\n",
              "      <td>0</td>\n",
              "      <td>0</td>\n",
              "      <td>0</td>\n",
              "      <td>0</td>\n",
              "      <td>0</td>\n",
              "      <td>0</td>\n",
              "      <td>1</td>\n",
              "      <td>0</td>\n",
              "      <td>0</td>\n",
              "      <td>0</td>\n",
              "      <td>0</td>\n",
              "      <td>0</td>\n",
              "      <td>0</td>\n",
              "      <td>0</td>\n",
              "      <td>0</td>\n",
              "      <td>1</td>\n",
              "      <td>0</td>\n",
              "      <td>0</td>\n",
              "      <td>0</td>\n",
              "      <td>0</td>\n",
              "      <td>0</td>\n",
              "      <td>0</td>\n",
              "      <td>...</td>\n",
              "      <td>0</td>\n",
              "      <td>0</td>\n",
              "      <td>0</td>\n",
              "      <td>0</td>\n",
              "      <td>0</td>\n",
              "      <td>0</td>\n",
              "      <td>0</td>\n",
              "      <td>0</td>\n",
              "      <td>0</td>\n",
              "      <td>0</td>\n",
              "      <td>0</td>\n",
              "      <td>0</td>\n",
              "      <td>0</td>\n",
              "      <td>0</td>\n",
              "      <td>0</td>\n",
              "      <td>0</td>\n",
              "      <td>0</td>\n",
              "      <td>0</td>\n",
              "      <td>0</td>\n",
              "      <td>0</td>\n",
              "      <td>0</td>\n",
              "      <td>0</td>\n",
              "      <td>0</td>\n",
              "      <td>0</td>\n",
              "      <td>0</td>\n",
              "      <td>0</td>\n",
              "      <td>0</td>\n",
              "      <td>0</td>\n",
              "      <td>0</td>\n",
              "      <td>0</td>\n",
              "      <td>0</td>\n",
              "      <td>0</td>\n",
              "      <td>0</td>\n",
              "      <td>0</td>\n",
              "      <td>0</td>\n",
              "      <td>0</td>\n",
              "      <td>0</td>\n",
              "      <td>1</td>\n",
              "      <td>0</td>\n",
              "      <td>0</td>\n",
              "    </tr>\n",
              "  </tbody>\n",
              "</table>\n",
              "<p>2 rows × 106 columns</p>\n",
              "</div>"
            ],
            "text/plain": [
              "   Age  fnlwgt  ...  Country_ Vietnam  Country_ Yugoslavia\n",
              "0   39   77516  ...                 0                    0\n",
              "1   50   83311  ...                 0                    0\n",
              "\n",
              "[2 rows x 106 columns]"
            ]
          },
          "metadata": {
            "tags": []
          },
          "execution_count": 34
        }
      ]
    },
    {
      "cell_type": "code",
      "metadata": {
        "colab": {
          "base_uri": "https://localhost:8080/",
          "height": 211
        },
        "id": "z6YbrSf5mD3T",
        "outputId": "f38a86f4-be30-45d0-b35d-d22101412fa2"
      },
      "source": [
        "data_test.head(2)"
      ],
      "execution_count": null,
      "outputs": [
        {
          "output_type": "execute_result",
          "data": {
            "text/html": [
              "<div>\n",
              "<style scoped>\n",
              "    .dataframe tbody tr th:only-of-type {\n",
              "        vertical-align: middle;\n",
              "    }\n",
              "\n",
              "    .dataframe tbody tr th {\n",
              "        vertical-align: top;\n",
              "    }\n",
              "\n",
              "    .dataframe thead th {\n",
              "        text-align: right;\n",
              "    }\n",
              "</style>\n",
              "<table border=\"1\" class=\"dataframe\">\n",
              "  <thead>\n",
              "    <tr style=\"text-align: right;\">\n",
              "      <th></th>\n",
              "      <th>Age</th>\n",
              "      <th>fnlwgt</th>\n",
              "      <th>Education_Num</th>\n",
              "      <th>Capital_Gain</th>\n",
              "      <th>Capital_Loss</th>\n",
              "      <th>Hours_per_week</th>\n",
              "      <th>Target</th>\n",
              "      <th>Workclass_ Federal-gov</th>\n",
              "      <th>Workclass_ Local-gov</th>\n",
              "      <th>Workclass_ Never-worked</th>\n",
              "      <th>Workclass_ Private</th>\n",
              "      <th>Workclass_ Self-emp-inc</th>\n",
              "      <th>Workclass_ Self-emp-not-inc</th>\n",
              "      <th>Workclass_ State-gov</th>\n",
              "      <th>Workclass_ Without-pay</th>\n",
              "      <th>Education_ 10th</th>\n",
              "      <th>Education_ 11th</th>\n",
              "      <th>Education_ 12th</th>\n",
              "      <th>Education_ 1st-4th</th>\n",
              "      <th>Education_ 5th-6th</th>\n",
              "      <th>Education_ 7th-8th</th>\n",
              "      <th>Education_ 9th</th>\n",
              "      <th>Education_ Assoc-acdm</th>\n",
              "      <th>Education_ Assoc-voc</th>\n",
              "      <th>Education_ Bachelors</th>\n",
              "      <th>Education_ Doctorate</th>\n",
              "      <th>Education_ HS-grad</th>\n",
              "      <th>Education_ Masters</th>\n",
              "      <th>Education_ Preschool</th>\n",
              "      <th>Education_ Prof-school</th>\n",
              "      <th>Education_ Some-college</th>\n",
              "      <th>Martial_Status_ Divorced</th>\n",
              "      <th>Martial_Status_ Married-AF-spouse</th>\n",
              "      <th>Martial_Status_ Married-civ-spouse</th>\n",
              "      <th>Martial_Status_ Married-spouse-absent</th>\n",
              "      <th>Martial_Status_ Never-married</th>\n",
              "      <th>Martial_Status_ Separated</th>\n",
              "      <th>Martial_Status_ Widowed</th>\n",
              "      <th>Occupation_ Adm-clerical</th>\n",
              "      <th>Occupation_ Armed-Forces</th>\n",
              "      <th>...</th>\n",
              "      <th>Country_ Canada</th>\n",
              "      <th>Country_ China</th>\n",
              "      <th>Country_ Columbia</th>\n",
              "      <th>Country_ Cuba</th>\n",
              "      <th>Country_ Dominican-Republic</th>\n",
              "      <th>Country_ Ecuador</th>\n",
              "      <th>Country_ El-Salvador</th>\n",
              "      <th>Country_ England</th>\n",
              "      <th>Country_ France</th>\n",
              "      <th>Country_ Germany</th>\n",
              "      <th>Country_ Greece</th>\n",
              "      <th>Country_ Guatemala</th>\n",
              "      <th>Country_ Haiti</th>\n",
              "      <th>Country_ Honduras</th>\n",
              "      <th>Country_ Hong</th>\n",
              "      <th>Country_ Hungary</th>\n",
              "      <th>Country_ India</th>\n",
              "      <th>Country_ Iran</th>\n",
              "      <th>Country_ Ireland</th>\n",
              "      <th>Country_ Italy</th>\n",
              "      <th>Country_ Jamaica</th>\n",
              "      <th>Country_ Japan</th>\n",
              "      <th>Country_ Laos</th>\n",
              "      <th>Country_ Mexico</th>\n",
              "      <th>Country_ Nicaragua</th>\n",
              "      <th>Country_ Outlying-US(Guam-USVI-etc)</th>\n",
              "      <th>Country_ Peru</th>\n",
              "      <th>Country_ Philippines</th>\n",
              "      <th>Country_ Poland</th>\n",
              "      <th>Country_ Portugal</th>\n",
              "      <th>Country_ Puerto-Rico</th>\n",
              "      <th>Country_ Scotland</th>\n",
              "      <th>Country_ South</th>\n",
              "      <th>Country_ Taiwan</th>\n",
              "      <th>Country_ Thailand</th>\n",
              "      <th>Country_ Trinadad&amp;Tobago</th>\n",
              "      <th>Country_ United-States</th>\n",
              "      <th>Country_ Vietnam</th>\n",
              "      <th>Country_ Yugoslavia</th>\n",
              "      <th>Country_ Holand-Netherlands</th>\n",
              "    </tr>\n",
              "  </thead>\n",
              "  <tbody>\n",
              "    <tr>\n",
              "      <th>0</th>\n",
              "      <td>25</td>\n",
              "      <td>226802</td>\n",
              "      <td>7</td>\n",
              "      <td>0</td>\n",
              "      <td>0</td>\n",
              "      <td>40</td>\n",
              "      <td>0</td>\n",
              "      <td>0</td>\n",
              "      <td>0</td>\n",
              "      <td>0</td>\n",
              "      <td>1</td>\n",
              "      <td>0</td>\n",
              "      <td>0</td>\n",
              "      <td>0</td>\n",
              "      <td>0</td>\n",
              "      <td>0</td>\n",
              "      <td>1</td>\n",
              "      <td>0</td>\n",
              "      <td>0</td>\n",
              "      <td>0</td>\n",
              "      <td>0</td>\n",
              "      <td>0</td>\n",
              "      <td>0</td>\n",
              "      <td>0</td>\n",
              "      <td>0</td>\n",
              "      <td>0</td>\n",
              "      <td>0</td>\n",
              "      <td>0</td>\n",
              "      <td>0</td>\n",
              "      <td>0</td>\n",
              "      <td>0</td>\n",
              "      <td>0</td>\n",
              "      <td>0</td>\n",
              "      <td>0</td>\n",
              "      <td>0</td>\n",
              "      <td>1</td>\n",
              "      <td>0</td>\n",
              "      <td>0</td>\n",
              "      <td>0</td>\n",
              "      <td>0</td>\n",
              "      <td>...</td>\n",
              "      <td>0</td>\n",
              "      <td>0</td>\n",
              "      <td>0</td>\n",
              "      <td>0</td>\n",
              "      <td>0</td>\n",
              "      <td>0</td>\n",
              "      <td>0</td>\n",
              "      <td>0</td>\n",
              "      <td>0</td>\n",
              "      <td>0</td>\n",
              "      <td>0</td>\n",
              "      <td>0</td>\n",
              "      <td>0</td>\n",
              "      <td>0</td>\n",
              "      <td>0</td>\n",
              "      <td>0</td>\n",
              "      <td>0</td>\n",
              "      <td>0</td>\n",
              "      <td>0</td>\n",
              "      <td>0</td>\n",
              "      <td>0</td>\n",
              "      <td>0</td>\n",
              "      <td>0</td>\n",
              "      <td>0</td>\n",
              "      <td>0</td>\n",
              "      <td>0</td>\n",
              "      <td>0</td>\n",
              "      <td>0</td>\n",
              "      <td>0</td>\n",
              "      <td>0</td>\n",
              "      <td>0</td>\n",
              "      <td>0</td>\n",
              "      <td>0</td>\n",
              "      <td>0</td>\n",
              "      <td>0</td>\n",
              "      <td>0</td>\n",
              "      <td>1</td>\n",
              "      <td>0</td>\n",
              "      <td>0</td>\n",
              "      <td>0</td>\n",
              "    </tr>\n",
              "    <tr>\n",
              "      <th>1</th>\n",
              "      <td>38</td>\n",
              "      <td>89814</td>\n",
              "      <td>9</td>\n",
              "      <td>0</td>\n",
              "      <td>0</td>\n",
              "      <td>50</td>\n",
              "      <td>0</td>\n",
              "      <td>0</td>\n",
              "      <td>0</td>\n",
              "      <td>0</td>\n",
              "      <td>1</td>\n",
              "      <td>0</td>\n",
              "      <td>0</td>\n",
              "      <td>0</td>\n",
              "      <td>0</td>\n",
              "      <td>0</td>\n",
              "      <td>0</td>\n",
              "      <td>0</td>\n",
              "      <td>0</td>\n",
              "      <td>0</td>\n",
              "      <td>0</td>\n",
              "      <td>0</td>\n",
              "      <td>0</td>\n",
              "      <td>0</td>\n",
              "      <td>0</td>\n",
              "      <td>0</td>\n",
              "      <td>1</td>\n",
              "      <td>0</td>\n",
              "      <td>0</td>\n",
              "      <td>0</td>\n",
              "      <td>0</td>\n",
              "      <td>0</td>\n",
              "      <td>0</td>\n",
              "      <td>1</td>\n",
              "      <td>0</td>\n",
              "      <td>0</td>\n",
              "      <td>0</td>\n",
              "      <td>0</td>\n",
              "      <td>0</td>\n",
              "      <td>0</td>\n",
              "      <td>...</td>\n",
              "      <td>0</td>\n",
              "      <td>0</td>\n",
              "      <td>0</td>\n",
              "      <td>0</td>\n",
              "      <td>0</td>\n",
              "      <td>0</td>\n",
              "      <td>0</td>\n",
              "      <td>0</td>\n",
              "      <td>0</td>\n",
              "      <td>0</td>\n",
              "      <td>0</td>\n",
              "      <td>0</td>\n",
              "      <td>0</td>\n",
              "      <td>0</td>\n",
              "      <td>0</td>\n",
              "      <td>0</td>\n",
              "      <td>0</td>\n",
              "      <td>0</td>\n",
              "      <td>0</td>\n",
              "      <td>0</td>\n",
              "      <td>0</td>\n",
              "      <td>0</td>\n",
              "      <td>0</td>\n",
              "      <td>0</td>\n",
              "      <td>0</td>\n",
              "      <td>0</td>\n",
              "      <td>0</td>\n",
              "      <td>0</td>\n",
              "      <td>0</td>\n",
              "      <td>0</td>\n",
              "      <td>0</td>\n",
              "      <td>0</td>\n",
              "      <td>0</td>\n",
              "      <td>0</td>\n",
              "      <td>0</td>\n",
              "      <td>0</td>\n",
              "      <td>1</td>\n",
              "      <td>0</td>\n",
              "      <td>0</td>\n",
              "      <td>0</td>\n",
              "    </tr>\n",
              "  </tbody>\n",
              "</table>\n",
              "<p>2 rows × 106 columns</p>\n",
              "</div>"
            ],
            "text/plain": [
              "   Age  fnlwgt  ...  Country_ Yugoslavia  Country_ Holand-Netherlands\n",
              "0   25  226802  ...                    0                            0\n",
              "1   38   89814  ...                    0                            0\n",
              "\n",
              "[2 rows x 106 columns]"
            ]
          },
          "metadata": {
            "tags": []
          },
          "execution_count": 35
        }
      ]
    },
    {
      "cell_type": "code",
      "metadata": {
        "id": "Og40b7m3mD3U"
      },
      "source": [
        "X_train = data_train.drop(['Target'], axis=1)\n",
        "y_train = data_train['Target']\n",
        "\n",
        "X_test = data_test.drop(['Target'], axis=1)\n",
        "y_test = data_test['Target']"
      ],
      "execution_count": null,
      "outputs": []
    },
    {
      "cell_type": "markdown",
      "metadata": {
        "id": "yC2kvD0HmD3U"
      },
      "source": [
        "### 3.1 Árvore de decisão sem ajuste de parâmetro"
      ]
    },
    {
      "cell_type": "markdown",
      "metadata": {
        "id": "_Wbj5nYsmD3U"
      },
      "source": [
        "Treine uma árvore de decisão **(DecisionTreeClassifier)** com **max_depth** de 3 e avalie a *accuracy* nos dados de teste. Use o parâmetro **random_state = 17** para reprodutibilidade dos resultados."
      ]
    },
    {
      "cell_type": "code",
      "metadata": {
        "id": "3w0eiMEcmD3U",
        "colab": {
          "base_uri": "https://localhost:8080/"
        },
        "outputId": "fcf8d895-daf5-4448-b19c-f6c36e589c4e"
      },
      "source": [
        "## Seu código aqui"
      ],
      "execution_count": null,
      "outputs": [
        {
          "output_type": "execute_result",
          "data": {
            "text/plain": [
              "DecisionTreeClassifier(ccp_alpha=0.0, class_weight=None, criterion='gini',\n",
              "                       max_depth=3, max_features=None, max_leaf_nodes=None,\n",
              "                       min_impurity_decrease=0.0, min_impurity_split=None,\n",
              "                       min_samples_leaf=1, min_samples_split=2,\n",
              "                       min_weight_fraction_leaf=0.0, presort='deprecated',\n",
              "                       random_state=17, splitter='best')"
            ]
          },
          "metadata": {
            "tags": []
          },
          "execution_count": 37
        }
      ]
    },
    {
      "cell_type": "markdown",
      "metadata": {
        "id": "A3kuKXpqmD3U"
      },
      "source": [
        "Faça uma previsão com o modelo treinado nos dados de teste."
      ]
    },
    {
      "cell_type": "code",
      "metadata": {
        "id": "xNdGaA2LmD3V"
      },
      "source": [
        "## Seu codigo aqui"
      ],
      "execution_count": null,
      "outputs": []
    },
    {
      "cell_type": "code",
      "metadata": {
        "id": "dSwhp_xemD3V",
        "colab": {
          "base_uri": "https://localhost:8080/"
        },
        "outputId": "97883cb6-f164-4941-97f3-e6baa1cd1ac9"
      },
      "source": [
        "## Seu codigo aqui"
      ],
      "execution_count": null,
      "outputs": [
        {
          "output_type": "execute_result",
          "data": {
            "text/plain": [
              "0.8447884036607088"
            ]
          },
          "metadata": {
            "tags": []
          },
          "execution_count": 39
        }
      ]
    },
    {
      "cell_type": "markdown",
      "metadata": {
        "id": "u1SLEMccmD3V"
      },
      "source": [
        "3 \\. Qual é a *accuracy* do conjunto da árvore de decisão no teste com **max_depth** da árvore igual a 3 e **random_state = 17**?"
      ]
    },
    {
      "cell_type": "markdown",
      "metadata": {
        "id": "aQX8R_5YmD3V"
      },
      "source": [
        "### 3.2 Árvore de decisão com ajuste de parâmetro"
      ]
    },
    {
      "cell_type": "markdown",
      "metadata": {
        "id": "m6oglz10mD3V"
      },
      "source": [
        "Treine uma árvore de decisão **(usando o random_state = 17).** Encontre a melhor profundidade usando 5-fold cross-validation **[(GridSearchCV)](https://scikit-learn.org/stable/modules/generated/sklearn.model_selection.GridSearchCV.html)**. Com essa classe do Sklearn, você poderá realizar um GridSearch neste parâmetro e automaticamente encontrar o valor que maximiza o desempenho do modelo."
      ]
    },
    {
      "cell_type": "code",
      "metadata": {
        "colab": {
          "base_uri": "https://localhost:8080/"
        },
        "id": "tsPI7cNxmD3V",
        "outputId": "f239329d-751f-42db-eebc-bd44354435e7"
      },
      "source": [
        "%%time\n",
        "## seu codigo aqui"
      ],
      "execution_count": null,
      "outputs": [
        {
          "output_type": "stream",
          "text": [
            "CPU times: user 7.67 s, sys: 51.3 ms, total: 7.72 s\n",
            "Wall time: 7.75 s\n"
          ],
          "name": "stdout"
        }
      ]
    },
    {
      "cell_type": "code",
      "metadata": {
        "id": "Ts6ZgP2LmD3W",
        "outputId": "1e7c4919-3b76-4784-ec75-589f85e22a15"
      },
      "source": [
        "print(\"Best params:\", locally_best_tree.best_params_)\n",
        "print(\"Best cross validaton score\", locally_best_tree.best_score_)"
      ],
      "execution_count": null,
      "outputs": [
        {
          "output_type": "stream",
          "text": [
            "Best params: {'max_depth': 9}\n",
            "Best cross validaton score 0.8565770273854106\n"
          ],
          "name": "stdout"
        }
      ]
    },
    {
      "cell_type": "markdown",
      "metadata": {
        "id": "a5xSHmw4GzV6"
      },
      "source": [
        "4. Qual o valor de **max_depth** encontrado pelo GridSearch?"
      ]
    }
  ]
}