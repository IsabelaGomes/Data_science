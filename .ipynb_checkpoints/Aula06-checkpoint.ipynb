{
 "cells": [
  {
   "cell_type": "markdown",
   "metadata": {
    "collapsed": true,
    "id": "Ang_nm0zmD27"
   },
   "source": [
    "# <center> Aula 06 - Árvores de decisão\n",
    "\n",
    "## <center> Submeta suas respostas para as perguntas no formulário"
   ]
  },
  {
   "cell_type": "code",
   "execution_count": 1,
   "metadata": {
    "id": "F7xhJqNumD29"
   },
   "outputs": [],
   "source": [
    "%matplotlib inline\n",
    "%config InlineBackend.figure_format = 'retina'\n",
    "from matplotlib import pyplot as plt\n",
    "plt.rcParams['figure.figsize'] = (10, 8)\n",
    "\n",
    "import numpy as np\n",
    "import pandas as pd\n",
    "from sklearn.preprocessing import LabelEncoder\n",
    "import collections\n",
    "from sklearn.model_selection import GridSearchCV, cross_val_score\n",
    "from sklearn.tree import DecisionTreeClassifier, export_graphviz\n",
    "from sklearn.ensemble import RandomForestClassifier\n",
    "from sklearn.metrics import accuracy_score\n",
    "#plot_tree\n",
    "import graphviz"
   ]
  },
  {
   "cell_type": "markdown",
   "metadata": {
    "id": "H6gLnGmOmD2-"
   },
   "source": [
    "### Parte 1. Toy dataset"
   ]
  },
  {
   "cell_type": "markdown",
   "metadata": {
    "id": "jOo-TUNLmD2-"
   },
   "source": [
    "Seu objetivo é descobrir como as árvores de decisão funcionam examinando um toy dataset. Embora uma única árvore de decisão não produza resultados excelentes, outros algoritmos de desempenho, como *Gradient Boosting* e *Random Forest*, baseiam-se na mesma ideia. É por isso que saber como as árvores de decisão funcionam pode ser útil."
   ]
  },
  {
   "cell_type": "markdown",
   "metadata": {
    "id": "RV65RoSmmD2-"
   },
   "source": [
    "Veremos um exemplo de classificação binária - a pessoa A está decidindo se vai ter um segundo encontro com a pessoa B. Isso vai depender de sua aparência, eloqüência, consumo de álcool (apenas por exemplo) e quanto dinheiro foi gasto no primeiro encontro."
   ]
  },
  {
   "cell_type": "markdown",
   "metadata": {
    "id": "pfKlnfUxmD2_"
   },
   "source": [
    "#### Criação do conjunto de dados"
   ]
  },
  {
   "cell_type": "code",
   "execution_count": 2,
   "metadata": {
    "id": "5C1KZg2TmD2_"
   },
   "outputs": [],
   "source": [
    "# Criação dataframe com variáveis ​​fictícias\n",
    "def create_df(dic, feature_list):\n",
    "    out = pd.DataFrame(dic)\n",
    "    out = pd.concat([out, pd.get_dummies(out[feature_list])], axis = 1)\n",
    "    out.drop(feature_list, axis = 1, inplace = True)\n",
    "    return out\n",
    "\n",
    "# Alguns valores de features estão presentes no treino e ausentes no teste e vice-versa.\n",
    "def intersect_features(train, test):\n",
    "    common_feat = list( set(train.keys()) & set(test.keys()))\n",
    "    return train[common_feat], test[common_feat]"
   ]
  },
  {
   "cell_type": "code",
   "execution_count": 3,
   "metadata": {
    "id": "KJR-OW6lmD2_"
   },
   "outputs": [],
   "source": [
    "features = ['Looks', 'Alcoholic_beverage','Eloquence','Money_spent']"
   ]
  },
  {
   "cell_type": "markdown",
   "metadata": {
    "id": "SxwOVV0kmD3A"
   },
   "source": [
    "#### Dados do treino"
   ]
  },
  {
   "cell_type": "code",
   "execution_count": 4,
   "metadata": {
    "colab": {
     "base_uri": "https://localhost:8080/",
     "height": 266
    },
    "id": "W1Oy7FIqmD3A",
    "outputId": "375d5251-8556-4a7f-e021-328ecba7d7f9"
   },
   "outputs": [
    {
     "data": {
      "text/html": [
       "<div>\n",
       "<style scoped>\n",
       "    .dataframe tbody tr th:only-of-type {\n",
       "        vertical-align: middle;\n",
       "    }\n",
       "\n",
       "    .dataframe tbody tr th {\n",
       "        vertical-align: top;\n",
       "    }\n",
       "\n",
       "    .dataframe thead th {\n",
       "        text-align: right;\n",
       "    }\n",
       "</style>\n",
       "<table border=\"1\" class=\"dataframe\">\n",
       "  <thead>\n",
       "    <tr style=\"text-align: right;\">\n",
       "      <th></th>\n",
       "      <th>Will_go</th>\n",
       "      <th>Looks_handsome</th>\n",
       "      <th>Looks_repulsive</th>\n",
       "      <th>Alcoholic_beverage_no</th>\n",
       "      <th>Alcoholic_beverage_yes</th>\n",
       "      <th>Eloquence_average</th>\n",
       "      <th>Eloquence_high</th>\n",
       "      <th>Eloquence_low</th>\n",
       "      <th>Money_spent_little</th>\n",
       "      <th>Money_spent_lots</th>\n",
       "    </tr>\n",
       "  </thead>\n",
       "  <tbody>\n",
       "    <tr>\n",
       "      <th>0</th>\n",
       "      <td>0</td>\n",
       "      <td>1</td>\n",
       "      <td>0</td>\n",
       "      <td>0</td>\n",
       "      <td>1</td>\n",
       "      <td>0</td>\n",
       "      <td>1</td>\n",
       "      <td>0</td>\n",
       "      <td>0</td>\n",
       "      <td>1</td>\n",
       "    </tr>\n",
       "    <tr>\n",
       "      <th>1</th>\n",
       "      <td>1</td>\n",
       "      <td>1</td>\n",
       "      <td>0</td>\n",
       "      <td>0</td>\n",
       "      <td>1</td>\n",
       "      <td>0</td>\n",
       "      <td>0</td>\n",
       "      <td>1</td>\n",
       "      <td>1</td>\n",
       "      <td>0</td>\n",
       "    </tr>\n",
       "    <tr>\n",
       "      <th>2</th>\n",
       "      <td>0</td>\n",
       "      <td>1</td>\n",
       "      <td>0</td>\n",
       "      <td>1</td>\n",
       "      <td>0</td>\n",
       "      <td>1</td>\n",
       "      <td>0</td>\n",
       "      <td>0</td>\n",
       "      <td>0</td>\n",
       "      <td>1</td>\n",
       "    </tr>\n",
       "    <tr>\n",
       "      <th>3</th>\n",
       "      <td>1</td>\n",
       "      <td>0</td>\n",
       "      <td>1</td>\n",
       "      <td>1</td>\n",
       "      <td>0</td>\n",
       "      <td>1</td>\n",
       "      <td>0</td>\n",
       "      <td>0</td>\n",
       "      <td>1</td>\n",
       "      <td>0</td>\n",
       "    </tr>\n",
       "    <tr>\n",
       "      <th>4</th>\n",
       "      <td>1</td>\n",
       "      <td>0</td>\n",
       "      <td>1</td>\n",
       "      <td>0</td>\n",
       "      <td>1</td>\n",
       "      <td>0</td>\n",
       "      <td>0</td>\n",
       "      <td>1</td>\n",
       "      <td>0</td>\n",
       "      <td>1</td>\n",
       "    </tr>\n",
       "    <tr>\n",
       "      <th>5</th>\n",
       "      <td>0</td>\n",
       "      <td>0</td>\n",
       "      <td>1</td>\n",
       "      <td>0</td>\n",
       "      <td>1</td>\n",
       "      <td>0</td>\n",
       "      <td>1</td>\n",
       "      <td>0</td>\n",
       "      <td>0</td>\n",
       "      <td>1</td>\n",
       "    </tr>\n",
       "    <tr>\n",
       "      <th>6</th>\n",
       "      <td>0</td>\n",
       "      <td>1</td>\n",
       "      <td>0</td>\n",
       "      <td>0</td>\n",
       "      <td>1</td>\n",
       "      <td>1</td>\n",
       "      <td>0</td>\n",
       "      <td>0</td>\n",
       "      <td>0</td>\n",
       "      <td>1</td>\n",
       "    </tr>\n",
       "  </tbody>\n",
       "</table>\n",
       "</div>"
      ],
      "text/plain": [
       "   Will_go  Looks_handsome  Looks_repulsive  Alcoholic_beverage_no  \\\n",
       "0        0               1                0                      0   \n",
       "1        1               1                0                      0   \n",
       "2        0               1                0                      1   \n",
       "3        1               0                1                      1   \n",
       "4        1               0                1                      0   \n",
       "5        0               0                1                      0   \n",
       "6        0               1                0                      0   \n",
       "\n",
       "   Alcoholic_beverage_yes  Eloquence_average  Eloquence_high  Eloquence_low  \\\n",
       "0                       1                  0               1              0   \n",
       "1                       1                  0               0              1   \n",
       "2                       0                  1               0              0   \n",
       "3                       0                  1               0              0   \n",
       "4                       1                  0               0              1   \n",
       "5                       1                  0               1              0   \n",
       "6                       1                  1               0              0   \n",
       "\n",
       "   Money_spent_little  Money_spent_lots  \n",
       "0                   0                 1  \n",
       "1                   1                 0  \n",
       "2                   0                 1  \n",
       "3                   1                 0  \n",
       "4                   0                 1  \n",
       "5                   0                 1  \n",
       "6                   0                 1  "
      ]
     },
     "execution_count": 4,
     "metadata": {},
     "output_type": "execute_result"
    }
   ],
   "source": [
    "df_train = {}\n",
    "df_train['Looks'] = ['handsome', 'handsome', 'handsome', 'repulsive',\n",
    "                         'repulsive', 'repulsive', 'handsome'] \n",
    "df_train['Alcoholic_beverage'] = ['yes', 'yes', 'no', 'no', 'yes', 'yes', 'yes']\n",
    "df_train['Eloquence'] = ['high', 'low', 'average', 'average', 'low',\n",
    "                                   'high', 'average']\n",
    "df_train['Money_spent'] = ['lots', 'little', 'lots', 'little', 'lots',\n",
    "                                  'lots', 'lots']\n",
    "df_train['Will_go'] = LabelEncoder().fit_transform(['+', '-', '+', '-', '-', '+', '+'])\n",
    "\n",
    "df_train = create_df(df_train, features)\n",
    "df_train"
   ]
  },
  {
   "cell_type": "markdown",
   "metadata": {
    "id": "zNZwihPfmD3A"
   },
   "source": [
    "#### Dados do teste"
   ]
  },
  {
   "cell_type": "code",
   "execution_count": 5,
   "metadata": {
    "colab": {
     "base_uri": "https://localhost:8080/",
     "height": 142
    },
    "id": "bbJot1T0mD3B",
    "outputId": "83e08c4a-6566-44ac-ae6c-f3c9c857ed35"
   },
   "outputs": [
    {
     "data": {
      "text/html": [
       "<div>\n",
       "<style scoped>\n",
       "    .dataframe tbody tr th:only-of-type {\n",
       "        vertical-align: middle;\n",
       "    }\n",
       "\n",
       "    .dataframe tbody tr th {\n",
       "        vertical-align: top;\n",
       "    }\n",
       "\n",
       "    .dataframe thead th {\n",
       "        text-align: right;\n",
       "    }\n",
       "</style>\n",
       "<table border=\"1\" class=\"dataframe\">\n",
       "  <thead>\n",
       "    <tr style=\"text-align: right;\">\n",
       "      <th></th>\n",
       "      <th>Looks_handsome</th>\n",
       "      <th>Looks_repulsive</th>\n",
       "      <th>Alcoholic_beverage_no</th>\n",
       "      <th>Alcoholic_beverage_yes</th>\n",
       "      <th>Eloquence_average</th>\n",
       "      <th>Eloquence_high</th>\n",
       "      <th>Money_spent_little</th>\n",
       "      <th>Money_spent_lots</th>\n",
       "    </tr>\n",
       "  </thead>\n",
       "  <tbody>\n",
       "    <tr>\n",
       "      <th>0</th>\n",
       "      <td>1</td>\n",
       "      <td>0</td>\n",
       "      <td>1</td>\n",
       "      <td>0</td>\n",
       "      <td>1</td>\n",
       "      <td>0</td>\n",
       "      <td>0</td>\n",
       "      <td>1</td>\n",
       "    </tr>\n",
       "    <tr>\n",
       "      <th>1</th>\n",
       "      <td>1</td>\n",
       "      <td>0</td>\n",
       "      <td>0</td>\n",
       "      <td>1</td>\n",
       "      <td>0</td>\n",
       "      <td>1</td>\n",
       "      <td>1</td>\n",
       "      <td>0</td>\n",
       "    </tr>\n",
       "    <tr>\n",
       "      <th>2</th>\n",
       "      <td>0</td>\n",
       "      <td>1</td>\n",
       "      <td>0</td>\n",
       "      <td>1</td>\n",
       "      <td>1</td>\n",
       "      <td>0</td>\n",
       "      <td>0</td>\n",
       "      <td>1</td>\n",
       "    </tr>\n",
       "  </tbody>\n",
       "</table>\n",
       "</div>"
      ],
      "text/plain": [
       "   Looks_handsome  Looks_repulsive  Alcoholic_beverage_no  \\\n",
       "0               1                0                      1   \n",
       "1               1                0                      0   \n",
       "2               0                1                      0   \n",
       "\n",
       "   Alcoholic_beverage_yes  Eloquence_average  Eloquence_high  \\\n",
       "0                       0                  1               0   \n",
       "1                       1                  0               1   \n",
       "2                       1                  1               0   \n",
       "\n",
       "   Money_spent_little  Money_spent_lots  \n",
       "0                   0                 1  \n",
       "1                   1                 0  \n",
       "2                   0                 1  "
      ]
     },
     "execution_count": 5,
     "metadata": {},
     "output_type": "execute_result"
    }
   ],
   "source": [
    "df_test = {}\n",
    "df_test['Looks'] = ['handsome', 'handsome', 'repulsive'] \n",
    "df_test['Alcoholic_beverage'] = ['no', 'yes', 'yes']\n",
    "df_test['Eloquence'] = ['average', 'high', 'average']\n",
    "df_test['Money_spent'] = ['lots', 'little', 'lots']\n",
    "df_test = create_df(df_test, features)\n",
    "df_test"
   ]
  },
  {
   "cell_type": "code",
   "execution_count": 6,
   "metadata": {
    "colab": {
     "base_uri": "https://localhost:8080/",
     "height": 266
    },
    "id": "WOuP7P0qmD3B",
    "outputId": "a8aead57-2d16-4f4f-9b62-c942a0e8cb86"
   },
   "outputs": [
    {
     "data": {
      "text/html": [
       "<div>\n",
       "<style scoped>\n",
       "    .dataframe tbody tr th:only-of-type {\n",
       "        vertical-align: middle;\n",
       "    }\n",
       "\n",
       "    .dataframe tbody tr th {\n",
       "        vertical-align: top;\n",
       "    }\n",
       "\n",
       "    .dataframe thead th {\n",
       "        text-align: right;\n",
       "    }\n",
       "</style>\n",
       "<table border=\"1\" class=\"dataframe\">\n",
       "  <thead>\n",
       "    <tr style=\"text-align: right;\">\n",
       "      <th></th>\n",
       "      <th>Money_spent_little</th>\n",
       "      <th>Alcoholic_beverage_yes</th>\n",
       "      <th>Eloquence_average</th>\n",
       "      <th>Money_spent_lots</th>\n",
       "      <th>Looks_repulsive</th>\n",
       "      <th>Alcoholic_beverage_no</th>\n",
       "      <th>Looks_handsome</th>\n",
       "      <th>Eloquence_high</th>\n",
       "    </tr>\n",
       "  </thead>\n",
       "  <tbody>\n",
       "    <tr>\n",
       "      <th>0</th>\n",
       "      <td>0</td>\n",
       "      <td>1</td>\n",
       "      <td>0</td>\n",
       "      <td>1</td>\n",
       "      <td>0</td>\n",
       "      <td>0</td>\n",
       "      <td>1</td>\n",
       "      <td>1</td>\n",
       "    </tr>\n",
       "    <tr>\n",
       "      <th>1</th>\n",
       "      <td>1</td>\n",
       "      <td>1</td>\n",
       "      <td>0</td>\n",
       "      <td>0</td>\n",
       "      <td>0</td>\n",
       "      <td>0</td>\n",
       "      <td>1</td>\n",
       "      <td>0</td>\n",
       "    </tr>\n",
       "    <tr>\n",
       "      <th>2</th>\n",
       "      <td>0</td>\n",
       "      <td>0</td>\n",
       "      <td>1</td>\n",
       "      <td>1</td>\n",
       "      <td>0</td>\n",
       "      <td>1</td>\n",
       "      <td>1</td>\n",
       "      <td>0</td>\n",
       "    </tr>\n",
       "    <tr>\n",
       "      <th>3</th>\n",
       "      <td>1</td>\n",
       "      <td>0</td>\n",
       "      <td>1</td>\n",
       "      <td>0</td>\n",
       "      <td>1</td>\n",
       "      <td>1</td>\n",
       "      <td>0</td>\n",
       "      <td>0</td>\n",
       "    </tr>\n",
       "    <tr>\n",
       "      <th>4</th>\n",
       "      <td>0</td>\n",
       "      <td>1</td>\n",
       "      <td>0</td>\n",
       "      <td>1</td>\n",
       "      <td>1</td>\n",
       "      <td>0</td>\n",
       "      <td>0</td>\n",
       "      <td>0</td>\n",
       "    </tr>\n",
       "    <tr>\n",
       "      <th>5</th>\n",
       "      <td>0</td>\n",
       "      <td>1</td>\n",
       "      <td>0</td>\n",
       "      <td>1</td>\n",
       "      <td>1</td>\n",
       "      <td>0</td>\n",
       "      <td>0</td>\n",
       "      <td>1</td>\n",
       "    </tr>\n",
       "    <tr>\n",
       "      <th>6</th>\n",
       "      <td>0</td>\n",
       "      <td>1</td>\n",
       "      <td>1</td>\n",
       "      <td>1</td>\n",
       "      <td>0</td>\n",
       "      <td>0</td>\n",
       "      <td>1</td>\n",
       "      <td>0</td>\n",
       "    </tr>\n",
       "  </tbody>\n",
       "</table>\n",
       "</div>"
      ],
      "text/plain": [
       "   Money_spent_little  Alcoholic_beverage_yes  Eloquence_average  \\\n",
       "0                   0                       1                  0   \n",
       "1                   1                       1                  0   \n",
       "2                   0                       0                  1   \n",
       "3                   1                       0                  1   \n",
       "4                   0                       1                  0   \n",
       "5                   0                       1                  0   \n",
       "6                   0                       1                  1   \n",
       "\n",
       "   Money_spent_lots  Looks_repulsive  Alcoholic_beverage_no  Looks_handsome  \\\n",
       "0                 1                0                      0               1   \n",
       "1                 0                0                      0               1   \n",
       "2                 1                0                      1               1   \n",
       "3                 0                1                      1               0   \n",
       "4                 1                1                      0               0   \n",
       "5                 1                1                      0               0   \n",
       "6                 1                0                      0               1   \n",
       "\n",
       "   Eloquence_high  \n",
       "0               1  \n",
       "1               0  \n",
       "2               0  \n",
       "3               0  \n",
       "4               0  \n",
       "5               1  \n",
       "6               0  "
      ]
     },
     "execution_count": 6,
     "metadata": {},
     "output_type": "execute_result"
    }
   ],
   "source": [
    "# Alguns valores de features estão presentes no treino e ausentes no teste e vice-versa.\n",
    "y = df_train['Will_go']\n",
    "df_train, df_test = intersect_features(train=df_train, test=df_test)\n",
    "df_train"
   ]
  },
  {
   "cell_type": "code",
   "execution_count": 7,
   "metadata": {
    "colab": {
     "base_uri": "https://localhost:8080/",
     "height": 142
    },
    "id": "H0E442gTmD3C",
    "outputId": "64ede1e4-5e5e-4492-f7d9-048da59d5d31"
   },
   "outputs": [
    {
     "data": {
      "text/html": [
       "<div>\n",
       "<style scoped>\n",
       "    .dataframe tbody tr th:only-of-type {\n",
       "        vertical-align: middle;\n",
       "    }\n",
       "\n",
       "    .dataframe tbody tr th {\n",
       "        vertical-align: top;\n",
       "    }\n",
       "\n",
       "    .dataframe thead th {\n",
       "        text-align: right;\n",
       "    }\n",
       "</style>\n",
       "<table border=\"1\" class=\"dataframe\">\n",
       "  <thead>\n",
       "    <tr style=\"text-align: right;\">\n",
       "      <th></th>\n",
       "      <th>Money_spent_little</th>\n",
       "      <th>Alcoholic_beverage_yes</th>\n",
       "      <th>Eloquence_average</th>\n",
       "      <th>Money_spent_lots</th>\n",
       "      <th>Looks_repulsive</th>\n",
       "      <th>Alcoholic_beverage_no</th>\n",
       "      <th>Looks_handsome</th>\n",
       "      <th>Eloquence_high</th>\n",
       "    </tr>\n",
       "  </thead>\n",
       "  <tbody>\n",
       "    <tr>\n",
       "      <th>0</th>\n",
       "      <td>0</td>\n",
       "      <td>0</td>\n",
       "      <td>1</td>\n",
       "      <td>1</td>\n",
       "      <td>0</td>\n",
       "      <td>1</td>\n",
       "      <td>1</td>\n",
       "      <td>0</td>\n",
       "    </tr>\n",
       "    <tr>\n",
       "      <th>1</th>\n",
       "      <td>1</td>\n",
       "      <td>1</td>\n",
       "      <td>0</td>\n",
       "      <td>0</td>\n",
       "      <td>0</td>\n",
       "      <td>0</td>\n",
       "      <td>1</td>\n",
       "      <td>1</td>\n",
       "    </tr>\n",
       "    <tr>\n",
       "      <th>2</th>\n",
       "      <td>0</td>\n",
       "      <td>1</td>\n",
       "      <td>1</td>\n",
       "      <td>1</td>\n",
       "      <td>1</td>\n",
       "      <td>0</td>\n",
       "      <td>0</td>\n",
       "      <td>0</td>\n",
       "    </tr>\n",
       "  </tbody>\n",
       "</table>\n",
       "</div>"
      ],
      "text/plain": [
       "   Money_spent_little  Alcoholic_beverage_yes  Eloquence_average  \\\n",
       "0                   0                       0                  1   \n",
       "1                   1                       1                  0   \n",
       "2                   0                       1                  1   \n",
       "\n",
       "   Money_spent_lots  Looks_repulsive  Alcoholic_beverage_no  Looks_handsome  \\\n",
       "0                 1                0                      1               1   \n",
       "1                 0                0                      0               1   \n",
       "2                 1                1                      0               0   \n",
       "\n",
       "   Eloquence_high  \n",
       "0               0  \n",
       "1               1  \n",
       "2               0  "
      ]
     },
     "execution_count": 7,
     "metadata": {},
     "output_type": "execute_result"
    }
   ],
   "source": [
    "df_test"
   ]
  },
  {
   "cell_type": "markdown",
   "metadata": {
    "id": "e6STmuxRmD3D"
   },
   "source": [
    "#### Treine uma árvore de decisão usando sklearn nos dados de treinamento. Você pode escolher qualquer profundidade para a árvore."
   ]
  },
  {
   "cell_type": "code",
   "execution_count": 8,
   "metadata": {
    "id": "IJ3AHxPgmD3D"
   },
   "outputs": [],
   "source": [
    "## Seu código\n",
    "\n",
    "treep = DecisionTreeClassifier()\n",
    "treep = treep.fit(df_train, y)"
   ]
  },
  {
   "cell_type": "markdown",
   "metadata": {
    "id": "sOZ8Eb2_mD3E"
   },
   "source": [
    "\n",
    "#### Adicional: exiba a árvore resultante usando o graphviz."
   ]
  },
  {
   "cell_type": "code",
   "execution_count": 9,
   "metadata": {
    "colab": {
     "base_uri": "https://localhost:8080/",
     "height": 598
    },
    "id": "_OB6zAH9mD3E",
    "outputId": "aa4a2018-5268-4ffb-eb18-6af2f1b8a42a"
   },
   "outputs": [
    {
     "data": {
      "image/svg+xml": [
       "<?xml version=\"1.0\" encoding=\"UTF-8\" standalone=\"no\"?>\r\n",
       "<!DOCTYPE svg PUBLIC \"-//W3C//DTD SVG 1.1//EN\"\r\n",
       " \"http://www.w3.org/Graphics/SVG/1.1/DTD/svg11.dtd\">\r\n",
       "<!-- Generated by graphviz version 2.38.0 (20140413.2041)\r\n",
       " -->\r\n",
       "<!-- Title: Tree Pages: 1 -->\r\n",
       "<svg width=\"337pt\" height=\"433pt\"\r\n",
       " viewBox=\"0.00 0.00 337.00 433.00\" xmlns=\"http://www.w3.org/2000/svg\" xmlns:xlink=\"http://www.w3.org/1999/xlink\">\r\n",
       "<g id=\"graph0\" class=\"graph\" transform=\"scale(1 1) rotate(0) translate(4 429)\">\r\n",
       "<title>Tree</title>\r\n",
       "<polygon fill=\"white\" stroke=\"none\" points=\"-4,4 -4,-429 333,-429 333,4 -4,4\"/>\r\n",
       "<!-- 0 -->\r\n",
       "<g id=\"node1\" class=\"node\"><title>0</title>\r\n",
       "<polygon fill=\"#e58139\" fill-opacity=\"0.250980\" stroke=\"black\" points=\"205.5,-425 43.5,-425 43.5,-342 205.5,-342 205.5,-425\"/>\r\n",
       "<text text-anchor=\"middle\" x=\"124.5\" y=\"-409.8\" font-family=\"Times New Roman,serif\" font-size=\"14.00\">Money_spent_lots &lt;= 0.5</text>\r\n",
       "<text text-anchor=\"middle\" x=\"124.5\" y=\"-394.8\" font-family=\"Times New Roman,serif\" font-size=\"14.00\">gini = 0.49</text>\r\n",
       "<text text-anchor=\"middle\" x=\"124.5\" y=\"-379.8\" font-family=\"Times New Roman,serif\" font-size=\"14.00\">samples = 7</text>\r\n",
       "<text text-anchor=\"middle\" x=\"124.5\" y=\"-364.8\" font-family=\"Times New Roman,serif\" font-size=\"14.00\">value = [4, 3]</text>\r\n",
       "<text text-anchor=\"middle\" x=\"124.5\" y=\"-349.8\" font-family=\"Times New Roman,serif\" font-size=\"14.00\">class = Won&#39;t go</text>\r\n",
       "</g>\r\n",
       "<!-- 1 -->\r\n",
       "<g id=\"node2\" class=\"node\"><title>1</title>\r\n",
       "<polygon fill=\"#399de5\" stroke=\"black\" points=\"101,-298.5 0,-298.5 0,-230.5 101,-230.5 101,-298.5\"/>\r\n",
       "<text text-anchor=\"middle\" x=\"50.5\" y=\"-283.3\" font-family=\"Times New Roman,serif\" font-size=\"14.00\">gini = 0.0</text>\r\n",
       "<text text-anchor=\"middle\" x=\"50.5\" y=\"-268.3\" font-family=\"Times New Roman,serif\" font-size=\"14.00\">samples = 2</text>\r\n",
       "<text text-anchor=\"middle\" x=\"50.5\" y=\"-253.3\" font-family=\"Times New Roman,serif\" font-size=\"14.00\">value = [0, 2]</text>\r\n",
       "<text text-anchor=\"middle\" x=\"50.5\" y=\"-238.3\" font-family=\"Times New Roman,serif\" font-size=\"14.00\">class = Will go</text>\r\n",
       "</g>\r\n",
       "<!-- 0&#45;&gt;1 -->\r\n",
       "<g id=\"edge1\" class=\"edge\"><title>0&#45;&gt;1</title>\r\n",
       "<path fill=\"none\" stroke=\"black\" d=\"M98.8261,-341.907C91.7772,-330.763 84.1214,-318.658 77.0256,-307.439\"/>\r\n",
       "<polygon fill=\"black\" stroke=\"black\" points=\"79.7808,-305.248 71.4774,-298.667 73.8648,-308.989 79.7808,-305.248\"/>\r\n",
       "<text text-anchor=\"middle\" x=\"65.9865\" y=\"-319.356\" font-family=\"Times New Roman,serif\" font-size=\"14.00\">True</text>\r\n",
       "</g>\r\n",
       "<!-- 2 -->\r\n",
       "<g id=\"node3\" class=\"node\"><title>2</title>\r\n",
       "<polygon fill=\"#e58139\" fill-opacity=\"0.749020\" stroke=\"black\" points=\"277.5,-306 119.5,-306 119.5,-223 277.5,-223 277.5,-306\"/>\r\n",
       "<text text-anchor=\"middle\" x=\"198.5\" y=\"-290.8\" font-family=\"Times New Roman,serif\" font-size=\"14.00\">Looks_handsome &lt;= 0.5</text>\r\n",
       "<text text-anchor=\"middle\" x=\"198.5\" y=\"-275.8\" font-family=\"Times New Roman,serif\" font-size=\"14.00\">gini = 0.32</text>\r\n",
       "<text text-anchor=\"middle\" x=\"198.5\" y=\"-260.8\" font-family=\"Times New Roman,serif\" font-size=\"14.00\">samples = 5</text>\r\n",
       "<text text-anchor=\"middle\" x=\"198.5\" y=\"-245.8\" font-family=\"Times New Roman,serif\" font-size=\"14.00\">value = [4, 1]</text>\r\n",
       "<text text-anchor=\"middle\" x=\"198.5\" y=\"-230.8\" font-family=\"Times New Roman,serif\" font-size=\"14.00\">class = Won&#39;t go</text>\r\n",
       "</g>\r\n",
       "<!-- 0&#45;&gt;2 -->\r\n",
       "<g id=\"edge2\" class=\"edge\"><title>0&#45;&gt;2</title>\r\n",
       "<path fill=\"none\" stroke=\"black\" d=\"M150.174,-341.907C155.742,-333.105 161.688,-323.703 167.438,-314.612\"/>\r\n",
       "<polygon fill=\"black\" stroke=\"black\" points=\"170.484,-316.343 172.871,-306.021 164.568,-312.601 170.484,-316.343\"/>\r\n",
       "<text text-anchor=\"middle\" x=\"178.362\" y=\"-326.71\" font-family=\"Times New Roman,serif\" font-size=\"14.00\">False</text>\r\n",
       "</g>\r\n",
       "<!-- 3 -->\r\n",
       "<g id=\"node4\" class=\"node\"><title>3</title>\r\n",
       "<polygon fill=\"none\" stroke=\"black\" points=\"198,-187 51,-187 51,-104 198,-104 198,-187\"/>\r\n",
       "<text text-anchor=\"middle\" x=\"124.5\" y=\"-171.8\" font-family=\"Times New Roman,serif\" font-size=\"14.00\">Eloquence_high &lt;= 0.5</text>\r\n",
       "<text text-anchor=\"middle\" x=\"124.5\" y=\"-156.8\" font-family=\"Times New Roman,serif\" font-size=\"14.00\">gini = 0.5</text>\r\n",
       "<text text-anchor=\"middle\" x=\"124.5\" y=\"-141.8\" font-family=\"Times New Roman,serif\" font-size=\"14.00\">samples = 2</text>\r\n",
       "<text text-anchor=\"middle\" x=\"124.5\" y=\"-126.8\" font-family=\"Times New Roman,serif\" font-size=\"14.00\">value = [1, 1]</text>\r\n",
       "<text text-anchor=\"middle\" x=\"124.5\" y=\"-111.8\" font-family=\"Times New Roman,serif\" font-size=\"14.00\">class = Won&#39;t go</text>\r\n",
       "</g>\r\n",
       "<!-- 2&#45;&gt;3 -->\r\n",
       "<g id=\"edge3\" class=\"edge\"><title>2&#45;&gt;3</title>\r\n",
       "<path fill=\"none\" stroke=\"black\" d=\"M172.826,-222.907C167.258,-214.105 161.312,-204.703 155.562,-195.612\"/>\r\n",
       "<polygon fill=\"black\" stroke=\"black\" points=\"158.432,-193.601 150.129,-187.021 152.516,-197.343 158.432,-193.601\"/>\r\n",
       "</g>\r\n",
       "<!-- 6 -->\r\n",
       "<g id=\"node7\" class=\"node\"><title>6</title>\r\n",
       "<polygon fill=\"#e58139\" stroke=\"black\" points=\"329,-179.5 216,-179.5 216,-111.5 329,-111.5 329,-179.5\"/>\r\n",
       "<text text-anchor=\"middle\" x=\"272.5\" y=\"-164.3\" font-family=\"Times New Roman,serif\" font-size=\"14.00\">gini = 0.0</text>\r\n",
       "<text text-anchor=\"middle\" x=\"272.5\" y=\"-149.3\" font-family=\"Times New Roman,serif\" font-size=\"14.00\">samples = 3</text>\r\n",
       "<text text-anchor=\"middle\" x=\"272.5\" y=\"-134.3\" font-family=\"Times New Roman,serif\" font-size=\"14.00\">value = [3, 0]</text>\r\n",
       "<text text-anchor=\"middle\" x=\"272.5\" y=\"-119.3\" font-family=\"Times New Roman,serif\" font-size=\"14.00\">class = Won&#39;t go</text>\r\n",
       "</g>\r\n",
       "<!-- 2&#45;&gt;6 -->\r\n",
       "<g id=\"edge6\" class=\"edge\"><title>2&#45;&gt;6</title>\r\n",
       "<path fill=\"none\" stroke=\"black\" d=\"M224.174,-222.907C231.223,-211.763 238.879,-199.658 245.974,-188.439\"/>\r\n",
       "<polygon fill=\"black\" stroke=\"black\" points=\"249.135,-189.989 251.523,-179.667 243.219,-186.248 249.135,-189.989\"/>\r\n",
       "</g>\r\n",
       "<!-- 4 -->\r\n",
       "<g id=\"node5\" class=\"node\"><title>4</title>\r\n",
       "<polygon fill=\"#399de5\" stroke=\"black\" points=\"113,-68 12,-68 12,-0 113,-0 113,-68\"/>\r\n",
       "<text text-anchor=\"middle\" x=\"62.5\" y=\"-52.8\" font-family=\"Times New Roman,serif\" font-size=\"14.00\">gini = 0.0</text>\r\n",
       "<text text-anchor=\"middle\" x=\"62.5\" y=\"-37.8\" font-family=\"Times New Roman,serif\" font-size=\"14.00\">samples = 1</text>\r\n",
       "<text text-anchor=\"middle\" x=\"62.5\" y=\"-22.8\" font-family=\"Times New Roman,serif\" font-size=\"14.00\">value = [0, 1]</text>\r\n",
       "<text text-anchor=\"middle\" x=\"62.5\" y=\"-7.8\" font-family=\"Times New Roman,serif\" font-size=\"14.00\">class = Will go</text>\r\n",
       "</g>\r\n",
       "<!-- 3&#45;&gt;4 -->\r\n",
       "<g id=\"edge4\" class=\"edge\"><title>3&#45;&gt;4</title>\r\n",
       "<path fill=\"none\" stroke=\"black\" d=\"M101.413,-103.726C96.5074,-95.0615 91.3179,-85.8962 86.3828,-77.1802\"/>\r\n",
       "<polygon fill=\"black\" stroke=\"black\" points=\"89.3274,-75.277 81.3546,-68.2996 83.2361,-78.726 89.3274,-75.277\"/>\r\n",
       "</g>\r\n",
       "<!-- 5 -->\r\n",
       "<g id=\"node6\" class=\"node\"><title>5</title>\r\n",
       "<polygon fill=\"#e58139\" stroke=\"black\" points=\"244,-68 131,-68 131,-0 244,-0 244,-68\"/>\r\n",
       "<text text-anchor=\"middle\" x=\"187.5\" y=\"-52.8\" font-family=\"Times New Roman,serif\" font-size=\"14.00\">gini = 0.0</text>\r\n",
       "<text text-anchor=\"middle\" x=\"187.5\" y=\"-37.8\" font-family=\"Times New Roman,serif\" font-size=\"14.00\">samples = 1</text>\r\n",
       "<text text-anchor=\"middle\" x=\"187.5\" y=\"-22.8\" font-family=\"Times New Roman,serif\" font-size=\"14.00\">value = [1, 0]</text>\r\n",
       "<text text-anchor=\"middle\" x=\"187.5\" y=\"-7.8\" font-family=\"Times New Roman,serif\" font-size=\"14.00\">class = Won&#39;t go</text>\r\n",
       "</g>\r\n",
       "<!-- 3&#45;&gt;5 -->\r\n",
       "<g id=\"edge5\" class=\"edge\"><title>3&#45;&gt;5</title>\r\n",
       "<path fill=\"none\" stroke=\"black\" d=\"M147.959,-103.726C152.944,-95.0615 158.217,-85.8962 163.232,-77.1802\"/>\r\n",
       "<polygon fill=\"black\" stroke=\"black\" points=\"166.388,-78.7128 168.341,-68.2996 160.321,-75.2219 166.388,-78.7128\"/>\r\n",
       "</g>\r\n",
       "</g>\r\n",
       "</svg>\r\n"
      ],
      "text/plain": [
       "<graphviz.files.Source at 0x299df2841d0>"
      ]
     },
     "execution_count": 9,
     "metadata": {},
     "output_type": "execute_result"
    }
   ],
   "source": [
    "graph_viz_data = export_graphviz(treep, feature_names=df_train.columns, filled=True,\n",
    "            class_names=[\"Won't go\", \"Will go\"])\n",
    "\n",
    "# Plot da árvore...\n",
    "graph = graphviz.Source(graph_viz_data, format=\"png\") \n",
    "graph"
   ]
  },
  {
   "cell_type": "markdown",
   "metadata": {
    "id": "6foTpU0qmD3E"
   },
   "source": [
    "### Parte 2. Funções para calcular entropia e ganho de informação."
   ]
  },
  {
   "cell_type": "markdown",
   "metadata": {
    "id": "1AyYTeT-mD3E"
   },
   "source": [
    "Considere o seguinte exemplo de aquecimento: temos 9 bolas azuis e 11 bolas amarelas. Deixe que a bola tenha o rótulo **1** se for azul, **0** caso contrário."
   ]
  },
  {
   "cell_type": "code",
   "execution_count": 10,
   "metadata": {
    "id": "LMT71SxAmD3F"
   },
   "outputs": [],
   "source": [
    "balls = [1 for i in range(9)] + [0 for i in range(11)]"
   ]
  },
  {
   "cell_type": "markdown",
   "metadata": {
    "id": "YoiVGA5omD3F"
   },
   "source": [
    "<img src='https://habrastorage.org/webt/mu/vl/mt/muvlmtd2njeqf18trbldenpqvnm.png'>"
   ]
  },
  {
   "cell_type": "markdown",
   "metadata": {
    "id": "ojOrcdYwmD3F"
   },
   "source": [
    "Next split the balls into two groups:"
   ]
  },
  {
   "cell_type": "markdown",
   "metadata": {
    "id": "6J_QbpykmD3F"
   },
   "source": [
    "<img src='https://habrastorage.org/webt/bd/aq/5w/bdaq5wi3c4feezaexponvin8wmo.png'>"
   ]
  },
  {
   "cell_type": "code",
   "execution_count": 11,
   "metadata": {
    "id": "FdzUmOeimD3F"
   },
   "outputs": [],
   "source": [
    "# Realizando a quebra da arvore em dois grupos...\n",
    "balls_left  = [1 for i in range(8)] + [0 for i in range(5)] # 8 azuis e 5 amarelas\n",
    "balls_right = [1 for i in range(1)] + [0 for i in range(6)] # 1 azul and 6 amarelas"
   ]
  },
  {
   "cell_type": "markdown",
   "metadata": {
    "id": "mFeLVldLmD3G"
   },
   "source": [
    "#### Implementar uma função para calcular a entropia"
   ]
  },
  {
   "cell_type": "code",
   "execution_count": 14,
   "metadata": {
    "id": "zU1pzkMVmD3G"
   },
   "outputs": [],
   "source": [
    "from math import log\n",
    "    \n",
    "def entropy(a_list):\n",
    "    \"\"\"\n",
    "    Funcao que calcula a entropia de uma dada lista de valores\n",
    "\n",
    "    Parametros:\n",
    "        a_list -> Lista de elementos (nao necessariamente numericos)\n",
    "\n",
    "    Retorno\n",
    "        entropy -> valor da entropia\n",
    "    \"\"\"\n",
    "\n",
    "    entropy = 0\n",
    "\n",
    "    ################# Seu codigo aqui #################\n",
    "    entropy = -log(1)\n",
    "    n = 1\n",
    "    for k in range (1,len(a_list)):\n",
    "        if a_list[k] == a_list[0]:\n",
    "            n += 1\n",
    "        pk = n / (k + 1)\n",
    "        entropy += -(pk * log(pk))\n",
    "    ###################################################\n",
    "\n",
    "    return entropy"
   ]
  },
  {
   "cell_type": "markdown",
   "metadata": {
    "id": "Pn8LITE6mD3G"
   },
   "source": [
    "Tests"
   ]
  },
  {
   "cell_type": "code",
   "execution_count": 15,
   "metadata": {
    "id": "aZtsq8UwmD3G",
    "outputId": "7220f1fc-56f9-4e8f-ea12-e5cb4655fda5"
   },
   "outputs": [
    {
     "name": "stdout",
     "output_type": "stream",
     "text": [
      "3.0400685262766456\n",
      "1.0838976988398394\n",
      "1.9578526016249034\n",
      "1.6798654374741444\n"
     ]
    }
   ],
   "source": [
    "print(entropy(balls)) # 9 azuis e 11 amarelas\n",
    "print(entropy(balls_left)) # 8 azuis e 5 amarelas\n",
    "print(entropy(balls_right)) # 1 azuis e 6 amarelas\n",
    "print(entropy([1,2,3,4,5,6])) # entropia de um dado de 6 lados"
   ]
  },
  {
   "cell_type": "markdown",
   "metadata": {
    "id": "xHRSAFvqmD3H"
   },
   "source": [
    "1\\. Qual é a entropia do nó que corresponde à variável **balls_left**?\n",
    "1.084"
   ]
  },
  {
   "cell_type": "markdown",
   "metadata": {
    "id": "pSCgJXctmD3H"
   },
   "source": [
    "2\\. Qual é a entropia de um dado justo? (onde olhamos para um dado como um sistema com 6 estados igualmente prováveis)? 1.68"
   ]
  },
  {
   "cell_type": "markdown",
   "metadata": {
    "id": "0CcMTrKhmD3K"
   },
   "source": [
    "### Parte 3. Dataset de \"gente grande\""
   ]
  },
  {
   "cell_type": "markdown",
   "metadata": {
    "id": "QpWaErTgmD3K"
   },
   "source": [
    "#### Descrição:"
   ]
  },
  {
   "cell_type": "markdown",
   "metadata": {
    "id": "OJ7MRgaBmD3K"
   },
   "source": [
    "[Dataset UCI](http://archive.ics.uci.edu/ml/machine-learning-databases/adult)   (não precisa baixar, o Colab faz o download automaticamente 😉): classificação de pessoas usando dados demográficos - se elas ganham mais de $ 50.000 por ano ou não."
   ]
  },
  {
   "cell_type": "markdown",
   "metadata": {
    "id": "ufMZbtY2mD3L"
   },
   "source": [
    "Descrição das features"
   ]
  },
  {
   "cell_type": "markdown",
   "metadata": {
    "id": "C2Yug7JemD3L"
   },
   "source": [
    "- **Age** – feature contínua\n",
    "- **Workclass** –  feature contínua\n",
    "- **fnlwgt** (final weight of object) – feature contínua\n",
    "- **Education** –  feature categórica\n",
    "- **Education_Num** (number of years of education)– feature contínua\n",
    "- **Martial_Status** –  feature categórica\n",
    "- **Occupation** –  feature categórica\n",
    "- **Relationship** – feature categórica\n",
    "- **Race** – feature categórica\n",
    "- **Sex** – feature categórica\n",
    "- **Capital_Gain** – feature contínua\n",
    "- **Capital_Loss** – feature contínua\n",
    "- **Hours_per_week** – feature contínua\n",
    "- **Country** – feature categórica"
   ]
  },
  {
   "cell_type": "markdown",
   "metadata": {
    "id": "Z0SKA03amD3M"
   },
   "source": [
    "**Target** – Nível de remuneração (binário, se ganha ou não ganha pelo menos 50 000)."
   ]
  },
  {
   "cell_type": "markdown",
   "metadata": {
    "id": "ydLW9AfxmD3M"
   },
   "source": [
    "#### Reading train and test data"
   ]
  },
  {
   "cell_type": "code",
   "execution_count": 16,
   "metadata": {
    "id": "j__9-Q51mD3M"
   },
   "outputs": [],
   "source": [
    "data_train = pd.read_csv('https://gist.githubusercontent.com/joaopedromattos/adf1c5c54322e5df5c289a5a51c11a22/raw/28b58d9188ebde1c4441db4b5a475a7d8f7a182c/adult_train.csv')"
   ]
  },
  {
   "cell_type": "code",
   "execution_count": 17,
   "metadata": {
    "colab": {
     "base_uri": "https://localhost:8080/",
     "height": 204
    },
    "id": "xWZBMI46mD3M",
    "outputId": "5b2571e9-62cb-41f6-a5ab-5b87037a931a"
   },
   "outputs": [
    {
     "data": {
      "text/html": [
       "<div>\n",
       "<style scoped>\n",
       "    .dataframe tbody tr th:only-of-type {\n",
       "        vertical-align: middle;\n",
       "    }\n",
       "\n",
       "    .dataframe tbody tr th {\n",
       "        vertical-align: top;\n",
       "    }\n",
       "\n",
       "    .dataframe thead th {\n",
       "        text-align: right;\n",
       "    }\n",
       "</style>\n",
       "<table border=\"1\" class=\"dataframe\">\n",
       "  <thead>\n",
       "    <tr style=\"text-align: right;\">\n",
       "      <th></th>\n",
       "      <th>Age</th>\n",
       "      <th>Workclass</th>\n",
       "      <th>fnlwgt</th>\n",
       "      <th>Education</th>\n",
       "      <th>Education_Num</th>\n",
       "      <th>Martial_Status</th>\n",
       "      <th>Occupation</th>\n",
       "      <th>Relationship</th>\n",
       "      <th>Race</th>\n",
       "      <th>Sex</th>\n",
       "      <th>Capital_Gain</th>\n",
       "      <th>Capital_Loss</th>\n",
       "      <th>Hours_per_week</th>\n",
       "      <th>Country</th>\n",
       "      <th>Target</th>\n",
       "    </tr>\n",
       "  </thead>\n",
       "  <tbody>\n",
       "    <tr>\n",
       "      <th>32556</th>\n",
       "      <td>27</td>\n",
       "      <td>Private</td>\n",
       "      <td>257302</td>\n",
       "      <td>Assoc-acdm</td>\n",
       "      <td>12</td>\n",
       "      <td>Married-civ-spouse</td>\n",
       "      <td>Tech-support</td>\n",
       "      <td>Wife</td>\n",
       "      <td>White</td>\n",
       "      <td>Female</td>\n",
       "      <td>0</td>\n",
       "      <td>0</td>\n",
       "      <td>38</td>\n",
       "      <td>United-States</td>\n",
       "      <td>&lt;=50K</td>\n",
       "    </tr>\n",
       "    <tr>\n",
       "      <th>32557</th>\n",
       "      <td>40</td>\n",
       "      <td>Private</td>\n",
       "      <td>154374</td>\n",
       "      <td>HS-grad</td>\n",
       "      <td>9</td>\n",
       "      <td>Married-civ-spouse</td>\n",
       "      <td>Machine-op-inspct</td>\n",
       "      <td>Husband</td>\n",
       "      <td>White</td>\n",
       "      <td>Male</td>\n",
       "      <td>0</td>\n",
       "      <td>0</td>\n",
       "      <td>40</td>\n",
       "      <td>United-States</td>\n",
       "      <td>&gt;50K</td>\n",
       "    </tr>\n",
       "    <tr>\n",
       "      <th>32558</th>\n",
       "      <td>58</td>\n",
       "      <td>Private</td>\n",
       "      <td>151910</td>\n",
       "      <td>HS-grad</td>\n",
       "      <td>9</td>\n",
       "      <td>Widowed</td>\n",
       "      <td>Adm-clerical</td>\n",
       "      <td>Unmarried</td>\n",
       "      <td>White</td>\n",
       "      <td>Female</td>\n",
       "      <td>0</td>\n",
       "      <td>0</td>\n",
       "      <td>40</td>\n",
       "      <td>United-States</td>\n",
       "      <td>&lt;=50K</td>\n",
       "    </tr>\n",
       "    <tr>\n",
       "      <th>32559</th>\n",
       "      <td>22</td>\n",
       "      <td>Private</td>\n",
       "      <td>201490</td>\n",
       "      <td>HS-grad</td>\n",
       "      <td>9</td>\n",
       "      <td>Never-married</td>\n",
       "      <td>Adm-clerical</td>\n",
       "      <td>Own-child</td>\n",
       "      <td>White</td>\n",
       "      <td>Male</td>\n",
       "      <td>0</td>\n",
       "      <td>0</td>\n",
       "      <td>20</td>\n",
       "      <td>United-States</td>\n",
       "      <td>&lt;=50K</td>\n",
       "    </tr>\n",
       "    <tr>\n",
       "      <th>32560</th>\n",
       "      <td>52</td>\n",
       "      <td>Self-emp-inc</td>\n",
       "      <td>287927</td>\n",
       "      <td>HS-grad</td>\n",
       "      <td>9</td>\n",
       "      <td>Married-civ-spouse</td>\n",
       "      <td>Exec-managerial</td>\n",
       "      <td>Wife</td>\n",
       "      <td>White</td>\n",
       "      <td>Female</td>\n",
       "      <td>15024</td>\n",
       "      <td>0</td>\n",
       "      <td>40</td>\n",
       "      <td>United-States</td>\n",
       "      <td>&gt;50K</td>\n",
       "    </tr>\n",
       "  </tbody>\n",
       "</table>\n",
       "</div>"
      ],
      "text/plain": [
       "       Age      Workclass  fnlwgt    Education  Education_Num  \\\n",
       "32556   27        Private  257302   Assoc-acdm             12   \n",
       "32557   40        Private  154374      HS-grad              9   \n",
       "32558   58        Private  151910      HS-grad              9   \n",
       "32559   22        Private  201490      HS-grad              9   \n",
       "32560   52   Self-emp-inc  287927      HS-grad              9   \n",
       "\n",
       "            Martial_Status          Occupation Relationship    Race      Sex  \\\n",
       "32556   Married-civ-spouse        Tech-support         Wife   White   Female   \n",
       "32557   Married-civ-spouse   Machine-op-inspct      Husband   White     Male   \n",
       "32558              Widowed        Adm-clerical    Unmarried   White   Female   \n",
       "32559        Never-married        Adm-clerical    Own-child   White     Male   \n",
       "32560   Married-civ-spouse     Exec-managerial         Wife   White   Female   \n",
       "\n",
       "       Capital_Gain  Capital_Loss  Hours_per_week         Country  Target  \n",
       "32556             0             0              38   United-States   <=50K  \n",
       "32557             0             0              40   United-States    >50K  \n",
       "32558             0             0              40   United-States   <=50K  \n",
       "32559             0             0              20   United-States   <=50K  \n",
       "32560         15024             0              40   United-States    >50K  "
      ]
     },
     "execution_count": 17,
     "metadata": {},
     "output_type": "execute_result"
    }
   ],
   "source": [
    "data_train.tail()"
   ]
  },
  {
   "cell_type": "code",
   "execution_count": 18,
   "metadata": {
    "id": "CbmkTqCOmD3N"
   },
   "outputs": [],
   "source": [
    "data_test = pd.read_csv('https://gist.githubusercontent.com/joaopedromattos/adf1c5c54322e5df5c289a5a51c11a22/raw/28b58d9188ebde1c4441db4b5a475a7d8f7a182c/adult_test.csv')"
   ]
  },
  {
   "cell_type": "code",
   "execution_count": 19,
   "metadata": {
    "colab": {
     "base_uri": "https://localhost:8080/",
     "height": 204
    },
    "id": "JrvvetfImD3N",
    "outputId": "a4c001b7-97c4-4d0d-98da-4d633ca9e7e0"
   },
   "outputs": [
    {
     "data": {
      "text/html": [
       "<div>\n",
       "<style scoped>\n",
       "    .dataframe tbody tr th:only-of-type {\n",
       "        vertical-align: middle;\n",
       "    }\n",
       "\n",
       "    .dataframe tbody tr th {\n",
       "        vertical-align: top;\n",
       "    }\n",
       "\n",
       "    .dataframe thead th {\n",
       "        text-align: right;\n",
       "    }\n",
       "</style>\n",
       "<table border=\"1\" class=\"dataframe\">\n",
       "  <thead>\n",
       "    <tr style=\"text-align: right;\">\n",
       "      <th></th>\n",
       "      <th>Age</th>\n",
       "      <th>Workclass</th>\n",
       "      <th>fnlwgt</th>\n",
       "      <th>Education</th>\n",
       "      <th>Education_Num</th>\n",
       "      <th>Martial_Status</th>\n",
       "      <th>Occupation</th>\n",
       "      <th>Relationship</th>\n",
       "      <th>Race</th>\n",
       "      <th>Sex</th>\n",
       "      <th>Capital_Gain</th>\n",
       "      <th>Capital_Loss</th>\n",
       "      <th>Hours_per_week</th>\n",
       "      <th>Country</th>\n",
       "      <th>Target</th>\n",
       "    </tr>\n",
       "  </thead>\n",
       "  <tbody>\n",
       "    <tr>\n",
       "      <th>16276</th>\n",
       "      <td>39</td>\n",
       "      <td>Private</td>\n",
       "      <td>215419.0</td>\n",
       "      <td>Bachelors</td>\n",
       "      <td>13.0</td>\n",
       "      <td>Divorced</td>\n",
       "      <td>Prof-specialty</td>\n",
       "      <td>Not-in-family</td>\n",
       "      <td>White</td>\n",
       "      <td>Female</td>\n",
       "      <td>0.0</td>\n",
       "      <td>0.0</td>\n",
       "      <td>36.0</td>\n",
       "      <td>United-States</td>\n",
       "      <td>&lt;=50K.</td>\n",
       "    </tr>\n",
       "    <tr>\n",
       "      <th>16277</th>\n",
       "      <td>64</td>\n",
       "      <td>NaN</td>\n",
       "      <td>321403.0</td>\n",
       "      <td>HS-grad</td>\n",
       "      <td>9.0</td>\n",
       "      <td>Widowed</td>\n",
       "      <td>NaN</td>\n",
       "      <td>Other-relative</td>\n",
       "      <td>Black</td>\n",
       "      <td>Male</td>\n",
       "      <td>0.0</td>\n",
       "      <td>0.0</td>\n",
       "      <td>40.0</td>\n",
       "      <td>United-States</td>\n",
       "      <td>&lt;=50K.</td>\n",
       "    </tr>\n",
       "    <tr>\n",
       "      <th>16278</th>\n",
       "      <td>38</td>\n",
       "      <td>Private</td>\n",
       "      <td>374983.0</td>\n",
       "      <td>Bachelors</td>\n",
       "      <td>13.0</td>\n",
       "      <td>Married-civ-spouse</td>\n",
       "      <td>Prof-specialty</td>\n",
       "      <td>Husband</td>\n",
       "      <td>White</td>\n",
       "      <td>Male</td>\n",
       "      <td>0.0</td>\n",
       "      <td>0.0</td>\n",
       "      <td>50.0</td>\n",
       "      <td>United-States</td>\n",
       "      <td>&lt;=50K.</td>\n",
       "    </tr>\n",
       "    <tr>\n",
       "      <th>16279</th>\n",
       "      <td>44</td>\n",
       "      <td>Private</td>\n",
       "      <td>83891.0</td>\n",
       "      <td>Bachelors</td>\n",
       "      <td>13.0</td>\n",
       "      <td>Divorced</td>\n",
       "      <td>Adm-clerical</td>\n",
       "      <td>Own-child</td>\n",
       "      <td>Asian-Pac-Islander</td>\n",
       "      <td>Male</td>\n",
       "      <td>5455.0</td>\n",
       "      <td>0.0</td>\n",
       "      <td>40.0</td>\n",
       "      <td>United-States</td>\n",
       "      <td>&lt;=50K.</td>\n",
       "    </tr>\n",
       "    <tr>\n",
       "      <th>16280</th>\n",
       "      <td>35</td>\n",
       "      <td>Self-emp-inc</td>\n",
       "      <td>182148.0</td>\n",
       "      <td>Bachelors</td>\n",
       "      <td>13.0</td>\n",
       "      <td>Married-civ-spouse</td>\n",
       "      <td>Exec-managerial</td>\n",
       "      <td>Husband</td>\n",
       "      <td>White</td>\n",
       "      <td>Male</td>\n",
       "      <td>0.0</td>\n",
       "      <td>0.0</td>\n",
       "      <td>60.0</td>\n",
       "      <td>United-States</td>\n",
       "      <td>&gt;50K.</td>\n",
       "    </tr>\n",
       "  </tbody>\n",
       "</table>\n",
       "</div>"
      ],
      "text/plain": [
       "       Age      Workclass    fnlwgt   Education  Education_Num  \\\n",
       "16276   39        Private  215419.0   Bachelors           13.0   \n",
       "16277   64            NaN  321403.0     HS-grad            9.0   \n",
       "16278   38        Private  374983.0   Bachelors           13.0   \n",
       "16279   44        Private   83891.0   Bachelors           13.0   \n",
       "16280   35   Self-emp-inc  182148.0   Bachelors           13.0   \n",
       "\n",
       "            Martial_Status        Occupation     Relationship  \\\n",
       "16276             Divorced    Prof-specialty    Not-in-family   \n",
       "16277              Widowed               NaN   Other-relative   \n",
       "16278   Married-civ-spouse    Prof-specialty          Husband   \n",
       "16279             Divorced      Adm-clerical        Own-child   \n",
       "16280   Married-civ-spouse   Exec-managerial          Husband   \n",
       "\n",
       "                      Race      Sex  Capital_Gain  Capital_Loss  \\\n",
       "16276                White   Female           0.0           0.0   \n",
       "16277                Black     Male           0.0           0.0   \n",
       "16278                White     Male           0.0           0.0   \n",
       "16279   Asian-Pac-Islander     Male        5455.0           0.0   \n",
       "16280                White     Male           0.0           0.0   \n",
       "\n",
       "       Hours_per_week         Country   Target  \n",
       "16276            36.0   United-States   <=50K.  \n",
       "16277            40.0   United-States   <=50K.  \n",
       "16278            50.0   United-States   <=50K.  \n",
       "16279            40.0   United-States   <=50K.  \n",
       "16280            60.0   United-States    >50K.  "
      ]
     },
     "execution_count": 19,
     "metadata": {},
     "output_type": "execute_result"
    }
   ],
   "source": [
    "data_test.tail()"
   ]
  },
  {
   "cell_type": "code",
   "execution_count": 20,
   "metadata": {
    "id": "68nnmIdrmD3N"
   },
   "outputs": [],
   "source": [
    "# Vamos remover as linhas que possuem um target incorreto no teste\n",
    "data_test = data_test[(data_test['Target'] == ' >50K.') | (data_test['Target']==' <=50K.')]\n",
    "\n",
    "# Codificação da variavel como binária\n",
    "data_train.loc[data_train['Target']==' <=50K', 'Target'] = 0\n",
    "data_train.loc[data_train['Target']==' >50K', 'Target'] = 1\n",
    "\n",
    "data_test.loc[data_test['Target']==' <=50K.', 'Target'] = 0\n",
    "data_test.loc[data_test['Target']==' >50K.', 'Target'] = 1"
   ]
  },
  {
   "cell_type": "markdown",
   "metadata": {
    "id": "L67huGNdmD3N"
   },
   "source": [
    "#### Análise de dados inicial"
   ]
  },
  {
   "cell_type": "code",
   "execution_count": 21,
   "metadata": {
    "colab": {
     "base_uri": "https://localhost:8080/",
     "height": 514
    },
    "id": "fpD8KjRUmD3O",
    "outputId": "e37d21b5-daff-4674-9632-1ba13e00297f"
   },
   "outputs": [
    {
     "data": {
      "text/html": [
       "<div>\n",
       "<style scoped>\n",
       "    .dataframe tbody tr th:only-of-type {\n",
       "        vertical-align: middle;\n",
       "    }\n",
       "\n",
       "    .dataframe tbody tr th {\n",
       "        vertical-align: top;\n",
       "    }\n",
       "\n",
       "    .dataframe thead th {\n",
       "        text-align: right;\n",
       "    }\n",
       "</style>\n",
       "<table border=\"1\" class=\"dataframe\">\n",
       "  <thead>\n",
       "    <tr style=\"text-align: right;\">\n",
       "      <th></th>\n",
       "      <th>count</th>\n",
       "      <th>unique</th>\n",
       "      <th>top</th>\n",
       "      <th>freq</th>\n",
       "      <th>mean</th>\n",
       "      <th>std</th>\n",
       "      <th>min</th>\n",
       "      <th>25%</th>\n",
       "      <th>50%</th>\n",
       "      <th>75%</th>\n",
       "      <th>max</th>\n",
       "    </tr>\n",
       "  </thead>\n",
       "  <tbody>\n",
       "    <tr>\n",
       "      <th>Age</th>\n",
       "      <td>16281</td>\n",
       "      <td>NaN</td>\n",
       "      <td>NaN</td>\n",
       "      <td>NaN</td>\n",
       "      <td>38.7675</td>\n",
       "      <td>13.8492</td>\n",
       "      <td>17</td>\n",
       "      <td>28</td>\n",
       "      <td>37</td>\n",
       "      <td>48</td>\n",
       "      <td>90</td>\n",
       "    </tr>\n",
       "    <tr>\n",
       "      <th>Workclass</th>\n",
       "      <td>15318</td>\n",
       "      <td>8</td>\n",
       "      <td>Private</td>\n",
       "      <td>11210</td>\n",
       "      <td>NaN</td>\n",
       "      <td>NaN</td>\n",
       "      <td>NaN</td>\n",
       "      <td>NaN</td>\n",
       "      <td>NaN</td>\n",
       "      <td>NaN</td>\n",
       "      <td>NaN</td>\n",
       "    </tr>\n",
       "    <tr>\n",
       "      <th>fnlwgt</th>\n",
       "      <td>16281</td>\n",
       "      <td>NaN</td>\n",
       "      <td>NaN</td>\n",
       "      <td>NaN</td>\n",
       "      <td>189436</td>\n",
       "      <td>105715</td>\n",
       "      <td>13492</td>\n",
       "      <td>116736</td>\n",
       "      <td>177831</td>\n",
       "      <td>238384</td>\n",
       "      <td>1.4904e+06</td>\n",
       "    </tr>\n",
       "    <tr>\n",
       "      <th>Education</th>\n",
       "      <td>16281</td>\n",
       "      <td>16</td>\n",
       "      <td>HS-grad</td>\n",
       "      <td>5283</td>\n",
       "      <td>NaN</td>\n",
       "      <td>NaN</td>\n",
       "      <td>NaN</td>\n",
       "      <td>NaN</td>\n",
       "      <td>NaN</td>\n",
       "      <td>NaN</td>\n",
       "      <td>NaN</td>\n",
       "    </tr>\n",
       "    <tr>\n",
       "      <th>Education_Num</th>\n",
       "      <td>16281</td>\n",
       "      <td>NaN</td>\n",
       "      <td>NaN</td>\n",
       "      <td>NaN</td>\n",
       "      <td>10.0729</td>\n",
       "      <td>2.56755</td>\n",
       "      <td>1</td>\n",
       "      <td>9</td>\n",
       "      <td>10</td>\n",
       "      <td>12</td>\n",
       "      <td>16</td>\n",
       "    </tr>\n",
       "    <tr>\n",
       "      <th>Martial_Status</th>\n",
       "      <td>16281</td>\n",
       "      <td>7</td>\n",
       "      <td>Married-civ-spouse</td>\n",
       "      <td>7403</td>\n",
       "      <td>NaN</td>\n",
       "      <td>NaN</td>\n",
       "      <td>NaN</td>\n",
       "      <td>NaN</td>\n",
       "      <td>NaN</td>\n",
       "      <td>NaN</td>\n",
       "      <td>NaN</td>\n",
       "    </tr>\n",
       "    <tr>\n",
       "      <th>Occupation</th>\n",
       "      <td>15315</td>\n",
       "      <td>14</td>\n",
       "      <td>Prof-specialty</td>\n",
       "      <td>2032</td>\n",
       "      <td>NaN</td>\n",
       "      <td>NaN</td>\n",
       "      <td>NaN</td>\n",
       "      <td>NaN</td>\n",
       "      <td>NaN</td>\n",
       "      <td>NaN</td>\n",
       "      <td>NaN</td>\n",
       "    </tr>\n",
       "    <tr>\n",
       "      <th>Relationship</th>\n",
       "      <td>16281</td>\n",
       "      <td>6</td>\n",
       "      <td>Husband</td>\n",
       "      <td>6523</td>\n",
       "      <td>NaN</td>\n",
       "      <td>NaN</td>\n",
       "      <td>NaN</td>\n",
       "      <td>NaN</td>\n",
       "      <td>NaN</td>\n",
       "      <td>NaN</td>\n",
       "      <td>NaN</td>\n",
       "    </tr>\n",
       "    <tr>\n",
       "      <th>Race</th>\n",
       "      <td>16281</td>\n",
       "      <td>5</td>\n",
       "      <td>White</td>\n",
       "      <td>13946</td>\n",
       "      <td>NaN</td>\n",
       "      <td>NaN</td>\n",
       "      <td>NaN</td>\n",
       "      <td>NaN</td>\n",
       "      <td>NaN</td>\n",
       "      <td>NaN</td>\n",
       "      <td>NaN</td>\n",
       "    </tr>\n",
       "    <tr>\n",
       "      <th>Sex</th>\n",
       "      <td>16281</td>\n",
       "      <td>2</td>\n",
       "      <td>Male</td>\n",
       "      <td>10860</td>\n",
       "      <td>NaN</td>\n",
       "      <td>NaN</td>\n",
       "      <td>NaN</td>\n",
       "      <td>NaN</td>\n",
       "      <td>NaN</td>\n",
       "      <td>NaN</td>\n",
       "      <td>NaN</td>\n",
       "    </tr>\n",
       "    <tr>\n",
       "      <th>Capital_Gain</th>\n",
       "      <td>16281</td>\n",
       "      <td>NaN</td>\n",
       "      <td>NaN</td>\n",
       "      <td>NaN</td>\n",
       "      <td>1081.91</td>\n",
       "      <td>7583.94</td>\n",
       "      <td>0</td>\n",
       "      <td>0</td>\n",
       "      <td>0</td>\n",
       "      <td>0</td>\n",
       "      <td>99999</td>\n",
       "    </tr>\n",
       "    <tr>\n",
       "      <th>Capital_Loss</th>\n",
       "      <td>16281</td>\n",
       "      <td>NaN</td>\n",
       "      <td>NaN</td>\n",
       "      <td>NaN</td>\n",
       "      <td>87.8993</td>\n",
       "      <td>403.105</td>\n",
       "      <td>0</td>\n",
       "      <td>0</td>\n",
       "      <td>0</td>\n",
       "      <td>0</td>\n",
       "      <td>3770</td>\n",
       "    </tr>\n",
       "    <tr>\n",
       "      <th>Hours_per_week</th>\n",
       "      <td>16281</td>\n",
       "      <td>NaN</td>\n",
       "      <td>NaN</td>\n",
       "      <td>NaN</td>\n",
       "      <td>40.3922</td>\n",
       "      <td>12.4793</td>\n",
       "      <td>1</td>\n",
       "      <td>40</td>\n",
       "      <td>40</td>\n",
       "      <td>45</td>\n",
       "      <td>99</td>\n",
       "    </tr>\n",
       "    <tr>\n",
       "      <th>Country</th>\n",
       "      <td>16007</td>\n",
       "      <td>40</td>\n",
       "      <td>United-States</td>\n",
       "      <td>14662</td>\n",
       "      <td>NaN</td>\n",
       "      <td>NaN</td>\n",
       "      <td>NaN</td>\n",
       "      <td>NaN</td>\n",
       "      <td>NaN</td>\n",
       "      <td>NaN</td>\n",
       "      <td>NaN</td>\n",
       "    </tr>\n",
       "    <tr>\n",
       "      <th>Target</th>\n",
       "      <td>16281</td>\n",
       "      <td>NaN</td>\n",
       "      <td>NaN</td>\n",
       "      <td>NaN</td>\n",
       "      <td>0.236226</td>\n",
       "      <td>0.424776</td>\n",
       "      <td>0</td>\n",
       "      <td>0</td>\n",
       "      <td>0</td>\n",
       "      <td>0</td>\n",
       "      <td>1</td>\n",
       "    </tr>\n",
       "  </tbody>\n",
       "</table>\n",
       "</div>"
      ],
      "text/plain": [
       "                count unique                  top   freq      mean       std  \\\n",
       "Age             16281    NaN                  NaN    NaN   38.7675   13.8492   \n",
       "Workclass       15318      8              Private  11210       NaN       NaN   \n",
       "fnlwgt          16281    NaN                  NaN    NaN    189436    105715   \n",
       "Education       16281     16              HS-grad   5283       NaN       NaN   \n",
       "Education_Num   16281    NaN                  NaN    NaN   10.0729   2.56755   \n",
       "Martial_Status  16281      7   Married-civ-spouse   7403       NaN       NaN   \n",
       "Occupation      15315     14       Prof-specialty   2032       NaN       NaN   \n",
       "Relationship    16281      6              Husband   6523       NaN       NaN   \n",
       "Race            16281      5                White  13946       NaN       NaN   \n",
       "Sex             16281      2                 Male  10860       NaN       NaN   \n",
       "Capital_Gain    16281    NaN                  NaN    NaN   1081.91   7583.94   \n",
       "Capital_Loss    16281    NaN                  NaN    NaN   87.8993   403.105   \n",
       "Hours_per_week  16281    NaN                  NaN    NaN   40.3922   12.4793   \n",
       "Country         16007     40        United-States  14662       NaN       NaN   \n",
       "Target          16281    NaN                  NaN    NaN  0.236226  0.424776   \n",
       "\n",
       "                  min     25%     50%     75%         max  \n",
       "Age                17      28      37      48          90  \n",
       "Workclass         NaN     NaN     NaN     NaN         NaN  \n",
       "fnlwgt          13492  116736  177831  238384  1.4904e+06  \n",
       "Education         NaN     NaN     NaN     NaN         NaN  \n",
       "Education_Num       1       9      10      12          16  \n",
       "Martial_Status    NaN     NaN     NaN     NaN         NaN  \n",
       "Occupation        NaN     NaN     NaN     NaN         NaN  \n",
       "Relationship      NaN     NaN     NaN     NaN         NaN  \n",
       "Race              NaN     NaN     NaN     NaN         NaN  \n",
       "Sex               NaN     NaN     NaN     NaN         NaN  \n",
       "Capital_Gain        0       0       0       0       99999  \n",
       "Capital_Loss        0       0       0       0        3770  \n",
       "Hours_per_week      1      40      40      45          99  \n",
       "Country           NaN     NaN     NaN     NaN         NaN  \n",
       "Target              0       0       0       0           1  "
      ]
     },
     "execution_count": 21,
     "metadata": {},
     "output_type": "execute_result"
    }
   ],
   "source": [
    "data_test.describe(include='all').T"
   ]
  },
  {
   "cell_type": "code",
   "execution_count": 22,
   "metadata": {
    "colab": {
     "base_uri": "https://localhost:8080/"
    },
    "id": "bvvFOZg6mD3O",
    "outputId": "bdddcb74-9712-46d3-dc6f-1821536bb848"
   },
   "outputs": [
    {
     "data": {
      "text/plain": [
       "0    24720\n",
       "1     7841\n",
       "Name: Target, dtype: int64"
      ]
     },
     "execution_count": 22,
     "metadata": {},
     "output_type": "execute_result"
    }
   ],
   "source": [
    "data_train['Target'].value_counts()"
   ]
  },
  {
   "cell_type": "code",
   "execution_count": 23,
   "metadata": {
    "colab": {
     "base_uri": "https://localhost:8080/",
     "height": 1000
    },
    "id": "7Awm3nPlmD3O",
    "outputId": "e93e6d98-7543-4c27-a06c-9f4c524877bd"
   },
   "outputs": [
    {
     "data": {
      "image/png": "[encoded data removed]",
      "text/plain": [
       "<Figure size 1800x1080 with 15 Axes>"
      ]
     },
     "metadata": {
      "image/png": {
       "height": 999,
       "width": 1448
      },
      "needs_background": "light"
     },
     "output_type": "display_data"
    }
   ],
   "source": [
    "fig = plt.figure(figsize=(25, 15))\n",
    "cols = 5\n",
    "rows = np.ceil(float(data_train.shape[1]) / cols)\n",
    "for i, column in enumerate(data_train.columns):\n",
    "    ax = fig.add_subplot(rows, cols, i + 1)\n",
    "    ax.set_title(column)\n",
    "    if data_train.dtypes[column] == np.object:\n",
    "        data_train[column].value_counts().plot(kind=\"bar\", axes=ax)\n",
    "    else:\n",
    "        data_train[column].hist(axes=ax)\n",
    "        plt.xticks(rotation=\"vertical\")\n",
    "plt.subplots_adjust(hspace=0.7, wspace=0.2)"
   ]
  },
  {
   "cell_type": "markdown",
   "metadata": {
    "id": "eYfxJ_y2mD3P"
   },
   "source": [
    "#### Verificação dos tipos de dados do treino e do teste, respectivamente"
   ]
  },
  {
   "cell_type": "code",
   "execution_count": 24,
   "metadata": {
    "colab": {
     "base_uri": "https://localhost:8080/"
    },
    "id": "hpzjeGLgmD3P",
    "outputId": "69f4e123-d777-4029-c899-8c51fb86589a"
   },
   "outputs": [
    {
     "data": {
      "text/plain": [
       "Age                int64\n",
       "Workclass         object\n",
       "fnlwgt             int64\n",
       "Education         object\n",
       "Education_Num      int64\n",
       "Martial_Status    object\n",
       "Occupation        object\n",
       "Relationship      object\n",
       "Race              object\n",
       "Sex               object\n",
       "Capital_Gain       int64\n",
       "Capital_Loss       int64\n",
       "Hours_per_week     int64\n",
       "Country           object\n",
       "Target             int64\n",
       "dtype: object"
      ]
     },
     "execution_count": 24,
     "metadata": {},
     "output_type": "execute_result"
    }
   ],
   "source": [
    "data_train.dtypes"
   ]
  },
  {
   "cell_type": "code",
   "execution_count": 25,
   "metadata": {
    "colab": {
     "base_uri": "https://localhost:8080/"
    },
    "id": "TINuKTW4mD3P",
    "outputId": "09fc118f-488d-4ed8-b745-1464bdd16fbe"
   },
   "outputs": [
    {
     "data": {
      "text/plain": [
       "Age                 int64\n",
       "Workclass          object\n",
       "fnlwgt            float64\n",
       "Education          object\n",
       "Education_Num     float64\n",
       "Martial_Status     object\n",
       "Occupation         object\n",
       "Relationship       object\n",
       "Race               object\n",
       "Sex                object\n",
       "Capital_Gain      float64\n",
       "Capital_Loss      float64\n",
       "Hours_per_week    float64\n",
       "Country            object\n",
       "Target              int64\n",
       "dtype: object"
      ]
     },
     "execution_count": 25,
     "metadata": {},
     "output_type": "execute_result"
    }
   ],
   "source": [
    "data_test.dtypes"
   ]
  },
  {
   "cell_type": "markdown",
   "metadata": {
    "id": "y5Pj8XNHmD3P"
   },
   "source": [
    "Como podemos ver, nos dados de teste, a idade é tratada como tipo **object**. Precisamos consertar isso."
   ]
  },
  {
   "cell_type": "code",
   "execution_count": 26,
   "metadata": {
    "id": "YL21fmzYmD3P"
   },
   "outputs": [],
   "source": [
    "data_test['Age'] = data_test['Age'].astype(int)"
   ]
  },
  {
   "cell_type": "markdown",
   "metadata": {
    "id": "kYrlKomQmD3Q"
   },
   "source": [
    "Além disso, vamos fazer o casting de todas as *features* do tipo **float** para o tipo **int** para manter os tipos consistentes entre nossos dados de treinamento e teste."
   ]
  },
  {
   "cell_type": "code",
   "execution_count": 27,
   "metadata": {
    "id": "0pdWqXCGmD3Q"
   },
   "outputs": [],
   "source": [
    "data_test['fnlwgt'] = data_test['fnlwgt'].astype(int)\n",
    "data_test['Education_Num'] = data_test['Education_Num'].astype(int)\n",
    "data_test['Capital_Gain'] = data_test['Capital_Gain'].astype(int)\n",
    "data_test['Capital_Loss'] = data_test['Capital_Loss'].astype(int)\n",
    "data_test['Hours_per_week'] = data_test['Hours_per_week'].astype(int)"
   ]
  },
  {
   "cell_type": "markdown",
   "metadata": {
    "id": "5k3BJQoMmD3Q"
   },
   "source": [
    "#### Preenchemos os dados ausentes para *features* contínuas com o valor da mediana. No caso de features categóricas, usamos a moda."
   ]
  },
  {
   "cell_type": "code",
   "execution_count": 28,
   "metadata": {
    "colab": {
     "base_uri": "https://localhost:8080/"
    },
    "id": "-laG1EEsmD3Q",
    "outputId": "b3eb570d-91d7-43f6-b844-11fe6a1ecb6d"
   },
   "outputs": [
    {
     "name": "stdout",
     "output_type": "stream",
     "text": [
      "<class 'pandas.core.frame.DataFrame'>\n",
      "RangeIndex: 32561 entries, 0 to 32560\n",
      "Data columns (total 15 columns):\n",
      "Age               32561 non-null int64\n",
      "Workclass         30725 non-null object\n",
      "fnlwgt            32561 non-null int64\n",
      "Education         32561 non-null object\n",
      "Education_Num     32561 non-null int64\n",
      "Martial_Status    32561 non-null object\n",
      "Occupation        30718 non-null object\n",
      "Relationship      32561 non-null object\n",
      "Race              32561 non-null object\n",
      "Sex               32561 non-null object\n",
      "Capital_Gain      32561 non-null int64\n",
      "Capital_Loss      32561 non-null int64\n",
      "Hours_per_week    32561 non-null int64\n",
      "Country           31978 non-null object\n",
      "Target            32561 non-null int64\n",
      "dtypes: int64(7), object(8)\n",
      "memory usage: 3.7+ MB\n"
     ]
    }
   ],
   "source": [
    "# Conferindo quais colunas possuem dados faltantes\n",
    "data_train.info()"
   ]
  },
  {
   "cell_type": "code",
   "execution_count": 29,
   "metadata": {
    "colab": {
     "base_uri": "https://localhost:8080/"
    },
    "id": "FxmaAiqemD3R",
    "outputId": "61102757-adfa-4259-dcc6-d1fed71be96c"
   },
   "outputs": [
    {
     "name": "stdout",
     "output_type": "stream",
     "text": [
      "categorical_columns: ['Workclass', 'Education', 'Martial_Status', 'Occupation', 'Relationship', 'Race', 'Sex', 'Country']\n",
      "numerical_columns: ['Age', 'fnlwgt', 'Education_Num', 'Capital_Gain', 'Capital_Loss', 'Hours_per_week', 'Target']\n"
     ]
    }
   ],
   "source": [
    "# Armazenamento dos nomes das colunas categoricas e numericas.\n",
    "categorical_columns = [c for c in data_train.columns \n",
    "                       if data_train[c].dtype.name == 'object']\n",
    "numerical_columns = [c for c in data_train.columns \n",
    "                     if data_train[c].dtype.name != 'object']\n",
    "\n",
    "print('categorical_columns:', categorical_columns)\n",
    "print('numerical_columns:', numerical_columns)"
   ]
  },
  {
   "cell_type": "code",
   "execution_count": 30,
   "metadata": {
    "id": "a3d016jcmD3R"
   },
   "outputs": [],
   "source": [
    "# Preenchimento dos valores faltantes\n",
    "\n",
    "for c in categorical_columns:\n",
    "    data_train[c].fillna(data_train[c].mode()[0], inplace=True)\n",
    "    data_test[c].fillna(data_train[c].mode()[0], inplace=True)\n",
    "    \n",
    "for c in numerical_columns:\n",
    "    data_train[c].fillna(data_train[c].median(), inplace=True)\n",
    "    data_test[c].fillna(data_train[c].median(), inplace=True)"
   ]
  },
  {
   "cell_type": "code",
   "execution_count": 31,
   "metadata": {
    "colab": {
     "base_uri": "https://localhost:8080/"
    },
    "id": "dmGu_IExmD3R",
    "outputId": "6d9b25d5-a5d9-479c-a5b5-46b088a6bd15"
   },
   "outputs": [
    {
     "name": "stdout",
     "output_type": "stream",
     "text": [
      "<class 'pandas.core.frame.DataFrame'>\n",
      "RangeIndex: 32561 entries, 0 to 32560\n",
      "Data columns (total 15 columns):\n",
      "Age               32561 non-null int64\n",
      "Workclass         32561 non-null object\n",
      "fnlwgt            32561 non-null int64\n",
      "Education         32561 non-null object\n",
      "Education_Num     32561 non-null int64\n",
      "Martial_Status    32561 non-null object\n",
      "Occupation        32561 non-null object\n",
      "Relationship      32561 non-null object\n",
      "Race              32561 non-null object\n",
      "Sex               32561 non-null object\n",
      "Capital_Gain      32561 non-null int64\n",
      "Capital_Loss      32561 non-null int64\n",
      "Hours_per_week    32561 non-null int64\n",
      "Country           32561 non-null object\n",
      "Target            32561 non-null int64\n",
      "dtypes: int64(7), object(8)\n",
      "memory usage: 3.7+ MB\n"
     ]
    }
   ],
   "source": [
    "# Verificacao dos valores faltantes. Podemos ver que nao ha mais nulos :D\n",
    "data_train.info()"
   ]
  },
  {
   "cell_type": "markdown",
   "metadata": {
    "id": "M7NTnBgtmD3S"
   },
   "source": [
    "One-hot encoding para algumas variaveis: **Workclass**, **Education**, **Martial_Status**, **Occupation**, **Relationship**, **Race**, **Sex**, **Country**. Não faremos \"na mão\", pois o pandas já nos possibilita essa funcionalidade através do método **get_dummies**"
   ]
  },
  {
   "cell_type": "code",
   "execution_count": 32,
   "metadata": {
    "id": "XMY2U0XvmD3S"
   },
   "outputs": [],
   "source": [
    "# One-hot encoding para valores do treino e do teste\n",
    "\n",
    "data_train = pd.concat([data_train[numerical_columns],\n",
    "    pd.get_dummies(data_train[categorical_columns])], axis=1)\n",
    "\n",
    "data_test = pd.concat([data_test[numerical_columns],\n",
    "    pd.get_dummies(data_test[categorical_columns])], axis=1)"
   ]
  },
  {
   "cell_type": "markdown",
   "metadata": {
    "id": "p1WXcxi2zE-L"
   },
   "source": [
    "Verificação das colunas que estão no treino e no teste"
   ]
  },
  {
   "cell_type": "code",
   "execution_count": 33,
   "metadata": {
    "colab": {
     "base_uri": "https://localhost:8080/"
    },
    "id": "wY13d0kemD3S",
    "outputId": "7a88081c-6d82-4f15-8771-be3ea69b3e1c"
   },
   "outputs": [
    {
     "data": {
      "text/plain": [
       "{'Country_ Holand-Netherlands'}"
      ]
     },
     "execution_count": 33,
     "metadata": {},
     "output_type": "execute_result"
    }
   ],
   "source": [
    "set(data_train.columns) - set(data_test.columns)"
   ]
  },
  {
   "cell_type": "code",
   "execution_count": 34,
   "metadata": {
    "colab": {
     "base_uri": "https://localhost:8080/"
    },
    "id": "rE85_m5jmD3S",
    "outputId": "d8e4de49-29d0-4958-81d3-96b525d19d33"
   },
   "outputs": [
    {
     "data": {
      "text/plain": [
       "((32561, 106), (16281, 105))"
      ]
     },
     "execution_count": 34,
     "metadata": {},
     "output_type": "execute_result"
    }
   ],
   "source": [
    "data_train.shape, data_test.shape"
   ]
  },
  {
   "cell_type": "markdown",
   "metadata": {
    "id": "mqEJ6nc-mD3T"
   },
   "source": [
    "A coluna `Country_ Holand-Netherlands` não existe no teste. Vamos criar essa coluna, mas preenchê-la com zeros :D"
   ]
  },
  {
   "cell_type": "code",
   "execution_count": 35,
   "metadata": {
    "id": "3InTuo50mD3T"
   },
   "outputs": [],
   "source": [
    "data_test['Country_ Holand-Netherlands'] = 0"
   ]
  },
  {
   "cell_type": "code",
   "execution_count": 36,
   "metadata": {
    "colab": {
     "base_uri": "https://localhost:8080/"
    },
    "id": "ZINfFXCzmD3T",
    "outputId": "dbaae4a4-b4d6-4a4e-9989-4206dc0b2aa2"
   },
   "outputs": [
    {
     "data": {
      "text/plain": [
       "set()"
      ]
     },
     "execution_count": 36,
     "metadata": {},
     "output_type": "execute_result"
    }
   ],
   "source": [
    "set(data_train.columns) - set(data_test.columns)"
   ]
  },
  {
   "cell_type": "code",
   "execution_count": 37,
   "metadata": {
    "colab": {
     "base_uri": "https://localhost:8080/",
     "height": 211
    },
    "id": "kxrtWV8umD3T",
    "outputId": "d8dc4d6c-70b6-43bf-bdcb-2c253e3ca2c0"
   },
   "outputs": [
    {
     "data": {
      "text/html": [
       "<div>\n",
       "<style scoped>\n",
       "    .dataframe tbody tr th:only-of-type {\n",
       "        vertical-align: middle;\n",
       "    }\n",
       "\n",
       "    .dataframe tbody tr th {\n",
       "        vertical-align: top;\n",
       "    }\n",
       "\n",
       "    .dataframe thead th {\n",
       "        text-align: right;\n",
       "    }\n",
       "</style>\n",
       "<table border=\"1\" class=\"dataframe\">\n",
       "  <thead>\n",
       "    <tr style=\"text-align: right;\">\n",
       "      <th></th>\n",
       "      <th>Age</th>\n",
       "      <th>fnlwgt</th>\n",
       "      <th>Education_Num</th>\n",
       "      <th>Capital_Gain</th>\n",
       "      <th>Capital_Loss</th>\n",
       "      <th>Hours_per_week</th>\n",
       "      <th>Target</th>\n",
       "      <th>Workclass_ Federal-gov</th>\n",
       "      <th>Workclass_ Local-gov</th>\n",
       "      <th>Workclass_ Never-worked</th>\n",
       "      <th>...</th>\n",
       "      <th>Country_ Portugal</th>\n",
       "      <th>Country_ Puerto-Rico</th>\n",
       "      <th>Country_ Scotland</th>\n",
       "      <th>Country_ South</th>\n",
       "      <th>Country_ Taiwan</th>\n",
       "      <th>Country_ Thailand</th>\n",
       "      <th>Country_ Trinadad&amp;Tobago</th>\n",
       "      <th>Country_ United-States</th>\n",
       "      <th>Country_ Vietnam</th>\n",
       "      <th>Country_ Yugoslavia</th>\n",
       "    </tr>\n",
       "  </thead>\n",
       "  <tbody>\n",
       "    <tr>\n",
       "      <th>0</th>\n",
       "      <td>39</td>\n",
       "      <td>77516</td>\n",
       "      <td>13</td>\n",
       "      <td>2174</td>\n",
       "      <td>0</td>\n",
       "      <td>40</td>\n",
       "      <td>0</td>\n",
       "      <td>0</td>\n",
       "      <td>0</td>\n",
       "      <td>0</td>\n",
       "      <td>...</td>\n",
       "      <td>0</td>\n",
       "      <td>0</td>\n",
       "      <td>0</td>\n",
       "      <td>0</td>\n",
       "      <td>0</td>\n",
       "      <td>0</td>\n",
       "      <td>0</td>\n",
       "      <td>1</td>\n",
       "      <td>0</td>\n",
       "      <td>0</td>\n",
       "    </tr>\n",
       "    <tr>\n",
       "      <th>1</th>\n",
       "      <td>50</td>\n",
       "      <td>83311</td>\n",
       "      <td>13</td>\n",
       "      <td>0</td>\n",
       "      <td>0</td>\n",
       "      <td>13</td>\n",
       "      <td>0</td>\n",
       "      <td>0</td>\n",
       "      <td>0</td>\n",
       "      <td>0</td>\n",
       "      <td>...</td>\n",
       "      <td>0</td>\n",
       "      <td>0</td>\n",
       "      <td>0</td>\n",
       "      <td>0</td>\n",
       "      <td>0</td>\n",
       "      <td>0</td>\n",
       "      <td>0</td>\n",
       "      <td>1</td>\n",
       "      <td>0</td>\n",
       "      <td>0</td>\n",
       "    </tr>\n",
       "  </tbody>\n",
       "</table>\n",
       "<p>2 rows × 106 columns</p>\n",
       "</div>"
      ],
      "text/plain": [
       "   Age  fnlwgt  Education_Num  Capital_Gain  Capital_Loss  Hours_per_week  \\\n",
       "0   39   77516             13          2174             0              40   \n",
       "1   50   83311             13             0             0              13   \n",
       "\n",
       "   Target  Workclass_ Federal-gov  Workclass_ Local-gov  \\\n",
       "0       0                       0                     0   \n",
       "1       0                       0                     0   \n",
       "\n",
       "   Workclass_ Never-worked  ...  Country_ Portugal  Country_ Puerto-Rico  \\\n",
       "0                        0  ...                  0                     0   \n",
       "1                        0  ...                  0                     0   \n",
       "\n",
       "   Country_ Scotland  Country_ South  Country_ Taiwan  Country_ Thailand  \\\n",
       "0                  0               0                0                  0   \n",
       "1                  0               0                0                  0   \n",
       "\n",
       "   Country_ Trinadad&Tobago  Country_ United-States  Country_ Vietnam  \\\n",
       "0                         0                       1                 0   \n",
       "1                         0                       1                 0   \n",
       "\n",
       "   Country_ Yugoslavia  \n",
       "0                    0  \n",
       "1                    0  \n",
       "\n",
       "[2 rows x 106 columns]"
      ]
     },
     "execution_count": 37,
     "metadata": {},
     "output_type": "execute_result"
    }
   ],
   "source": [
    "data_train.head(2)"
   ]
  },
  {
   "cell_type": "code",
   "execution_count": 38,
   "metadata": {
    "colab": {
     "base_uri": "https://localhost:8080/",
     "height": 211
    },
    "id": "z6YbrSf5mD3T",
    "outputId": "f38a86f4-be30-45d0-b35d-d22101412fa2"
   },
   "outputs": [
    {
     "data": {
      "text/html": [
       "<div>\n",
       "<style scoped>\n",
       "    .dataframe tbody tr th:only-of-type {\n",
       "        vertical-align: middle;\n",
       "    }\n",
       "\n",
       "    .dataframe tbody tr th {\n",
       "        vertical-align: top;\n",
       "    }\n",
       "\n",
       "    .dataframe thead th {\n",
       "        text-align: right;\n",
       "    }\n",
       "</style>\n",
       "<table border=\"1\" class=\"dataframe\">\n",
       "  <thead>\n",
       "    <tr style=\"text-align: right;\">\n",
       "      <th></th>\n",
       "      <th>Age</th>\n",
       "      <th>fnlwgt</th>\n",
       "      <th>Education_Num</th>\n",
       "      <th>Capital_Gain</th>\n",
       "      <th>Capital_Loss</th>\n",
       "      <th>Hours_per_week</th>\n",
       "      <th>Target</th>\n",
       "      <th>Workclass_ Federal-gov</th>\n",
       "      <th>Workclass_ Local-gov</th>\n",
       "      <th>Workclass_ Never-worked</th>\n",
       "      <th>...</th>\n",
       "      <th>Country_ Puerto-Rico</th>\n",
       "      <th>Country_ Scotland</th>\n",
       "      <th>Country_ South</th>\n",
       "      <th>Country_ Taiwan</th>\n",
       "      <th>Country_ Thailand</th>\n",
       "      <th>Country_ Trinadad&amp;Tobago</th>\n",
       "      <th>Country_ United-States</th>\n",
       "      <th>Country_ Vietnam</th>\n",
       "      <th>Country_ Yugoslavia</th>\n",
       "      <th>Country_ Holand-Netherlands</th>\n",
       "    </tr>\n",
       "  </thead>\n",
       "  <tbody>\n",
       "    <tr>\n",
       "      <th>0</th>\n",
       "      <td>25</td>\n",
       "      <td>226802</td>\n",
       "      <td>7</td>\n",
       "      <td>0</td>\n",
       "      <td>0</td>\n",
       "      <td>40</td>\n",
       "      <td>0</td>\n",
       "      <td>0</td>\n",
       "      <td>0</td>\n",
       "      <td>0</td>\n",
       "      <td>...</td>\n",
       "      <td>0</td>\n",
       "      <td>0</td>\n",
       "      <td>0</td>\n",
       "      <td>0</td>\n",
       "      <td>0</td>\n",
       "      <td>0</td>\n",
       "      <td>1</td>\n",
       "      <td>0</td>\n",
       "      <td>0</td>\n",
       "      <td>0</td>\n",
       "    </tr>\n",
       "    <tr>\n",
       "      <th>1</th>\n",
       "      <td>38</td>\n",
       "      <td>89814</td>\n",
       "      <td>9</td>\n",
       "      <td>0</td>\n",
       "      <td>0</td>\n",
       "      <td>50</td>\n",
       "      <td>0</td>\n",
       "      <td>0</td>\n",
       "      <td>0</td>\n",
       "      <td>0</td>\n",
       "      <td>...</td>\n",
       "      <td>0</td>\n",
       "      <td>0</td>\n",
       "      <td>0</td>\n",
       "      <td>0</td>\n",
       "      <td>0</td>\n",
       "      <td>0</td>\n",
       "      <td>1</td>\n",
       "      <td>0</td>\n",
       "      <td>0</td>\n",
       "      <td>0</td>\n",
       "    </tr>\n",
       "  </tbody>\n",
       "</table>\n",
       "<p>2 rows × 106 columns</p>\n",
       "</div>"
      ],
      "text/plain": [
       "   Age  fnlwgt  Education_Num  Capital_Gain  Capital_Loss  Hours_per_week  \\\n",
       "0   25  226802              7             0             0              40   \n",
       "1   38   89814              9             0             0              50   \n",
       "\n",
       "   Target  Workclass_ Federal-gov  Workclass_ Local-gov  \\\n",
       "0       0                       0                     0   \n",
       "1       0                       0                     0   \n",
       "\n",
       "   Workclass_ Never-worked  ...  Country_ Puerto-Rico  Country_ Scotland  \\\n",
       "0                        0  ...                     0                  0   \n",
       "1                        0  ...                     0                  0   \n",
       "\n",
       "   Country_ South  Country_ Taiwan  Country_ Thailand  \\\n",
       "0               0                0                  0   \n",
       "1               0                0                  0   \n",
       "\n",
       "   Country_ Trinadad&Tobago  Country_ United-States  Country_ Vietnam  \\\n",
       "0                         0                       1                 0   \n",
       "1                         0                       1                 0   \n",
       "\n",
       "   Country_ Yugoslavia  Country_ Holand-Netherlands  \n",
       "0                    0                            0  \n",
       "1                    0                            0  \n",
       "\n",
       "[2 rows x 106 columns]"
      ]
     },
     "execution_count": 38,
     "metadata": {},
     "output_type": "execute_result"
    }
   ],
   "source": [
    "data_test.head(2)"
   ]
  },
  {
   "cell_type": "code",
   "execution_count": 39,
   "metadata": {
    "id": "Og40b7m3mD3U"
   },
   "outputs": [],
   "source": [
    "X_train = data_train.drop(['Target'], axis=1)\n",
    "y_train = data_train['Target']\n",
    "\n",
    "X_test = data_test.drop(['Target'], axis=1)\n",
    "y_test = data_test['Target']"
   ]
  },
  {
   "cell_type": "markdown",
   "metadata": {
    "id": "yC2kvD0HmD3U"
   },
   "source": [
    "### 3.1 Árvore de decisão sem ajuste de parâmetro"
   ]
  },
  {
   "cell_type": "markdown",
   "metadata": {
    "id": "_Wbj5nYsmD3U"
   },
   "source": [
    "Treine uma árvore de decisão **(DecisionTreeClassifier)** com **max_depth** de 3 e avalie a *accuracy* nos dados de teste. Use o parâmetro **random_state = 17** para reprodutibilidade dos resultados."
   ]
  },
  {
   "cell_type": "code",
   "execution_count": 42,
   "metadata": {
    "colab": {
     "base_uri": "https://localhost:8080/"
    },
    "id": "3w0eiMEcmD3U",
    "outputId": "fcf8d895-daf5-4448-b19c-f6c36e589c4e"
   },
   "outputs": [],
   "source": [
    "## Seu código aqui\n",
    "dt = DecisionTreeClassifier(max_depth = 3,random_state = 17)\n",
    "dt = dt.fit(X_train, y_train)"
   ]
  },
  {
   "cell_type": "markdown",
   "metadata": {
    "id": "A3kuKXpqmD3U"
   },
   "source": [
    "Faça uma previsão com o modelo treinado nos dados de teste."
   ]
  },
  {
   "cell_type": "code",
   "execution_count": 44,
   "metadata": {
    "id": "xNdGaA2LmD3V"
   },
   "outputs": [
    {
     "name": "stdout",
     "output_type": "stream",
     "text": [
      "[0 0 0 ... 1 0 1]\n"
     ]
    }
   ],
   "source": [
    "## Seu codigo aqui\n",
    "y_pred = dt.predict(X_test)\n",
    "print(y_pred)"
   ]
  },
  {
   "cell_type": "code",
   "execution_count": 46,
   "metadata": {
    "colab": {
     "base_uri": "https://localhost:8080/"
    },
    "id": "dSwhp_xemD3V",
    "outputId": "97883cb6-f164-4941-97f3-e6baa1cd1ac9"
   },
   "outputs": [
    {
     "name": "stdout",
     "output_type": "stream",
     "text": [
      "Accuracy: 0.8447884036607088\n"
     ]
    }
   ],
   "source": [
    "## Seu codigo aqui\n",
    "from sklearn import metrics\n",
    "\n",
    "print(\"Accuracy:\",metrics.accuracy_score(y_test, y_pred))"
   ]
  },
  {
   "cell_type": "markdown",
   "metadata": {
    "id": "u1SLEMccmD3V"
   },
   "source": [
    "3 \\. Qual é a *accuracy* do conjunto da árvore de decisão no teste com **max_depth** da árvore igual a 3 e **random_state = 17**?"
   ]
  },
  {
   "cell_type": "markdown",
   "metadata": {
    "id": "aQX8R_5YmD3V"
   },
   "source": [
    "### 3.2 Árvore de decisão com ajuste de parâmetro"
   ]
  },
  {
   "cell_type": "markdown",
   "metadata": {
    "id": "m6oglz10mD3V"
   },
   "source": [
    "Treine uma árvore de decisão **(usando o random_state = 17).** Encontre a melhor profundidade usando 5-fold cross-validation **[(GridSearchCV)](https://scikit-learn.org/stable/modules/generated/sklearn.model_selection.GridSearchCV.html)**. Com essa classe do Sklearn, você poderá realizar um GridSearch neste parâmetro e automaticamente encontrar o valor que maximiza o desempenho do modelo."
   ]
  },
  {
   "cell_type": "code",
   "execution_count": 49,
   "metadata": {
    "colab": {
     "base_uri": "https://localhost:8080/"
    },
    "id": "tsPI7cNxmD3V",
    "outputId": "f239329d-751f-42db-eebc-bd44354435e7"
   },
   "outputs": [
    {
     "ename": "AttributeError",
     "evalue": "'DecisionTreeClassifier' object has no attribute 'GridSearchCV'",
     "output_type": "error",
     "traceback": [
      "\u001b[1;31m---------------------------------------------------------------------------\u001b[0m",
      "\u001b[1;31mAttributeError\u001b[0m                            Traceback (most recent call last)",
      "\u001b[1;32m<timed exec>\u001b[0m in \u001b[0;36m<module>\u001b[1;34m\u001b[0m\n",
      "\u001b[1;31mAttributeError\u001b[0m: 'DecisionTreeClassifier' object has no attribute 'GridSearchCV'"
     ]
    }
   ],
   "source": [
    "%%time\n",
    "## seu codigo aqui\n",
    "dt = DecisionTreeClassifier(random_state = 17)\n",
    "dt = dt.GridSearchCV()\n",
    "dt = dt.fit(X_train, y_train)\n",
    "\n",
    "\n",
    "\n",
    ">>> from sklearn import svm, datasets\n",
    ">>> from sklearn.model_selection import GridSearchCV\n",
    ">>> iris = datasets.load_iris()\n",
    ">>> parameters = {'kernel':('linear', 'rbf'), 'C':[1, 10]}\n",
    ">>> svc = svm.SVC()\n",
    ">>> clf = GridSearchCV(svc, parameters)\n",
    ">>> clf.fit(iris.data, iris.target)\n",
    "GridSearchCV(estimator=SVC(),\n",
    "             param_grid={'C': [1, 10], 'kernel': ('linear', 'rbf')})\n",
    ">>> sorted(clf.cv_results_.keys())\n",
    "['mean_fit_time', 'mean_score_time', 'mean_test_score',...\n",
    " 'param_C', 'param_kernel', 'params',...\n",
    " 'rank_test_score', 'split0_test_score',...\n",
    " 'split2_test_score', ...\n",
    " 'std_fit_time', 'std_score_time', 'std_test_score']"
   ]
  },
  {
   "cell_type": "code",
   "execution_count": null,
   "metadata": {
    "id": "Ts6ZgP2LmD3W",
    "outputId": "1e7c4919-3b76-4784-ec75-589f85e22a15"
   },
   "outputs": [],
   "source": [
    "print(\"Best params:\", locally_best_tree.best_params_)\n",
    "print(\"Best cross validaton score\", locally_best_tree.best_score_)"
   ]
  },
  {
   "cell_type": "markdown",
   "metadata": {
    "id": "a5xSHmw4GzV6"
   },
   "source": [
    "4. Qual o valor de **max_depth** encontrado pelo GridSearch?"
   ]
  }
 ],
 "metadata": {
  "colab": {
   "name": "ArvoresDeDecisao.ipynb",
   "provenance": []
  },
  "kernelspec": {
   "display_name": "Python 3",
   "language": "python",
   "name": "python3"
  },
  "language_info": {
   "codemirror_mode": {
    "name": "ipython",
    "version": 3
   },
   "file_extension": ".py",
   "mimetype": "text/x-python",
   "name": "python",
   "nbconvert_exporter": "python",
   "pygments_lexer": "ipython3",
   "version": "3.7.3"
  }
 },
 "nbformat": 4,
 "nbformat_minor": 1
}
