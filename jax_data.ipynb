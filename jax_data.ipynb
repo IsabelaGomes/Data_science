{
  "nbformat": 4,
  "nbformat_minor": 0,
  "metadata": {
    "colab": {
      "name": "jax_data.ipynb",
      "provenance": [],
      "collapsed_sections": []
    },
    "kernelspec": {
      "name": "python3",
      "display_name": "Python 3"
    },
    "language_info": {
      "name": "python"
    },
    "accelerator": "GPU"
  },
  "cells": [
    {
      "cell_type": "code",
      "metadata": {
        "id": "vKLe55YCW5wb"
      },
      "source": [
        "import matplotlib.pyplot as plt\n",
        "import numpy as np\n",
        "# JAX\n",
        "import jax\n",
        "from jax import nn\n",
        "import jax.numpy as jnp\n",
        "\n",
        "from tensorflow import keras\n",
        "# # \"Fixar\" números aleatórios a serem gerados\n",
        "np.random.seed(0)"
      ],
      "execution_count": null,
      "outputs": []
    },
    {
      "cell_type": "code",
      "metadata": {
        "id": "yybEbE8PXpcr",
        "colab": {
          "base_uri": "https://localhost:8080/"
        },
        "outputId": "d85e3a88-c03c-4e3b-fae7-1cd3ebec9ea0"
      },
      "source": [
        "# the data, split between train and test sets\n",
        "(x_train, y_train), (x_test, y_test) = keras.datasets.mnist.load_data()\n",
        "\n",
        "# Scale images to the [0, 1] range\n",
        "x_train = x_train.reshape(-1, 32, 28*28).astype(\"float32\") / 255\n",
        "x_test = x_test.reshape(-1, 16, 28*28).astype(\"float32\") / 255\n",
        "\n",
        "# convert class vectors to binary class matrices\n",
        "num_classes = 10\n",
        "y_train = keras.utils.to_categorical(y_train, num_classes).reshape(-1, 32, 10)\n",
        "y_test = keras.utils.to_categorical(y_test, num_classes).reshape(-1, 16, 10)"
      ],
      "execution_count": null,
      "outputs": [
        {
          "output_type": "stream",
          "text": [
            "Downloading data from https://storage.googleapis.com/tensorflow/tf-keras-datasets/mnist.npz\n",
            "11493376/11490434 [==============================] - 0s 0us/step\n"
          ],
          "name": "stdout"
        }
      ]
    },
    {
      "cell_type": "code",
      "metadata": {
        "id": "Sk9ZY95sYFfE"
      },
      "source": [
        "def define_params(sizes=[1, 1]):\n",
        "    weights = []\n",
        "    for (in_dim, out_dim) in zip(sizes[:-1], sizes[1:]):\n",
        "        weights.append({\"w\": np.random.randn(in_dim, out_dim) * np.sqrt(2/in_dim), \n",
        "                        \"b\": np.zeros(out_dim)})           \n",
        "    \n",
        "    return weights\n",
        "\n",
        "\n",
        "def apply_fn(weights, batch_x, activations):\n",
        "    output = batch_x\n",
        "    for layer, act_fn in zip(weights, activations):\n",
        "        output = jnp.dot(output, layer[\"w\"]) + layer[\"b\"]\n",
        "        output = act_fn(output)\n",
        "    return output\n",
        "\n",
        "def cross_entropy(weights, batch_x, real_y, activations):\n",
        "    pred_y = apply_fn(weights, batch_x, activations)\n",
        "    real_y = jnp.asarray(real_y)\n",
        "    return -jnp.mean(jnp.sum(pred_y * real_y, axis=1))"
      ],
      "execution_count": null,
      "outputs": []
    },
    {
      "cell_type": "code",
      "metadata": {
        "id": "5UJXOJkxZX1x"
      },
      "source": [
        "def _accuracy(pred_y, real_y):\n",
        "    p = np.argmax(pred_y, axis=1)\n",
        "    real_y = np.argmax(real_y, axis=1)\n",
        "    return np.sum(p == real_y) / len(pred_y)\n",
        "\n",
        "@jax.jit\n",
        "def evaluate(weights, batch_x, batch_y):\n",
        "    # run feed forward network\n",
        "    pred_y = apply_fn(weights, batch_x, activations)\n",
        "    # loss\n",
        "    loss = cross_entropy(weights, batch_x, batch_y, activations)\n",
        "    return loss, _accuracy(pred_y, batch_y)"
      ],
      "execution_count": null,
      "outputs": []
    },
    {
      "cell_type": "code",
      "metadata": {
        "id": "fZODtzgJZcvC"
      },
      "source": [
        "@jax.jit\n",
        "def train_step(weights, batch_x, batch_y, lr=0.03):\n",
        "    loss, grads = jax.value_and_grad(cross_entropy)(weights, batch_x, batch_y, activations)\n",
        "    weights = jax.tree_util.tree_multimap(lambda v, g: v - lr*g, weights, grads)\n",
        "    return weights, loss"
      ],
      "execution_count": null,
      "outputs": []
    },
    {
      "cell_type": "code",
      "metadata": {
        "id": "dKARpHN0ZuTb"
      },
      "source": [
        "nn = define_params(sizes=[28*28, 1024, num_classes])\n",
        "activations=[jax.nn.relu, jax.nn.softmax]\n",
        "train_losses = []\n",
        "eval_losses = []\n",
        "metrics = []"
      ],
      "execution_count": null,
      "outputs": []
    },
    {
      "cell_type": "code",
      "metadata": {
        "id": "XBeh8khnah7a"
      },
      "source": [
        "for i in range(10):\n",
        "  avg_loss = 0\n",
        "  for (batch_x, batch_y) in zip(x_train, y_train):\n",
        "    nn, loss = train_step(nn, batch_x, batch_y)\n",
        "    avg_loss += loss\n",
        "  train_losses.append(avg_loss/len(x_train))\n",
        "\n",
        "  avg_acc = 0\n",
        "  avg_loss = 0\n",
        "  for (batch_x, batch_y) in zip(x_test, y_test):\n",
        "    loss, acc = evaluate(nn, batch_x, batch_y)\n",
        "    avg_acc += acc\n",
        "    avg_loss += loss\n",
        "  eval_losses.append(loss/len(x_test))\n",
        "  metrics.append(avg_acc/len(x_test))"
      ],
      "execution_count": null,
      "outputs": []
    },
    {
      "cell_type": "code",
      "metadata": {
        "colab": {
          "base_uri": "https://localhost:8080/",
          "height": 284
        },
        "id": "0ZQzktYybXFG",
        "outputId": "2021360e-7ffb-4bab-b25d-d37f8bebe424"
      },
      "source": [
        "plt.plot(range(len(metrics)), metrics)"
      ],
      "execution_count": null,
      "outputs": [
        {
          "output_type": "execute_result",
          "data": {
            "text/plain": [
              "[<matplotlib.lines.Line2D at 0x7fdff01adbd0>]"
            ]
          },
          "metadata": {
            "tags": []
          },
          "execution_count": 8
        },
        {
          "output_type": "display_data",
          "data": {
            "image/png": "[encoded data removed]",
            "text/plain": [
              "<Figure size 432x288 with 1 Axes>"
            ]
          },
          "metadata": {
            "tags": [],
            "needs_background": "light"
          }
        }
      ]
    },
    {
      "cell_type": "code",
      "metadata": {
        "colab": {
          "base_uri": "https://localhost:8080/",
          "height": 282
        },
        "id": "PtF7Z3phcuy2",
        "outputId": "65028a12-5b82-4d68-c63a-5473f7a22770"
      },
      "source": [
        "plt.plot(range(len(train_losses)), train_losses)"
      ],
      "execution_count": null,
      "outputs": [
        {
          "output_type": "execute_result",
          "data": {
            "text/plain": [
              "[<matplotlib.lines.Line2D at 0x7fdff00cbd10>]"
            ]
          },
          "metadata": {
            "tags": []
          },
          "execution_count": 9
        },
        {
          "output_type": "display_data",
          "data": {
            "image/png": "[encoded data removed]",
            "text/plain": [
              "<Figure size 432x288 with 1 Axes>"
            ]
          },
          "metadata": {
            "tags": [],
            "needs_background": "light"
          }
        }
      ]
    },
    {
      "cell_type": "code",
      "metadata": {
        "colab": {
          "base_uri": "https://localhost:8080/",
          "height": 283
        },
        "id": "MYASlojMv58U",
        "outputId": "fc6582f8-02b2-4f9f-b11b-2d4999c10d2d"
      },
      "source": [
        "plt.plot(range(len(eval_losses)), eval_losses)"
      ],
      "execution_count": null,
      "outputs": [
        {
          "output_type": "execute_result",
          "data": {
            "text/plain": [
              "[<matplotlib.lines.Line2D at 0x7fdff0098ed0>]"
            ]
          },
          "metadata": {
            "tags": []
          },
          "execution_count": 11
        },
        {
          "output_type": "display_data",
          "data": {
            "image/png": "[encoded data removed]",
            "text/plain": [
              "<Figure size 432x288 with 1 Axes>"
            ]
          },
          "metadata": {
            "tags": [],
            "needs_background": "light"
          }
        }
      ]
    }
  ]
}